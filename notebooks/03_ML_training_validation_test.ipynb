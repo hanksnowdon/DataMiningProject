{
 "cells": [
  {
   "cell_type": "code",
   "execution_count": 1,
   "id": "initial_id",
   "metadata": {
    "collapsed": true,
    "jupyter": {
     "outputs_hidden": true
    },
    "ExecuteTime": {
     "end_time": "2024-02-26T17:27:14.505561Z",
     "start_time": "2024-02-26T17:27:14.500120Z"
    }
   },
   "outputs": [],
   "source": [
    "## Set-up.\n",
    "### Libraries\n",
    "import os\n",
    "import numpy as np\n",
    "import pandas as pd\n",
    "import matplotlib.pyplot as plt\n",
    "import seaborn as sns\n"
   ]
  },
  {
   "cell_type": "code",
   "execution_count": 2,
   "id": "37f5e59bb1acf5ff",
   "metadata": {
    "collapsed": false,
    "ExecuteTime": {
     "end_time": "2024-02-26T17:27:15.845232Z",
     "start_time": "2024-02-26T17:27:14.511521Z"
    }
   },
   "outputs": [],
   "source": [
    "! pip freeze > '../requirements.txt'"
   ]
  },
  {
   "cell_type": "code",
   "execution_count": 3,
   "id": "7799ed67d21051b3",
   "metadata": {
    "collapsed": false,
    "ExecuteTime": {
     "end_time": "2024-02-26T17:27:17.423356Z",
     "start_time": "2024-02-26T17:27:17.329287Z"
    }
   },
   "outputs": [],
   "source": [
    "DATA_PATH = '../dataset/'"
   ]
  },
  {
   "cell_type": "code",
   "execution_count": 4,
   "id": "54beca3be7fd9566",
   "metadata": {
    "collapsed": false,
    "ExecuteTime": {
     "end_time": "2024-02-26T17:27:19.008720Z",
     "start_time": "2024-02-26T17:27:18.728267Z"
    }
   },
   "outputs": [],
   "source": [
    "data = pd.read_parquet(os.path.join(DATA_PATH,'data_eng.gzip'))"
   ]
  },
  {
   "cell_type": "code",
   "execution_count": 5,
   "id": "3366a48b719c2461",
   "metadata": {
    "collapsed": false,
    "ExecuteTime": {
     "end_time": "2024-02-26T17:27:19.312331Z",
     "start_time": "2024-02-26T17:27:19.227905Z"
    }
   },
   "outputs": [
    {
     "data": {
      "text/plain": "     age   gender      education                class  \\\n0    63+   Female     highschool                   NA   \n1    63+   Female     highschool                   NA   \n2  18_24     Male  no_highschool   Federal government   \n4    63+     Male     highschool                   NA   \n5  33_45     Male      bachelors              Private   \n\n                     marital_status                        race is_hispanic  \\\n0                           Widowed                       White          No   \n1                           Widowed                       White          No   \n2                     Never married                       Black          No   \n4   Married-civilian spouse present                       White          No   \n5   Married-civilian spouse present   Asian or Pacific Islander          No   \n\n       employment_commitment employment_stat wage_per_hour  \\\n0                 Unemployed               0          0_10   \n1   Children or Armed Forces               0          0_10   \n2   Children or Armed Forces               0       101_500   \n4                 Unemployed               0          0_10   \n5   Children or Armed Forces               0      501_1000   \n\n  working_week_per_year            industry_code_main  \\\n0    weeks_worked_48_52   Not in universe or children   \n1        weeks_worked_0   Not in universe or children   \n2     weeks_worked_1_25             Hospital services   \n4        weeks_worked_0   Not in universe or children   \n5    weeks_worked_48_52                  Retail trade   \n\n              occupation_code_main       household_summary vet_benefit  \\\n0                               NA             Householder           2   \n1                               NA             Householder           2   \n2   Adm support including clerical       Child 18 or older           2   \n4                               NA   Spouse of householder           2   \n5                    Other service             Householder           2   \n\n             tax_status                           citizenship  \\\n0     Head of household                                Native   \n1                Single                                Native   \n2                Single                                Native   \n4        Joint both 65+                                Native   \n5   Joint both under 65   Foreign born- Not a citizen of U S    \n\n   income_above_limit  investments  \n0                   0         True  \n1                   0        False  \n2                   0        False  \n4                   0        False  \n5                   0        False  ",
      "text/html": "<div>\n<style scoped>\n    .dataframe tbody tr th:only-of-type {\n        vertical-align: middle;\n    }\n\n    .dataframe tbody tr th {\n        vertical-align: top;\n    }\n\n    .dataframe thead th {\n        text-align: right;\n    }\n</style>\n<table border=\"1\" class=\"dataframe\">\n  <thead>\n    <tr style=\"text-align: right;\">\n      <th></th>\n      <th>age</th>\n      <th>gender</th>\n      <th>education</th>\n      <th>class</th>\n      <th>marital_status</th>\n      <th>race</th>\n      <th>is_hispanic</th>\n      <th>employment_commitment</th>\n      <th>employment_stat</th>\n      <th>wage_per_hour</th>\n      <th>working_week_per_year</th>\n      <th>industry_code_main</th>\n      <th>occupation_code_main</th>\n      <th>household_summary</th>\n      <th>vet_benefit</th>\n      <th>tax_status</th>\n      <th>citizenship</th>\n      <th>income_above_limit</th>\n      <th>investments</th>\n    </tr>\n  </thead>\n  <tbody>\n    <tr>\n      <th>0</th>\n      <td>63+</td>\n      <td>Female</td>\n      <td>highschool</td>\n      <td>NA</td>\n      <td>Widowed</td>\n      <td>White</td>\n      <td>No</td>\n      <td>Unemployed</td>\n      <td>0</td>\n      <td>0_10</td>\n      <td>weeks_worked_48_52</td>\n      <td>Not in universe or children</td>\n      <td>NA</td>\n      <td>Householder</td>\n      <td>2</td>\n      <td>Head of household</td>\n      <td>Native</td>\n      <td>0</td>\n      <td>True</td>\n    </tr>\n    <tr>\n      <th>1</th>\n      <td>63+</td>\n      <td>Female</td>\n      <td>highschool</td>\n      <td>NA</td>\n      <td>Widowed</td>\n      <td>White</td>\n      <td>No</td>\n      <td>Children or Armed Forces</td>\n      <td>0</td>\n      <td>0_10</td>\n      <td>weeks_worked_0</td>\n      <td>Not in universe or children</td>\n      <td>NA</td>\n      <td>Householder</td>\n      <td>2</td>\n      <td>Single</td>\n      <td>Native</td>\n      <td>0</td>\n      <td>False</td>\n    </tr>\n    <tr>\n      <th>2</th>\n      <td>18_24</td>\n      <td>Male</td>\n      <td>no_highschool</td>\n      <td>Federal government</td>\n      <td>Never married</td>\n      <td>Black</td>\n      <td>No</td>\n      <td>Children or Armed Forces</td>\n      <td>0</td>\n      <td>101_500</td>\n      <td>weeks_worked_1_25</td>\n      <td>Hospital services</td>\n      <td>Adm support including clerical</td>\n      <td>Child 18 or older</td>\n      <td>2</td>\n      <td>Single</td>\n      <td>Native</td>\n      <td>0</td>\n      <td>False</td>\n    </tr>\n    <tr>\n      <th>4</th>\n      <td>63+</td>\n      <td>Male</td>\n      <td>highschool</td>\n      <td>NA</td>\n      <td>Married-civilian spouse present</td>\n      <td>White</td>\n      <td>No</td>\n      <td>Unemployed</td>\n      <td>0</td>\n      <td>0_10</td>\n      <td>weeks_worked_0</td>\n      <td>Not in universe or children</td>\n      <td>NA</td>\n      <td>Spouse of householder</td>\n      <td>2</td>\n      <td>Joint both 65+</td>\n      <td>Native</td>\n      <td>0</td>\n      <td>False</td>\n    </tr>\n    <tr>\n      <th>5</th>\n      <td>33_45</td>\n      <td>Male</td>\n      <td>bachelors</td>\n      <td>Private</td>\n      <td>Married-civilian spouse present</td>\n      <td>Asian or Pacific Islander</td>\n      <td>No</td>\n      <td>Children or Armed Forces</td>\n      <td>0</td>\n      <td>501_1000</td>\n      <td>weeks_worked_48_52</td>\n      <td>Retail trade</td>\n      <td>Other service</td>\n      <td>Householder</td>\n      <td>2</td>\n      <td>Joint both under 65</td>\n      <td>Foreign born- Not a citizen of U S</td>\n      <td>0</td>\n      <td>False</td>\n    </tr>\n  </tbody>\n</table>\n</div>"
     },
     "execution_count": 5,
     "metadata": {},
     "output_type": "execute_result"
    }
   ],
   "source": [
    "data.head()"
   ]
  },
  {
   "cell_type": "code",
   "execution_count": 6,
   "id": "dc0f600cf34b37fb",
   "metadata": {
    "collapsed": false,
    "ExecuteTime": {
     "end_time": "2024-02-26T17:27:20.746925Z",
     "start_time": "2024-02-26T17:27:20.499745Z"
    }
   },
   "outputs": [],
   "source": [
    "from sklearn.model_selection import RandomizedSearchCV, train_test_split"
   ]
  },
  {
   "cell_type": "code",
   "execution_count": 7,
   "id": "f8138a90bac7b26d",
   "metadata": {
    "collapsed": false,
    "ExecuteTime": {
     "end_time": "2024-02-26T17:27:21.949491Z",
     "start_time": "2024-02-26T17:27:21.873195Z"
    }
   },
   "outputs": [],
   "source": [
    "X_train, X_test, y_train, y_test = train_test_split(data.drop('income_above_limit', axis=1), data['income_above_limit'], test_size=0.3, random_state=12345)"
   ]
  },
  {
   "cell_type": "code",
   "execution_count": 7,
   "id": "30701b4bb98c057b",
   "metadata": {
    "collapsed": false,
    "ExecuteTime": {
     "end_time": "2024-02-26T17:27:24.132187Z",
     "start_time": "2024-02-26T17:27:24.082843Z"
    }
   },
   "outputs": [],
   "source": []
  },
  {
   "cell_type": "code",
   "execution_count": 8,
   "id": "6d5c06ac7b5dc345",
   "metadata": {
    "collapsed": false,
    "ExecuteTime": {
     "end_time": "2024-02-26T17:27:24.756405Z",
     "start_time": "2024-02-26T17:27:24.599363Z"
    }
   },
   "outputs": [],
   "source": [
    "from sklearn.compose import ColumnTransformer\n",
    "from sklearn.impute import SimpleImputer\n",
    "from sklearn.pipeline import Pipeline\n",
    "from sklearn.preprocessing import StandardScaler, OneHotEncoder\n",
    "\n",
    "preprocessor = Pipeline(\n",
    "    steps=[\n",
    "        ('impute',SimpleImputer(strategy='most_frequent')),\n",
    "        ('encoder', OneHotEncoder(handle_unknown=\"ignore\"))\n",
    "        ]\n",
    ")"
   ]
  },
  {
   "cell_type": "code",
   "execution_count": 9,
   "id": "2b59112ae7a51795",
   "metadata": {
    "collapsed": false,
    "ExecuteTime": {
     "end_time": "2024-02-26T17:27:26.766580Z",
     "start_time": "2024-02-26T17:27:25.680542Z"
    }
   },
   "outputs": [],
   "source": [
    "X_tr_pr = preprocessor.fit_transform(X_train)"
   ]
  },
  {
   "cell_type": "code",
   "execution_count": 10,
   "id": "68764424afbc067",
   "metadata": {
    "collapsed": false,
    "ExecuteTime": {
     "end_time": "2024-02-26T17:27:28.048320Z",
     "start_time": "2024-02-26T17:27:27.811302Z"
    }
   },
   "outputs": [],
   "source": [
    "X_tst_pr = preprocessor.transform(X_test)"
   ]
  },
  {
   "cell_type": "code",
   "execution_count": 15,
   "id": "e5278e6cff7ec7e6",
   "metadata": {
    "collapsed": false,
    "ExecuteTime": {
     "end_time": "2024-02-26T17:37:34.916965Z",
     "start_time": "2024-02-26T17:37:34.855733Z"
    }
   },
   "outputs": [],
   "source": [
    "from sklearn.model_selection import GridSearchCV\n",
    "from sklearn.metrics import roc_auc_score as ROC\n",
    "\n",
    "def dmp_first_classifier(model, train_x, train_y, test_x, test_y, parameters ={}, sc=None):\n",
    "    classifier = model()\n",
    "    if len(parameters.items())>0:\n",
    "        searcher = GridSearchCV(classifier, parameters, cv=5, scoring=sc)\n",
    "        searcher.fit(train_x, train_y)\n",
    "        print(f'Model {model}')\n",
    "        print(\"Best CV params\", searcher.best_params_)\n",
    "        #print(\"Test accuracy of best grid search hypers:\", searcher.score(test_x, test_y))\n",
    "        best_model = searcher.best_estimator_\n",
    "    else: best_model = classifier\n",
    "    best_model.fit(train_x, train_y)\n",
    "    print(\"Test accuracy of best grid search hypers:\", best_model.score(test_x, test_y))\n",
    "    return best_model\n",
    "\n",
    "def train_accuracy(model, train_x, train_y, test_x, test_y):\n",
    "    model.fit(train_x, train_y)\n",
    "    print(\"Test accuracy:\", model.score(test_x, test_y))\n",
    "    return model"
   ]
  },
  {
   "cell_type": "code",
   "execution_count": 12,
   "id": "693f3c8ff812ebb1",
   "metadata": {
    "collapsed": false,
    "ExecuteTime": {
     "end_time": "2024-02-26T17:27:41.931701Z",
     "start_time": "2024-02-26T17:27:36.691504Z"
    }
   },
   "outputs": [
    {
     "name": "stdout",
     "output_type": "stream",
     "text": [
      "Model <class 'sklearn.linear_model._logistic.LogisticRegression'>\n",
      "Best CV params {'C': 0.1}\n",
      "Test accuracy of best grid search hypers: 0.9309979237531475\n"
     ]
    }
   ],
   "source": [
    "from sklearn.linear_model import LogisticRegression\n",
    "lrg = LogisticRegression\n",
    "parameters = {'C':[0.01,0.1,1]}\n",
    "best_lrg = dmp_first_classifier(lrg, X_tr_pr, y_train, X_tst_pr, y_test, parameters)"
   ]
  },
  {
   "cell_type": "code",
   "execution_count": 22,
   "id": "85797d85931f907",
   "metadata": {
    "ExecuteTime": {
     "end_time": "2024-02-25T15:31:42.963635Z",
     "start_time": "2024-02-25T14:59:18.404406Z"
    },
    "collapsed": false
   },
   "outputs": [
    {
     "name": "stdout",
     "output_type": "stream",
     "text": [
      "Model <class 'sklearn.neighbors._classification.KNeighborsClassifier'>\n",
      "Best CV params {'n_neighbors': 50}\n",
      "Test accuracy of best grid search hypers: 0.9288112382382825\n"
     ]
    }
   ],
   "source": [
    "from sklearn.neighbors import KNeighborsClassifier\n",
    "knc = KNeighborsClassifier\n",
    "parameters = {'n_neighbors':[5,10,50]}\n",
    "best_knc = dmp_first_classifier(knc, X_tr_pr, y_train, X_tst_pr, y_test, parameters)"
   ]
  },
  {
   "cell_type": "code",
   "execution_count": 23,
   "id": "3dd060ce0ed44d99",
   "metadata": {
    "ExecuteTime": {
     "end_time": "2024-02-25T16:02:53.429097Z",
     "start_time": "2024-02-25T15:31:42.961398Z"
    },
    "collapsed": false
   },
   "outputs": [
    {
     "name": "stdout",
     "output_type": "stream",
     "text": [
      "Model <class 'sklearn.ensemble._forest.RandomForestClassifier'>\n",
      "Best CV params {'min_samples_leaf': 5, 'n_estimators': 50}\n",
      "Test accuracy of best grid search hypers: 0.9310420992180942\n"
     ]
    }
   ],
   "source": [
    "from sklearn.ensemble import RandomForestClassifier\n",
    "rfc = RandomForestClassifier\n",
    "parameters = {'n_estimators':[100,50], 'min_samples_leaf':[1,5,10,20]}\n",
    "best_rfc = dmp_first_classifier(rfc, X_tr_pr, y_train, X_tst_pr, y_test, parameters)"
   ]
  },
  {
   "cell_type": "code",
   "execution_count": 50,
   "id": "10e6a4e0e32d8707",
   "metadata": {
    "ExecuteTime": {
     "end_time": "2024-02-25T16:53:08.575476Z",
     "start_time": "2024-02-25T16:53:04.148019Z"
    },
    "collapsed": false
   },
   "outputs": [
    {
     "name": "stdout",
     "output_type": "stream",
     "text": [
      "Model <class 'sklearn.linear_model._stochastic_gradient.SGDClassifier'>\n",
      "Best CV params {'loss': 'log_loss'}\n",
      "Test accuracy of best grid search hypers: 0.9313292397402483\n"
     ]
    }
   ],
   "source": [
    "from sklearn.linear_model import SGDClassifier\n",
    "sgdc = SGDClassifier\n",
    "parameters = {'loss':['hinge','log_loss']}\n",
    "best_sgdc = dmp_first_classifier(sgdc, X_tr_pr, y_train, X_tst_pr, y_test, parameters)\n"
   ]
  },
  {
   "cell_type": "code",
   "execution_count": 29,
   "id": "394844e5c940cd4",
   "metadata": {
    "ExecuteTime": {
     "end_time": "2024-02-25T16:42:59.338179Z",
     "start_time": "2024-02-25T16:26:56.938057Z"
    },
    "collapsed": false
   },
   "outputs": [
    {
     "name": "stdout",
     "output_type": "stream",
     "text": [
      "Model <class 'sklearn.ensemble._gb.GradientBoostingClassifier'>\n",
      "Best CV params {'learning_rate': 0.1, 'min_samples_leaf': 10, 'n_estimators': 100}\n",
      "Test accuracy of best grid search hypers: 0.9310200114856209\n"
     ]
    }
   ],
   "source": [
    "from sklearn.ensemble import GradientBoostingClassifier\n",
    "gbc = GradientBoostingClassifier\n",
    "parameters = {'learning_rate':[0.01,0.1,1], 'n_estimators':[100,50], 'min_samples_leaf':[1,5,10,20]}\n",
    "best_gbc = dmp_first_classifier(gbc, X_tr_pr, y_train, X_tst_pr, y_test, parameters)"
   ]
  },
  {
   "cell_type": "code",
   "execution_count": 16,
   "id": "e6be298f7e27f669",
   "metadata": {
    "collapsed": false,
    "ExecuteTime": {
     "end_time": "2024-02-26T17:38:39.476488Z",
     "start_time": "2024-02-26T17:37:40.262029Z"
    }
   },
   "outputs": [
    {
     "name": "stdout",
     "output_type": "stream",
     "text": [
      "Model <class 'xgboost.sklearn.XGBClassifier'>\n",
      "Best CV params {'eta': 0.1, 'max_depth': 6}\n",
      "Test accuracy of best grid search hypers: 0.9325661527587578\n"
     ]
    }
   ],
   "source": [
    "import xgboost as xgb\n",
    "xgbc = xgb.XGBClassifier\n",
    "parameters = {'eta':[0.1,0.3,0.5,1],'max_depth':[3,6,10]}\n",
    "best_xgbc = dmp_first_classifier(xgbc, X_tr_pr, y_train, X_tst_pr, y_test, parameters)\n",
    "\n"
   ]
  },
  {
   "cell_type": "code",
   "execution_count": 23,
   "outputs": [
    {
     "name": "stdout",
     "output_type": "stream",
     "text": [
      "Model <class 'xgboost.sklearn.XGBClassifier'>\n",
      "Best CV params {'eta': 0.5, 'max_depth': 3, 'scale_pos_weight': 1}\n",
      "Test accuracy of best grid search hypers: 0.9323452754340239\n"
     ]
    }
   ],
   "source": [
    "xgbc = xgb.XGBClassifier\n",
    "parameters = {'eta':[0.1,0.3,0.5,1],'max_depth':[3,6,10], 'scale_pos_weight':[0.1,1,10]}\n",
    "\n",
    "best_xgbc_w = dmp_first_classifier(xgbc, X_tr_pr, y_train, X_tst_pr, y_test, parameters, sc='roc_auc')"
   ],
   "metadata": {
    "collapsed": false,
    "ExecuteTime": {
     "end_time": "2024-02-26T17:51:38.630450Z",
     "start_time": "2024-02-26T17:49:03.771649Z"
    }
   },
   "id": "72542a380cf4c7ff"
  },
  {
   "cell_type": "markdown",
   "id": "65a39052cd9c7580",
   "metadata": {
    "collapsed": false
   },
   "source": [
    "### Score TOP-3"
   ]
  },
  {
   "cell_type": "code",
   "execution_count": 21,
   "id": "ed4856bcaf63daeb",
   "metadata": {
    "collapsed": false,
    "ExecuteTime": {
     "end_time": "2024-02-26T17:47:41.445313Z",
     "start_time": "2024-02-26T17:47:41.392881Z"
    }
   },
   "outputs": [],
   "source": [
    "from sklearn import metrics\n",
    "\n",
    "def score_model(model, X, y):\n",
    "    predicted = model.predict(X)\n",
    "    probs = model.predict_proba(X)\n",
    "    \n",
    "    # Generate and display different evaluation metrics\n",
    "    print(metrics.accuracy_score(y, predicted))\n",
    "    print(metrics.roc_auc_score(y, probs[:, 1]))\n",
    "    \n",
    "    print(metrics.confusion_matrix(y, predicted))\n",
    "    print(metrics.classification_report(y, predicted))"
   ]
  },
  {
   "cell_type": "code",
   "execution_count": 33,
   "id": "d8b5a060a0c06079",
   "metadata": {
    "ExecuteTime": {
     "end_time": "2024-02-25T16:44:21.579067Z",
     "start_time": "2024-02-25T16:44:21.350829Z"
    },
    "collapsed": false
   },
   "outputs": [
    {
     "name": "stdout",
     "output_type": "stream",
     "text": [
      "0.9325661527587578\n",
      "0.9167021727191886\n",
      "[[40820   611]\n",
      " [ 2442  1401]]\n",
      "              precision    recall  f1-score   support\n",
      "\n",
      "           0       0.94      0.99      0.96     41431\n",
      "           1       0.70      0.36      0.48      3843\n",
      "\n",
      "    accuracy                           0.93     45274\n",
      "   macro avg       0.82      0.67      0.72     45274\n",
      "weighted avg       0.92      0.93      0.92     45274\n"
     ]
    }
   ],
   "source": [
    "score_model(best_xgbc, X_tst_pr, y_test)"
   ]
  },
  {
   "cell_type": "code",
   "execution_count": 22,
   "outputs": [
    {
     "name": "stdout",
     "output_type": "stream",
     "text": [
      "0.9323452754340239\n",
      "0.9174461935473628\n",
      "[[40756   675]\n",
      " [ 2388  1455]]\n",
      "              precision    recall  f1-score   support\n",
      "\n",
      "           0       0.94      0.98      0.96     41431\n",
      "           1       0.68      0.38      0.49      3843\n",
      "\n",
      "    accuracy                           0.93     45274\n",
      "   macro avg       0.81      0.68      0.73     45274\n",
      "weighted avg       0.92      0.93      0.92     45274\n"
     ]
    }
   ],
   "source": [
    "score_model(best_xgbc_w, X_tst_pr, y_test)"
   ],
   "metadata": {
    "collapsed": false,
    "ExecuteTime": {
     "end_time": "2024-02-26T17:47:45.823440Z",
     "start_time": "2024-02-26T17:47:45.583355Z"
    }
   },
   "id": "595fbfa506ec0a9b"
  },
  {
   "cell_type": "code",
   "execution_count": 51,
   "id": "a1f0d2b8143c674d",
   "metadata": {
    "ExecuteTime": {
     "end_time": "2024-02-25T16:54:45.619377Z",
     "start_time": "2024-02-25T16:54:45.474116Z"
    },
    "collapsed": false
   },
   "outputs": [
    {
     "name": "stdout",
     "output_type": "stream",
     "text": [
      "0.9313292397402483\n",
      "0.913067048836337\n",
      "[[40772   659]\n",
      " [ 2450  1393]]\n",
      "              precision    recall  f1-score   support\n",
      "\n",
      "           0       0.94      0.98      0.96     41431\n",
      "           1       0.68      0.36      0.47      3843\n",
      "\n",
      "    accuracy                           0.93     45274\n",
      "   macro avg       0.81      0.67      0.72     45274\n",
      "weighted avg       0.92      0.93      0.92     45274\n"
     ]
    }
   ],
   "source": [
    "score_model(best_sgdc, X_tst_pr, y_test)"
   ]
  },
  {
   "cell_type": "code",
   "execution_count": 35,
   "id": "9a3f31a49e440822",
   "metadata": {
    "ExecuteTime": {
     "end_time": "2024-02-25T16:44:24.914638Z",
     "start_time": "2024-02-25T16:44:23.978044Z"
    },
    "collapsed": false
   },
   "outputs": [
    {
     "name": "stdout",
     "output_type": "stream",
     "text": [
      "0.9310420992180942\n",
      "0.9121019775908745\n",
      "[[41000   431]\n",
      " [ 2691  1152]]\n",
      "              precision    recall  f1-score   support\n",
      "\n",
      "           0       0.94      0.99      0.96     41431\n",
      "           1       0.73      0.30      0.42      3843\n",
      "\n",
      "    accuracy                           0.93     45274\n",
      "   macro avg       0.83      0.64      0.69     45274\n",
      "weighted avg       0.92      0.93      0.92     45274\n"
     ]
    }
   ],
   "source": [
    "score_model(best_rfc, X_tst_pr, y_test)"
   ]
  },
  {
   "cell_type": "markdown",
   "id": "feb7f9c9461c96a7",
   "metadata": {
    "collapsed": false
   },
   "source": [
    "## Plus clusters"
   ]
  },
  {
   "cell_type": "code",
   "execution_count": 36,
   "id": "bd064b63f928d7a0",
   "metadata": {
    "ExecuteTime": {
     "end_time": "2024-02-25T16:44:49.544641Z",
     "start_time": "2024-02-25T16:44:49.478772Z"
    },
    "collapsed": false
   },
   "outputs": [],
   "source": [
    "from kmodes.kmodes import KModes"
   ]
  },
  {
   "cell_type": "code",
   "execution_count": 37,
   "id": "901e9d722eee579",
   "metadata": {
    "ExecuteTime": {
     "end_time": "2024-02-25T16:48:55.482478Z",
     "start_time": "2024-02-25T16:44:50.848168Z"
    },
    "collapsed": false
   },
   "outputs": [
    {
     "name": "stdout",
     "output_type": "stream",
     "text": [
      "Best run was number 10\n"
     ]
    },
    {
     "data": {
      "text/html": [
       "<style>#sk-container-id-2 {\n",
       "  /* Definition of color scheme common for light and dark mode */\n",
       "  --sklearn-color-text: black;\n",
       "  --sklearn-color-line: gray;\n",
       "  /* Definition of color scheme for unfitted estimators */\n",
       "  --sklearn-color-unfitted-level-0: #fff5e6;\n",
       "  --sklearn-color-unfitted-level-1: #f6e4d2;\n",
       "  --sklearn-color-unfitted-level-2: #ffe0b3;\n",
       "  --sklearn-color-unfitted-level-3: chocolate;\n",
       "  /* Definition of color scheme for fitted estimators */\n",
       "  --sklearn-color-fitted-level-0: #f0f8ff;\n",
       "  --sklearn-color-fitted-level-1: #d4ebff;\n",
       "  --sklearn-color-fitted-level-2: #b3dbfd;\n",
       "  --sklearn-color-fitted-level-3: cornflowerblue;\n",
       "\n",
       "  /* Specific color for light theme */\n",
       "  --sklearn-color-text-on-default-background: var(--sg-text-color, var(--theme-code-foreground, var(--jp-content-font-color1, black)));\n",
       "  --sklearn-color-background: var(--sg-background-color, var(--theme-background, var(--jp-layout-color0, white)));\n",
       "  --sklearn-color-border-box: var(--sg-text-color, var(--theme-code-foreground, var(--jp-content-font-color1, black)));\n",
       "  --sklearn-color-icon: #696969;\n",
       "\n",
       "  @media (prefers-color-scheme: dark) {\n",
       "    /* Redefinition of color scheme for dark theme */\n",
       "    --sklearn-color-text-on-default-background: var(--sg-text-color, var(--theme-code-foreground, var(--jp-content-font-color1, white)));\n",
       "    --sklearn-color-background: var(--sg-background-color, var(--theme-background, var(--jp-layout-color0, #111)));\n",
       "    --sklearn-color-border-box: var(--sg-text-color, var(--theme-code-foreground, var(--jp-content-font-color1, white)));\n",
       "    --sklearn-color-icon: #878787;\n",
       "  }\n",
       "}\n",
       "\n",
       "#sk-container-id-2 {\n",
       "  color: var(--sklearn-color-text);\n",
       "}\n",
       "\n",
       "#sk-container-id-2 pre {\n",
       "  padding: 0;\n",
       "}\n",
       "\n",
       "#sk-container-id-2 input.sk-hidden--visually {\n",
       "  border: 0;\n",
       "  clip: rect(1px 1px 1px 1px);\n",
       "  clip: rect(1px, 1px, 1px, 1px);\n",
       "  height: 1px;\n",
       "  margin: -1px;\n",
       "  overflow: hidden;\n",
       "  padding: 0;\n",
       "  position: absolute;\n",
       "  width: 1px;\n",
       "}\n",
       "\n",
       "#sk-container-id-2 div.sk-dashed-wrapped {\n",
       "  border: 1px dashed var(--sklearn-color-line);\n",
       "  margin: 0 0.4em 0.5em 0.4em;\n",
       "  box-sizing: border-box;\n",
       "  padding-bottom: 0.4em;\n",
       "  background-color: var(--sklearn-color-background);\n",
       "}\n",
       "\n",
       "#sk-container-id-2 div.sk-container {\n",
       "  /* jupyter's `normalize.less` sets `[hidden] { display: none; }`\n",
       "     but bootstrap.min.css set `[hidden] { display: none !important; }`\n",
       "     so we also need the `!important` here to be able to override the\n",
       "     default hidden behavior on the sphinx rendered scikit-learn.org.\n",
       "     See: https://github.com/scikit-learn/scikit-learn/issues/21755 */\n",
       "  display: inline-block !important;\n",
       "  position: relative;\n",
       "}\n",
       "\n",
       "#sk-container-id-2 div.sk-text-repr-fallback {\n",
       "  display: none;\n",
       "}\n",
       "\n",
       "div.sk-parallel-item,\n",
       "div.sk-serial,\n",
       "div.sk-item {\n",
       "  /* draw centered vertical line to link estimators */\n",
       "  background-image: linear-gradient(var(--sklearn-color-text-on-default-background), var(--sklearn-color-text-on-default-background));\n",
       "  background-size: 2px 100%;\n",
       "  background-repeat: no-repeat;\n",
       "  background-position: center center;\n",
       "}\n",
       "\n",
       "/* Parallel-specific style estimator block */\n",
       "\n",
       "#sk-container-id-2 div.sk-parallel-item::after {\n",
       "  content: \"\";\n",
       "  width: 100%;\n",
       "  border-bottom: 2px solid var(--sklearn-color-text-on-default-background);\n",
       "  flex-grow: 1;\n",
       "}\n",
       "\n",
       "#sk-container-id-2 div.sk-parallel {\n",
       "  display: flex;\n",
       "  align-items: stretch;\n",
       "  justify-content: center;\n",
       "  background-color: var(--sklearn-color-background);\n",
       "  position: relative;\n",
       "}\n",
       "\n",
       "#sk-container-id-2 div.sk-parallel-item {\n",
       "  display: flex;\n",
       "  flex-direction: column;\n",
       "}\n",
       "\n",
       "#sk-container-id-2 div.sk-parallel-item:first-child::after {\n",
       "  align-self: flex-end;\n",
       "  width: 50%;\n",
       "}\n",
       "\n",
       "#sk-container-id-2 div.sk-parallel-item:last-child::after {\n",
       "  align-self: flex-start;\n",
       "  width: 50%;\n",
       "}\n",
       "\n",
       "#sk-container-id-2 div.sk-parallel-item:only-child::after {\n",
       "  width: 0;\n",
       "}\n",
       "\n",
       "/* Serial-specific style estimator block */\n",
       "\n",
       "#sk-container-id-2 div.sk-serial {\n",
       "  display: flex;\n",
       "  flex-direction: column;\n",
       "  align-items: center;\n",
       "  background-color: var(--sklearn-color-background);\n",
       "  padding-right: 1em;\n",
       "  padding-left: 1em;\n",
       "}\n",
       "\n",
       "\n",
       "/* Toggleable style: style used for estimator/Pipeline/ColumnTransformer box that is\n",
       "clickable and can be expanded/collapsed.\n",
       "- Pipeline and ColumnTransformer use this feature and define the default style\n",
       "- Estimators will overwrite some part of the style using the `sk-estimator` class\n",
       "*/\n",
       "\n",
       "/* Pipeline and ColumnTransformer style (default) */\n",
       "\n",
       "#sk-container-id-2 div.sk-toggleable {\n",
       "  /* Default theme specific background. It is overwritten whether we have a\n",
       "  specific estimator or a Pipeline/ColumnTransformer */\n",
       "  background-color: var(--sklearn-color-background);\n",
       "}\n",
       "\n",
       "/* Toggleable label */\n",
       "#sk-container-id-2 label.sk-toggleable__label {\n",
       "  cursor: pointer;\n",
       "  display: block;\n",
       "  width: 100%;\n",
       "  margin-bottom: 0;\n",
       "  padding: 0.5em;\n",
       "  box-sizing: border-box;\n",
       "  text-align: center;\n",
       "}\n",
       "\n",
       "#sk-container-id-2 label.sk-toggleable__label-arrow:before {\n",
       "  /* Arrow on the left of the label */\n",
       "  content: \"▸\";\n",
       "  float: left;\n",
       "  margin-right: 0.25em;\n",
       "  color: var(--sklearn-color-icon);\n",
       "}\n",
       "\n",
       "#sk-container-id-2 label.sk-toggleable__label-arrow:hover:before {\n",
       "  color: var(--sklearn-color-text);\n",
       "}\n",
       "\n",
       "/* Toggleable content - dropdown */\n",
       "\n",
       "#sk-container-id-2 div.sk-toggleable__content {\n",
       "  max-height: 0;\n",
       "  max-width: 0;\n",
       "  overflow: hidden;\n",
       "  text-align: left;\n",
       "  /* unfitted */\n",
       "  background-color: var(--sklearn-color-unfitted-level-0);\n",
       "}\n",
       "\n",
       "#sk-container-id-2 div.sk-toggleable__content.fitted {\n",
       "  /* fitted */\n",
       "  background-color: var(--sklearn-color-fitted-level-0);\n",
       "}\n",
       "\n",
       "#sk-container-id-2 div.sk-toggleable__content pre {\n",
       "  margin: 0.2em;\n",
       "  border-radius: 0.25em;\n",
       "  color: var(--sklearn-color-text);\n",
       "  /* unfitted */\n",
       "  background-color: var(--sklearn-color-unfitted-level-0);\n",
       "}\n",
       "\n",
       "#sk-container-id-2 div.sk-toggleable__content.fitted pre {\n",
       "  /* unfitted */\n",
       "  background-color: var(--sklearn-color-fitted-level-0);\n",
       "}\n",
       "\n",
       "#sk-container-id-2 input.sk-toggleable__control:checked~div.sk-toggleable__content {\n",
       "  /* Expand drop-down */\n",
       "  max-height: 200px;\n",
       "  max-width: 100%;\n",
       "  overflow: auto;\n",
       "}\n",
       "\n",
       "#sk-container-id-2 input.sk-toggleable__control:checked~label.sk-toggleable__label-arrow:before {\n",
       "  content: \"▾\";\n",
       "}\n",
       "\n",
       "/* Pipeline/ColumnTransformer-specific style */\n",
       "\n",
       "#sk-container-id-2 div.sk-label input.sk-toggleable__control:checked~label.sk-toggleable__label {\n",
       "  color: var(--sklearn-color-text);\n",
       "  background-color: var(--sklearn-color-unfitted-level-2);\n",
       "}\n",
       "\n",
       "#sk-container-id-2 div.sk-label.fitted input.sk-toggleable__control:checked~label.sk-toggleable__label {\n",
       "  background-color: var(--sklearn-color-fitted-level-2);\n",
       "}\n",
       "\n",
       "/* Estimator-specific style */\n",
       "\n",
       "/* Colorize estimator box */\n",
       "#sk-container-id-2 div.sk-estimator input.sk-toggleable__control:checked~label.sk-toggleable__label {\n",
       "  /* unfitted */\n",
       "  background-color: var(--sklearn-color-unfitted-level-2);\n",
       "}\n",
       "\n",
       "#sk-container-id-2 div.sk-estimator.fitted input.sk-toggleable__control:checked~label.sk-toggleable__label {\n",
       "  /* fitted */\n",
       "  background-color: var(--sklearn-color-fitted-level-2);\n",
       "}\n",
       "\n",
       "#sk-container-id-2 div.sk-label label.sk-toggleable__label,\n",
       "#sk-container-id-2 div.sk-label label {\n",
       "  /* The background is the default theme color */\n",
       "  color: var(--sklearn-color-text-on-default-background);\n",
       "}\n",
       "\n",
       "/* On hover, darken the color of the background */\n",
       "#sk-container-id-2 div.sk-label:hover label.sk-toggleable__label {\n",
       "  color: var(--sklearn-color-text);\n",
       "  background-color: var(--sklearn-color-unfitted-level-2);\n",
       "}\n",
       "\n",
       "/* Label box, darken color on hover, fitted */\n",
       "#sk-container-id-2 div.sk-label.fitted:hover label.sk-toggleable__label.fitted {\n",
       "  color: var(--sklearn-color-text);\n",
       "  background-color: var(--sklearn-color-fitted-level-2);\n",
       "}\n",
       "\n",
       "/* Estimator label */\n",
       "\n",
       "#sk-container-id-2 div.sk-label label {\n",
       "  font-family: monospace;\n",
       "  font-weight: bold;\n",
       "  display: inline-block;\n",
       "  line-height: 1.2em;\n",
       "}\n",
       "\n",
       "#sk-container-id-2 div.sk-label-container {\n",
       "  text-align: center;\n",
       "}\n",
       "\n",
       "/* Estimator-specific */\n",
       "#sk-container-id-2 div.sk-estimator {\n",
       "  font-family: monospace;\n",
       "  border: 1px dotted var(--sklearn-color-border-box);\n",
       "  border-radius: 0.25em;\n",
       "  box-sizing: border-box;\n",
       "  margin-bottom: 0.5em;\n",
       "  /* unfitted */\n",
       "  background-color: var(--sklearn-color-unfitted-level-0);\n",
       "}\n",
       "\n",
       "#sk-container-id-2 div.sk-estimator.fitted {\n",
       "  /* fitted */\n",
       "  background-color: var(--sklearn-color-fitted-level-0);\n",
       "}\n",
       "\n",
       "/* on hover */\n",
       "#sk-container-id-2 div.sk-estimator:hover {\n",
       "  /* unfitted */\n",
       "  background-color: var(--sklearn-color-unfitted-level-2);\n",
       "}\n",
       "\n",
       "#sk-container-id-2 div.sk-estimator.fitted:hover {\n",
       "  /* fitted */\n",
       "  background-color: var(--sklearn-color-fitted-level-2);\n",
       "}\n",
       "\n",
       "/* Specification for estimator info (e.g. \"i\" and \"?\") */\n",
       "\n",
       "/* Common style for \"i\" and \"?\" */\n",
       "\n",
       ".sk-estimator-doc-link,\n",
       "a:link.sk-estimator-doc-link,\n",
       "a:visited.sk-estimator-doc-link {\n",
       "  float: right;\n",
       "  font-size: smaller;\n",
       "  line-height: 1em;\n",
       "  font-family: monospace;\n",
       "  background-color: var(--sklearn-color-background);\n",
       "  border-radius: 1em;\n",
       "  height: 1em;\n",
       "  width: 1em;\n",
       "  text-decoration: none !important;\n",
       "  margin-left: 1ex;\n",
       "  /* unfitted */\n",
       "  border: var(--sklearn-color-unfitted-level-1) 1pt solid;\n",
       "  color: var(--sklearn-color-unfitted-level-1);\n",
       "}\n",
       "\n",
       ".sk-estimator-doc-link.fitted,\n",
       "a:link.sk-estimator-doc-link.fitted,\n",
       "a:visited.sk-estimator-doc-link.fitted {\n",
       "  /* fitted */\n",
       "  border: var(--sklearn-color-fitted-level-1) 1pt solid;\n",
       "  color: var(--sklearn-color-fitted-level-1);\n",
       "}\n",
       "\n",
       "/* On hover */\n",
       "div.sk-estimator:hover .sk-estimator-doc-link:hover,\n",
       ".sk-estimator-doc-link:hover,\n",
       "div.sk-label-container:hover .sk-estimator-doc-link:hover,\n",
       ".sk-estimator-doc-link:hover {\n",
       "  /* unfitted */\n",
       "  background-color: var(--sklearn-color-unfitted-level-3);\n",
       "  color: var(--sklearn-color-background);\n",
       "  text-decoration: none;\n",
       "}\n",
       "\n",
       "div.sk-estimator.fitted:hover .sk-estimator-doc-link.fitted:hover,\n",
       ".sk-estimator-doc-link.fitted:hover,\n",
       "div.sk-label-container:hover .sk-estimator-doc-link.fitted:hover,\n",
       ".sk-estimator-doc-link.fitted:hover {\n",
       "  /* fitted */\n",
       "  background-color: var(--sklearn-color-fitted-level-3);\n",
       "  color: var(--sklearn-color-background);\n",
       "  text-decoration: none;\n",
       "}\n",
       "\n",
       "/* Span, style for the box shown on hovering the info icon */\n",
       ".sk-estimator-doc-link span {\n",
       "  display: none;\n",
       "  z-index: 9999;\n",
       "  position: relative;\n",
       "  font-weight: normal;\n",
       "  right: .2ex;\n",
       "  padding: .5ex;\n",
       "  margin: .5ex;\n",
       "  width: min-content;\n",
       "  min-width: 20ex;\n",
       "  max-width: 50ex;\n",
       "  color: var(--sklearn-color-text);\n",
       "  box-shadow: 2pt 2pt 4pt #999;\n",
       "  /* unfitted */\n",
       "  background: var(--sklearn-color-unfitted-level-0);\n",
       "  border: .5pt solid var(--sklearn-color-unfitted-level-3);\n",
       "}\n",
       "\n",
       ".sk-estimator-doc-link.fitted span {\n",
       "  /* fitted */\n",
       "  background: var(--sklearn-color-fitted-level-0);\n",
       "  border: var(--sklearn-color-fitted-level-3);\n",
       "}\n",
       "\n",
       ".sk-estimator-doc-link:hover span {\n",
       "  display: block;\n",
       "}\n",
       "\n",
       "/* \"?\"-specific style due to the `<a>` HTML tag */\n",
       "\n",
       "#sk-container-id-2 a.estimator_doc_link {\n",
       "  float: right;\n",
       "  font-size: 1rem;\n",
       "  line-height: 1em;\n",
       "  font-family: monospace;\n",
       "  background-color: var(--sklearn-color-background);\n",
       "  border-radius: 1rem;\n",
       "  height: 1rem;\n",
       "  width: 1rem;\n",
       "  text-decoration: none;\n",
       "  /* unfitted */\n",
       "  color: var(--sklearn-color-unfitted-level-1);\n",
       "  border: var(--sklearn-color-unfitted-level-1) 1pt solid;\n",
       "}\n",
       "\n",
       "#sk-container-id-2 a.estimator_doc_link.fitted {\n",
       "  /* fitted */\n",
       "  border: var(--sklearn-color-fitted-level-1) 1pt solid;\n",
       "  color: var(--sklearn-color-fitted-level-1);\n",
       "}\n",
       "\n",
       "/* On hover */\n",
       "#sk-container-id-2 a.estimator_doc_link:hover {\n",
       "  /* unfitted */\n",
       "  background-color: var(--sklearn-color-unfitted-level-3);\n",
       "  color: var(--sklearn-color-background);\n",
       "  text-decoration: none;\n",
       "}\n",
       "\n",
       "#sk-container-id-2 a.estimator_doc_link.fitted:hover {\n",
       "  /* fitted */\n",
       "  background-color: var(--sklearn-color-fitted-level-3);\n",
       "}\n",
       "</style><div id=\"sk-container-id-2\" class=\"sk-top-container\"><div class=\"sk-text-repr-fallback\"><pre>KModes(init=&#x27;Huang&#x27;, n_clusters=4, n_jobs=-1, verbose=1)</pre><b>In a Jupyter environment, please rerun this cell to show the HTML representation or trust the notebook. <br />On GitHub, the HTML representation is unable to render, please try loading this page with nbviewer.org.</b></div><div class=\"sk-container\" hidden><div class=\"sk-item\"><div class=\"sk-estimator fitted sk-toggleable\"><input class=\"sk-toggleable__control sk-hidden--visually\" id=\"sk-estimator-id-2\" type=\"checkbox\" checked><label for=\"sk-estimator-id-2\" class=\"sk-toggleable__label fitted sk-toggleable__label-arrow fitted\">&nbsp;KModes<span class=\"sk-estimator-doc-link fitted\">i<span>Fitted</span></span></label><div class=\"sk-toggleable__content fitted\"><pre>KModes(init=&#x27;Huang&#x27;, n_clusters=4, n_jobs=-1, verbose=1)</pre></div> </div></div></div></div>"
      ],
      "text/plain": [
       "KModes(init='Huang', n_clusters=4, n_jobs=-1, verbose=1)"
      ]
     },
     "execution_count": 37,
     "metadata": {},
     "output_type": "execute_result"
    }
   ],
   "source": [
    "clusters_prepr = KModes(n_clusters = 4, init='Huang',n_jobs=-1,n_init=10,verbose=1)\n",
    "clusters_prepr.fit(X_train)"
   ]
  },
  {
   "cell_type": "code",
   "execution_count": 38,
   "id": "957f19ce55c36ad",
   "metadata": {
    "ExecuteTime": {
     "end_time": "2024-02-25T16:48:55.580405Z",
     "start_time": "2024-02-25T16:48:55.480218Z"
    },
    "collapsed": false
   },
   "outputs": [],
   "source": [
    "X_train_cl = X_train.copy()\n",
    "X_train_cl['Cluster'] = clusters_prepr.labels_"
   ]
  },
  {
   "cell_type": "code",
   "execution_count": 39,
   "id": "1596f6faacb02409",
   "metadata": {
    "ExecuteTime": {
     "end_time": "2024-02-25T16:49:00.493249Z",
     "start_time": "2024-02-25T16:48:55.497490Z"
    },
    "collapsed": false
   },
   "outputs": [],
   "source": [
    "X_test_cl = X_test.copy()\n",
    "X_test_cl['Cluster']=clusters_prepr.predict(X_test)"
   ]
  },
  {
   "cell_type": "code",
   "execution_count": 40,
   "id": "dd72beba6c3217ae",
   "metadata": {
    "ExecuteTime": {
     "end_time": "2024-02-25T16:49:01.186389Z",
     "start_time": "2024-02-25T16:49:00.497375Z"
    },
    "collapsed": false
   },
   "outputs": [],
   "source": [
    "X_train_cl_pr = preprocessor.fit_transform(X_train_cl)"
   ]
  },
  {
   "cell_type": "code",
   "execution_count": 41,
   "id": "2374e4c37b5cae85",
   "metadata": {
    "ExecuteTime": {
     "end_time": "2024-02-25T16:49:01.418322Z",
     "start_time": "2024-02-25T16:49:01.187721Z"
    },
    "collapsed": false
   },
   "outputs": [],
   "source": [
    "X_test_cl_pr = preprocessor.transform(X_test_cl)"
   ]
  },
  {
   "cell_type": "code",
   "execution_count": 42,
   "id": "99758cc1b93b17f1",
   "metadata": {
    "ExecuteTime": {
     "end_time": "2024-02-25T16:49:01.426432Z",
     "start_time": "2024-02-25T16:49:01.420292Z"
    },
    "collapsed": false
   },
   "outputs": [],
   "source": [
    "from sklearn.base import clone"
   ]
  },
  {
   "cell_type": "code",
   "execution_count": 57,
   "id": "14608f3ae9aa3193",
   "metadata": {
    "ExecuteTime": {
     "end_time": "2024-02-25T16:58:17.909757Z",
     "start_time": "2024-02-25T16:58:17.491196Z"
    },
    "collapsed": false
   },
   "outputs": [
    {
     "name": "stdout",
     "output_type": "stream",
     "text": [
      "Test accuracy: 0.9311525378804612\n"
     ]
    }
   ],
   "source": [
    "sgdc = clone(best_sgdc)\n",
    "best_sgdc_cl = train_accuracy(sgdc, X_train_cl_pr, y_train, X_test_cl_pr, y_test)"
   ]
  },
  {
   "cell_type": "code",
   "execution_count": 54,
   "id": "f8a1516efb2a7aaf",
   "metadata": {
    "ExecuteTime": {
     "end_time": "2024-02-25T16:57:39.294354Z",
     "start_time": "2024-02-25T16:57:37.891056Z"
    },
    "collapsed": false
   },
   "outputs": [
    {
     "name": "stdout",
     "output_type": "stream",
     "text": [
      "Test accuracy: 0.9322127490391836\n"
     ]
    }
   ],
   "source": [
    "xgbc = clone(best_xgbc)\n",
    "best_xgbc_cl = train_accuracy(xgbc, X_train_cl_pr, y_train, X_test_cl_pr, y_test)"
   ]
  },
  {
   "cell_type": "code",
   "execution_count": 45,
   "id": "31fce2c556b8c35b",
   "metadata": {
    "ExecuteTime": {
     "end_time": "2024-02-25T16:50:02.664901Z",
     "start_time": "2024-02-25T16:49:20.934063Z"
    },
    "collapsed": false
   },
   "outputs": [
    {
     "name": "stdout",
     "output_type": "stream",
     "text": [
      "Test accuracy: 0.9302027653841056\n"
     ]
    }
   ],
   "source": [
    "rfc = clone(best_rfc)\n",
    "best_rfc_cl = train_accuracy(rfc, X_train_cl_pr, y_train, X_test_cl_pr, y_test)"
   ]
  },
  {
   "cell_type": "code",
   "execution_count": 47,
   "id": "dc6c33f7268a48f3",
   "metadata": {
    "ExecuteTime": {
     "end_time": "2024-02-25T16:52:26.816390Z",
     "start_time": "2024-02-25T16:52:26.579381Z"
    },
    "collapsed": false
   },
   "outputs": [
    {
     "name": "stdout",
     "output_type": "stream",
     "text": [
      "0.9322127490391836\n",
      "0.9166875733614586\n",
      "[[40807   624]\n",
      " [ 2445  1398]]\n",
      "              precision    recall  f1-score   support\n",
      "\n",
      "           0       0.94      0.98      0.96     41431\n",
      "           1       0.69      0.36      0.48      3843\n",
      "\n",
      "    accuracy                           0.93     45274\n",
      "   macro avg       0.82      0.67      0.72     45274\n",
      "weighted avg       0.92      0.93      0.92     45274\n"
     ]
    }
   ],
   "source": [
    "score_model(best_xgbc_cl, X_test_cl_pr, y_test)\n"
   ]
  },
  {
   "cell_type": "code",
   "execution_count": 58,
   "id": "25a731ca45464036",
   "metadata": {
    "ExecuteTime": {
     "end_time": "2024-02-25T16:58:23.879527Z",
     "start_time": "2024-02-25T16:58:23.713150Z"
    },
    "collapsed": false
   },
   "outputs": [
    {
     "name": "stdout",
     "output_type": "stream",
     "text": [
      "0.9311525378804612\n",
      "0.9140724104151347\n",
      "[[40603   828]\n",
      " [ 2289  1554]]\n",
      "              precision    recall  f1-score   support\n",
      "\n",
      "           0       0.95      0.98      0.96     41431\n",
      "           1       0.65      0.40      0.50      3843\n",
      "\n",
      "    accuracy                           0.93     45274\n",
      "   macro avg       0.80      0.69      0.73     45274\n",
      "weighted avg       0.92      0.93      0.92     45274\n"
     ]
    }
   ],
   "source": [
    "score_model(best_sgdc_cl, X_test_cl_pr, y_test)"
   ]
  },
  {
   "cell_type": "code",
   "execution_count": 49,
   "id": "bdd7cfb7b0475bd7",
   "metadata": {
    "ExecuteTime": {
     "end_time": "2024-02-25T16:52:49.148709Z",
     "start_time": "2024-02-25T16:52:48.087106Z"
    },
    "collapsed": false
   },
   "outputs": [
    {
     "name": "stdout",
     "output_type": "stream",
     "text": [
      "0.9302027653841056\n",
      "0.9118682339914086\n",
      "[[40980   451]\n",
      " [ 2709  1134]]\n",
      "              precision    recall  f1-score   support\n",
      "\n",
      "           0       0.94      0.99      0.96     41431\n",
      "           1       0.72      0.30      0.42      3843\n",
      "\n",
      "    accuracy                           0.93     45274\n",
      "   macro avg       0.83      0.64      0.69     45274\n",
      "weighted avg       0.92      0.93      0.92     45274\n"
     ]
    }
   ],
   "source": [
    "score_model(best_rfc_cl, X_test_cl_pr, y_test)"
   ]
  },
  {
   "cell_type": "markdown",
   "id": "a0f89dc7022837ab",
   "metadata": {
    "collapsed": false
   },
   "source": [
    "## Clusters  decrease performance of XGBoost, SGD and RandomForest"
   ]
  },
  {
   "cell_type": "code",
   "execution_count": null,
   "id": "745e21fa81b7c7a1",
   "metadata": {
    "collapsed": false
   },
   "outputs": [],
   "source": []
  },
  {
   "cell_type": "code",
   "execution_count": null,
   "id": "422a12a71aa716da",
   "metadata": {
    "collapsed": false
   },
   "outputs": [],
   "source": []
  },
  {
   "cell_type": "markdown",
   "id": "940e670665a04c00",
   "metadata": {
    "collapsed": false
   },
   "source": [
    "## Oversampling"
   ]
  },
  {
   "cell_type": "code",
   "execution_count": 26,
   "id": "89cb3de9140b9871",
   "metadata": {
    "collapsed": false,
    "ExecuteTime": {
     "end_time": "2024-02-26T17:57:34.283679Z",
     "start_time": "2024-02-26T17:57:34.234028Z"
    }
   },
   "outputs": [],
   "source": [
    "upsample_training = X_train.copy()\n",
    "upsample_training['Y'] = y_train"
   ]
  },
  {
   "cell_type": "code",
   "execution_count": 27,
   "id": "bdde36c5038f1133",
   "metadata": {
    "collapsed": false,
    "ExecuteTime": {
     "end_time": "2024-02-26T17:57:35.096668Z",
     "start_time": "2024-02-26T17:57:35.009069Z"
    }
   },
   "outputs": [],
   "source": [
    "bellow = upsample_training.loc[upsample_training.Y==0]\n",
    "above = upsample_training.loc[upsample_training.Y==1]"
   ]
  },
  {
   "cell_type": "code",
   "execution_count": 28,
   "id": "10f891d45c0c161e",
   "metadata": {
    "collapsed": false,
    "ExecuteTime": {
     "end_time": "2024-02-26T17:57:35.725408Z",
     "start_time": "2024-02-26T17:57:35.640686Z"
    }
   },
   "outputs": [],
   "source": [
    "from sklearn.utils import resample\n",
    "above_upsample = resample(above,\n",
    "             replace=True,\n",
    "             n_samples=len(bellow),\n",
    "             random_state=12345)"
   ]
  },
  {
   "cell_type": "code",
   "execution_count": 29,
   "id": "4672818d224d3e1e",
   "metadata": {
    "collapsed": false,
    "ExecuteTime": {
     "end_time": "2024-02-26T17:57:36.432568Z",
     "start_time": "2024-02-26T17:57:36.386273Z"
    }
   },
   "outputs": [
    {
     "name": "stdout",
     "output_type": "stream",
     "text": [
      "(96485, 19)\n",
      "(96485, 19)\n"
     ]
    }
   ],
   "source": [
    "print(bellow.shape)\n",
    "print(above_upsample.shape)"
   ]
  },
  {
   "cell_type": "code",
   "execution_count": 30,
   "id": "748b29d3e1534dbd",
   "metadata": {
    "collapsed": false,
    "ExecuteTime": {
     "end_time": "2024-02-26T17:57:37.302864Z",
     "start_time": "2024-02-26T17:57:37.221448Z"
    }
   },
   "outputs": [
    {
     "data": {
      "text/plain": "         age   gender      education     class  \\\n87286    63+   Female        masters        NA   \n78624  46_62   Female     highschool        NA   \n2842     63+     Male  no_highschool        NA   \n88532  46_62   Female     highschool   Private   \n10009  46_62   Female    somecollege   Private   \n\n                         marital_status    race is_hispanic  \\\n87286                     Never married   White          No   \n78624   Married-civilian spouse present   White          No   \n2842    Married-civilian spouse present   White          No   \n88532                     Never married   White          No   \n10009                          Divorced   White          No   \n\n           employment_commitment employment_stat wage_per_hour  \\\n87286   Children or Armed Forces               0          0_10   \n78624   Children or Armed Forces               0          0_10   \n2842                  Unemployed               0          0_10   \n88532        Full-time schedules               2          0_10   \n10009   Children or Armed Forces               0          0_10   \n\n      working_week_per_year            industry_code_main  \\\n87286        weeks_worked_0   Not in universe or children   \n78624        weeks_worked_0   Not in universe or children   \n2842         weeks_worked_0   Not in universe or children   \n88532    weeks_worked_48_52                  Retail trade   \n10009    weeks_worked_48_52               Social services   \n\n                  occupation_code_main       household_summary vet_benefit  \\\n87286                               NA             Householder           2   \n78624                               NA   Spouse of householder           2   \n2842                                NA             Householder           2   \n88532   Adm support including clerical       Child 18 or older           2   \n10009           Professional specialty             Householder           2   \n\n                          tax_status citizenship  investments  Y  \n87286                         Single      Native        False  0  \n78624   Joint one under 65 & one 65+      Native        False  0  \n2842                  Joint both 65+      Native        False  0  \n88532                         Single      Native        False  0  \n10009              Head of household      Native        False  0  ",
      "text/html": "<div>\n<style scoped>\n    .dataframe tbody tr th:only-of-type {\n        vertical-align: middle;\n    }\n\n    .dataframe tbody tr th {\n        vertical-align: top;\n    }\n\n    .dataframe thead th {\n        text-align: right;\n    }\n</style>\n<table border=\"1\" class=\"dataframe\">\n  <thead>\n    <tr style=\"text-align: right;\">\n      <th></th>\n      <th>age</th>\n      <th>gender</th>\n      <th>education</th>\n      <th>class</th>\n      <th>marital_status</th>\n      <th>race</th>\n      <th>is_hispanic</th>\n      <th>employment_commitment</th>\n      <th>employment_stat</th>\n      <th>wage_per_hour</th>\n      <th>working_week_per_year</th>\n      <th>industry_code_main</th>\n      <th>occupation_code_main</th>\n      <th>household_summary</th>\n      <th>vet_benefit</th>\n      <th>tax_status</th>\n      <th>citizenship</th>\n      <th>investments</th>\n      <th>Y</th>\n    </tr>\n  </thead>\n  <tbody>\n    <tr>\n      <th>87286</th>\n      <td>63+</td>\n      <td>Female</td>\n      <td>masters</td>\n      <td>NA</td>\n      <td>Never married</td>\n      <td>White</td>\n      <td>No</td>\n      <td>Children or Armed Forces</td>\n      <td>0</td>\n      <td>0_10</td>\n      <td>weeks_worked_0</td>\n      <td>Not in universe or children</td>\n      <td>NA</td>\n      <td>Householder</td>\n      <td>2</td>\n      <td>Single</td>\n      <td>Native</td>\n      <td>False</td>\n      <td>0</td>\n    </tr>\n    <tr>\n      <th>78624</th>\n      <td>46_62</td>\n      <td>Female</td>\n      <td>highschool</td>\n      <td>NA</td>\n      <td>Married-civilian spouse present</td>\n      <td>White</td>\n      <td>No</td>\n      <td>Children or Armed Forces</td>\n      <td>0</td>\n      <td>0_10</td>\n      <td>weeks_worked_0</td>\n      <td>Not in universe or children</td>\n      <td>NA</td>\n      <td>Spouse of householder</td>\n      <td>2</td>\n      <td>Joint one under 65 &amp; one 65+</td>\n      <td>Native</td>\n      <td>False</td>\n      <td>0</td>\n    </tr>\n    <tr>\n      <th>2842</th>\n      <td>63+</td>\n      <td>Male</td>\n      <td>no_highschool</td>\n      <td>NA</td>\n      <td>Married-civilian spouse present</td>\n      <td>White</td>\n      <td>No</td>\n      <td>Unemployed</td>\n      <td>0</td>\n      <td>0_10</td>\n      <td>weeks_worked_0</td>\n      <td>Not in universe or children</td>\n      <td>NA</td>\n      <td>Householder</td>\n      <td>2</td>\n      <td>Joint both 65+</td>\n      <td>Native</td>\n      <td>False</td>\n      <td>0</td>\n    </tr>\n    <tr>\n      <th>88532</th>\n      <td>46_62</td>\n      <td>Female</td>\n      <td>highschool</td>\n      <td>Private</td>\n      <td>Never married</td>\n      <td>White</td>\n      <td>No</td>\n      <td>Full-time schedules</td>\n      <td>2</td>\n      <td>0_10</td>\n      <td>weeks_worked_48_52</td>\n      <td>Retail trade</td>\n      <td>Adm support including clerical</td>\n      <td>Child 18 or older</td>\n      <td>2</td>\n      <td>Single</td>\n      <td>Native</td>\n      <td>False</td>\n      <td>0</td>\n    </tr>\n    <tr>\n      <th>10009</th>\n      <td>46_62</td>\n      <td>Female</td>\n      <td>somecollege</td>\n      <td>Private</td>\n      <td>Divorced</td>\n      <td>White</td>\n      <td>No</td>\n      <td>Children or Armed Forces</td>\n      <td>0</td>\n      <td>0_10</td>\n      <td>weeks_worked_48_52</td>\n      <td>Social services</td>\n      <td>Professional specialty</td>\n      <td>Householder</td>\n      <td>2</td>\n      <td>Head of household</td>\n      <td>Native</td>\n      <td>False</td>\n      <td>0</td>\n    </tr>\n  </tbody>\n</table>\n</div>"
     },
     "execution_count": 30,
     "metadata": {},
     "output_type": "execute_result"
    }
   ],
   "source": [
    "data_upsample = pd.concat([bellow, above_upsample])\n",
    "data_upsample.head()"
   ]
  },
  {
   "cell_type": "code",
   "execution_count": 31,
   "id": "336b6abe0932f156",
   "metadata": {
    "collapsed": false,
    "ExecuteTime": {
     "end_time": "2024-02-26T17:57:38.475249Z",
     "start_time": "2024-02-26T17:57:38.416909Z"
    }
   },
   "outputs": [],
   "source": [
    "X_train_up = data_upsample.drop('Y', axis=1)\n",
    "y_train_up = data_upsample.Y"
   ]
  },
  {
   "cell_type": "code",
   "execution_count": 32,
   "id": "fb79a93286d7b634",
   "metadata": {
    "collapsed": false,
    "ExecuteTime": {
     "end_time": "2024-02-26T17:57:42.041516Z",
     "start_time": "2024-02-26T17:57:39.821475Z"
    }
   },
   "outputs": [],
   "source": [
    "X_train_up_pr = preprocessor.fit_transform(X_train_up)\n",
    "X_tst_up_pr = preprocessor.transform(X_test)"
   ]
  },
  {
   "cell_type": "code",
   "execution_count": 73,
   "id": "76d5039d2ef21a74",
   "metadata": {
    "ExecuteTime": {
     "end_time": "2024-02-25T17:44:43.243097Z",
     "start_time": "2024-02-25T17:44:27.534392Z"
    },
    "collapsed": false
   },
   "outputs": [
    {
     "name": "stdout",
     "output_type": "stream",
     "text": [
      "Model <class 'sklearn.linear_model._logistic.LogisticRegression'>\n",
      "Best CV params {'C': 1}\n",
      "Test accuracy of best grid search hypers: 0.8299907231523612\n"
     ]
    }
   ],
   "source": [
    "from sklearn.linear_model import LogisticRegression\n",
    "lrg = LogisticRegression\n",
    "parameters = {'C':[0.01,0.1,1]}\n",
    "best_lrg_up = dmp_first_classifier(lrg, X_train_up_pr, y_train_up, X_tst_up_pr, y_test, parameters)"
   ]
  },
  {
   "cell_type": "code",
   "execution_count": 74,
   "id": "aa4ad7bb0ac1c1f3",
   "metadata": {
    "ExecuteTime": {
     "end_time": "2024-02-25T17:45:43.664878Z",
     "start_time": "2024-02-25T17:44:45.641353Z"
    },
    "collapsed": false
   },
   "outputs": [
    {
     "name": "stdout",
     "output_type": "stream",
     "text": [
      "Model <class 'xgboost.sklearn.XGBClassifier'>\n",
      "Best CV params {'eta': 1, 'max_depth': 10}\n",
      "Test accuracy of best grid search hypers: 0.8862923532270177\n"
     ]
    }
   ],
   "source": [
    "import xgboost as xgb\n",
    "xgbc = xgb.XGBClassifier\n",
    "parameters = {'eta':[0.1,0.3,0.5,1],'max_depth':[3,6,10]}\n",
    "best_xgbc_up = dmp_first_classifier(xgbc, X_train_up_pr, y_train_up, X_tst_up_pr, y_test, parameters)"
   ]
  },
  {
   "cell_type": "code",
   "execution_count": 68,
   "id": "c6cb436c54a495cf",
   "metadata": {
    "ExecuteTime": {
     "end_time": "2024-02-25T17:02:39.368561Z",
     "start_time": "2024-02-25T17:02:29.918619Z"
    },
    "collapsed": false
   },
   "outputs": [
    {
     "name": "stdout",
     "output_type": "stream",
     "text": [
      "Model <class 'sklearn.linear_model._stochastic_gradient.SGDClassifier'>\n",
      "Best CV params {'loss': 'log_loss'}\n",
      "Test accuracy of best grid search hypers: 0.8515041745814375\n"
     ]
    }
   ],
   "source": [
    "from sklearn.linear_model import SGDClassifier\n",
    "sgdc = SGDClassifier\n",
    "parameters = {'loss':['hinge','log_loss']}\n",
    "best_sgdc_up = dmp_first_classifier(sgdc, X_train_up_pr, y_train_up, X_tst_up_pr, y_test, parameters)\n"
   ]
  },
  {
   "cell_type": "code",
   "execution_count": 75,
   "id": "f048355d8ea9b51c",
   "metadata": {
    "ExecuteTime": {
     "end_time": "2024-02-25T20:49:34.820151Z",
     "start_time": "2024-02-25T17:46:13.307646Z"
    },
    "collapsed": false
   },
   "outputs": [
    {
     "name": "stdout",
     "output_type": "stream",
     "text": [
      "Model <class 'sklearn.ensemble._forest.RandomForestClassifier'>\n",
      "Best CV params {'min_samples_leaf': 1, 'n_estimators': 100}\n",
      "Test accuracy of best grid search hypers: 0.8989486239342669\n"
     ]
    }
   ],
   "source": [
    "from sklearn.ensemble import RandomForestClassifier\n",
    "rfc = RandomForestClassifier\n",
    "parameters = {'n_estimators':[100,50], 'min_samples_leaf':[1,5,10,20]}\n",
    "best_rfc_up = dmp_first_classifier(rfc, X_train_up_pr, y_train_up, X_tst_up_pr, y_test, parameters)"
   ]
  },
  {
   "cell_type": "code",
   "execution_count": 76,
   "id": "2b906a02894bdff6",
   "metadata": {
    "ExecuteTime": {
     "end_time": "2024-02-25T22:29:15.390178Z",
     "start_time": "2024-02-25T20:49:34.817987Z"
    },
    "collapsed": false
   },
   "outputs": [
    {
     "name": "stdout",
     "output_type": "stream",
     "text": [
      "Model <class 'sklearn.neighbors._classification.KNeighborsClassifier'>\n",
      "Best CV params {'n_neighbors': 5}\n",
      "Test accuracy of best grid search hypers: 0.9057295578035959\n"
     ]
    }
   ],
   "source": [
    "from sklearn.neighbors import KNeighborsClassifier\n",
    "knc = KNeighborsClassifier\n",
    "parameters = {'n_neighbors':[5,10,50]}\n",
    "best_knc_up = dmp_first_classifier(knc, X_train_up_pr, y_train_up, X_tst_up_pr, y_test, parameters)"
   ]
  },
  {
   "cell_type": "markdown",
   "id": "acdb37bef18658cb",
   "metadata": {
    "collapsed": false
   },
   "source": [
    "## The best models"
   ]
  },
  {
   "cell_type": "code",
   "execution_count": 77,
   "id": "3b6446df49186e3e",
   "metadata": {
    "ExecuteTime": {
     "end_time": "2024-02-25T22:47:50.097671Z",
     "start_time": "2024-02-25T22:30:10.115959Z"
    },
    "collapsed": false
   },
   "outputs": [
    {
     "name": "stdout",
     "output_type": "stream",
     "text": [
      "0.9057295578035959\n",
      "0.7046862424678038\n",
      "[[39544  1887]\n",
      " [ 2381  1462]]\n",
      "              precision    recall  f1-score   support\n",
      "\n",
      "           0       0.94      0.95      0.95     41431\n",
      "           1       0.44      0.38      0.41      3843\n",
      "\n",
      "    accuracy                           0.91     45274\n",
      "   macro avg       0.69      0.67      0.68     45274\n",
      "weighted avg       0.90      0.91      0.90     45274\n"
     ]
    }
   ],
   "source": [
    "score_model(best_knc_up, X_tst_up_pr, y_test)"
   ]
  },
  {
   "cell_type": "markdown",
   "id": "2d08fbcff488e125",
   "metadata": {
    "collapsed": false
   },
   "source": [
    "## ! High accurasy but aweful AUC_Curve"
   ]
  },
  {
   "cell_type": "code",
   "execution_count": 80,
   "id": "30e806e7a2dea6bc",
   "metadata": {
    "ExecuteTime": {
     "end_time": "2024-02-25T22:48:39.987066Z",
     "start_time": "2024-02-25T22:48:37.362090Z"
    },
    "collapsed": false
   },
   "outputs": [
    {
     "name": "stdout",
     "output_type": "stream",
     "text": [
      "0.8989486239342669\n",
      "0.8709298637747716\n",
      "[[38721  2710]\n",
      " [ 1865  1978]]\n",
      "              precision    recall  f1-score   support\n",
      "\n",
      "           0       0.95      0.93      0.94     41431\n",
      "           1       0.42      0.51      0.46      3843\n",
      "\n",
      "    accuracy                           0.90     45274\n",
      "   macro avg       0.69      0.72      0.70     45274\n",
      "weighted avg       0.91      0.90      0.90     45274\n"
     ]
    }
   ],
   "source": [
    "score_model(best_rfc_up, X_tst_up_pr, y_test)"
   ]
  },
  {
   "cell_type": "code",
   "execution_count": 90,
   "id": "ee33a65a37fc2252",
   "metadata": {
    "collapsed": false,
    "ExecuteTime": {
     "end_time": "2024-02-26T01:11:08.080049Z",
     "start_time": "2024-02-26T01:11:07.816524Z"
    }
   },
   "outputs": [
    {
     "name": "stdout",
     "output_type": "stream",
     "text": [
      "0.8862923532270177\n",
      "0.864908522132799\n",
      "[[37900  3531]\n",
      " [ 1617  2226]]\n",
      "              precision    recall  f1-score   support\n",
      "\n",
      "           0       0.96      0.91      0.94     41431\n",
      "           1       0.39      0.58      0.46      3843\n",
      "\n",
      "    accuracy                           0.89     45274\n",
      "   macro avg       0.67      0.75      0.70     45274\n",
      "weighted avg       0.91      0.89      0.90     45274\n"
     ]
    }
   ],
   "source": [
    "score_model(best_xgbc_up, X_tst_pr, y_test)"
   ]
  },
  {
   "cell_type": "markdown",
   "id": "ef03ebe979a2d136",
   "metadata": {
    "collapsed": false
   },
   "source": [
    "## Compair with best models without oversampling"
   ]
  },
  {
   "cell_type": "code",
   "execution_count": 82,
   "id": "6629deb655724577",
   "metadata": {
    "ExecuteTime": {
     "end_time": "2024-02-25T22:55:11.914537Z",
     "start_time": "2024-02-25T22:55:11.694170Z"
    },
    "collapsed": false
   },
   "outputs": [
    {
     "name": "stdout",
     "output_type": "stream",
     "text": [
      "0.9325661527587578\n",
      "0.9167021727191886\n",
      "[[40820   611]\n",
      " [ 2442  1401]]\n",
      "              precision    recall  f1-score   support\n",
      "\n",
      "           0       0.94      0.99      0.96     41431\n",
      "           1       0.70      0.36      0.48      3843\n",
      "\n",
      "    accuracy                           0.93     45274\n",
      "   macro avg       0.82      0.67      0.72     45274\n",
      "weighted avg       0.92      0.93      0.92     45274\n"
     ]
    }
   ],
   "source": [
    "score_model(best_xgbc, X_tst_pr, y_test)"
   ]
  },
  {
   "cell_type": "code",
   "execution_count": 83,
   "id": "dc451c6fbd12622b",
   "metadata": {
    "ExecuteTime": {
     "end_time": "2024-02-25T22:55:17.339358Z",
     "start_time": "2024-02-25T22:55:17.235504Z"
    },
    "collapsed": false
   },
   "outputs": [
    {
     "name": "stdout",
     "output_type": "stream",
     "text": [
      "0.9313292397402483\n",
      "0.913067048836337\n",
      "[[40772   659]\n",
      " [ 2450  1393]]\n",
      "              precision    recall  f1-score   support\n",
      "\n",
      "           0       0.94      0.98      0.96     41431\n",
      "           1       0.68      0.36      0.47      3843\n",
      "\n",
      "    accuracy                           0.93     45274\n",
      "   macro avg       0.81      0.67      0.72     45274\n",
      "weighted avg       0.92      0.93      0.92     45274\n"
     ]
    }
   ],
   "source": [
    "score_model(best_sgdc, X_tst_pr, y_test)"
   ]
  },
  {
   "cell_type": "code",
   "execution_count": 84,
   "id": "60c56ee463bc0541",
   "metadata": {
    "ExecuteTime": {
     "end_time": "2024-02-25T22:55:55.556674Z",
     "start_time": "2024-02-25T22:55:55.245682Z"
    },
    "collapsed": false
   },
   "outputs": [],
   "source": [
    "import pickle\n",
    "# save the model to disk\n",
    "filename = 'res_model_rfc_up.pkl'\n",
    "pickle.dump(best_rfc_up, open(filename, 'wb'))"
   ]
  },
  {
   "cell_type": "code",
   "execution_count": 85,
   "id": "610df6e7450826ab",
   "metadata": {
    "ExecuteTime": {
     "end_time": "2024-02-25T22:55:56.307751Z",
     "start_time": "2024-02-25T22:55:56.244698Z"
    },
    "collapsed": false
   },
   "outputs": [],
   "source": [
    "# save the model to disk\n",
    "filename = 'res_model_xgbc.pkl'\n",
    "pickle.dump(best_xgbc, open(filename, 'wb'))"
   ]
  },
  {
   "cell_type": "code",
   "execution_count": 24,
   "id": "c1a4e07fa96765c7",
   "metadata": {
    "collapsed": false,
    "ExecuteTime": {
     "end_time": "2024-02-26T17:56:46.325272Z",
     "start_time": "2024-02-26T17:56:45.749468Z"
    }
   },
   "outputs": [],
   "source": [
    "import pickle\n",
    "filename = 'res_model_rfc_up.pkl'\n",
    "best_rfc_up = pickle.load(open(filename, 'rb'))"
   ]
  },
  {
   "cell_type": "code",
   "execution_count": null,
   "id": "e2051b99ebefb06e",
   "metadata": {
    "collapsed": false
   },
   "outputs": [],
   "source": []
  },
  {
   "cell_type": "code",
   "execution_count": null,
   "id": "10eb8ea58c5dd5be",
   "metadata": {
    "collapsed": false
   },
   "outputs": [],
   "source": []
  },
  {
   "cell_type": "code",
   "execution_count": 86,
   "id": "a568f6d37edb6d65",
   "metadata": {
    "ExecuteTime": {
     "end_time": "2024-02-25T22:56:03.867599Z",
     "start_time": "2024-02-25T22:56:03.800268Z"
    },
    "collapsed": false
   },
   "outputs": [],
   "source": [
    "y_score = best_xgbc.predict_proba(X_tst_pr)"
   ]
  },
  {
   "cell_type": "code",
   "execution_count": 87,
   "id": "f289e0e0eb9eda09",
   "metadata": {
    "ExecuteTime": {
     "end_time": "2024-02-25T22:56:30.940459Z",
     "start_time": "2024-02-25T22:56:29.816762Z"
    },
    "collapsed": false
   },
   "outputs": [
    {
     "data": {
      "image/png": "[encoded data removed]",
      "text/plain": [
       "<Figure size 640x480 with 1 Axes>"
      ]
     },
     "metadata": {},
     "output_type": "display_data"
    }
   ],
   "source": [
    "from sklearn.metrics import RocCurveDisplay\n",
    "\n",
    "display = RocCurveDisplay.from_predictions(\n",
    "    y_test[:],\n",
    "    y_score[:,1],\n",
    "    name=f\" vs the rest\",\n",
    "    color=\"darkorange\",\n",
    "    plot_chance_level=True,\n",
    ")\n",
    "_ = display.ax_.set(\n",
    "    xlabel=\"False Positive Rate\",\n",
    "    ylabel=\"True Positive Rate\",\n",
    "    title=\"Above-vs-Below ROC curves (XGBoost - original data)\",\n",
    ")"
   ]
  },
  {
   "cell_type": "code",
   "execution_count": 33,
   "id": "5661733a32fd6c92",
   "metadata": {
    "collapsed": false,
    "ExecuteTime": {
     "end_time": "2024-02-26T17:57:54.839068Z",
     "start_time": "2024-02-26T17:57:53.244650Z"
    }
   },
   "outputs": [],
   "source": [
    "y_score_up = best_rfc_up.predict_proba(X_tst_up_pr)"
   ]
  },
  {
   "cell_type": "code",
   "execution_count": 34,
   "id": "5652a8457915fa65",
   "metadata": {
    "collapsed": false,
    "ExecuteTime": {
     "end_time": "2024-02-26T17:57:55.988372Z",
     "start_time": "2024-02-26T17:57:55.581341Z"
    }
   },
   "outputs": [
    {
     "data": {
      "text/plain": "<Figure size 640x480 with 1 Axes>",
      "image/png": "[encoded data removed]"
     },
     "metadata": {},
     "output_type": "display_data"
    }
   ],
   "source": [
    "from sklearn.metrics import RocCurveDisplay\n",
    "display = RocCurveDisplay.from_predictions(\n",
    "    y_test[:],\n",
    "    y_score_up[:,1],\n",
    "    name=f\" vs the rest\",\n",
    "    color=\"darkorange\",\n",
    "    plot_chance_level=True,\n",
    ")\n",
    "_ = display.ax_.set(\n",
    "    xlabel=\"False Positive Rate\",\n",
    "    ylabel=\"True Positive Rate\",\n",
    "    title=\"Above-vs-Below ROC curves (RandomForest - Oversampling)\",\n",
    ")"
   ]
  },
  {
   "cell_type": "code",
   "execution_count": null,
   "id": "4b13976e07c02e03",
   "metadata": {
    "collapsed": false
   },
   "outputs": [],
   "source": []
  }
 ],
 "metadata": {
  "kernelspec": {
   "display_name": "Python 3 (ipykernel)",
   "language": "python",
   "name": "python3"
  },
  "language_info": {
   "codemirror_mode": {
    "name": "ipython",
    "version": 3
   },
   "file_extension": ".py",
   "mimetype": "text/x-python",
   "name": "python",
   "nbconvert_exporter": "python",
   "pygments_lexer": "ipython3",
   "version": "3.11.5"
  }
 },
 "nbformat": 4,
 "nbformat_minor": 5
}
