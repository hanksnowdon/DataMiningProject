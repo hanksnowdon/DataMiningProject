{
 "cells": [
  {
   "cell_type": "code",
   "execution_count": 55,
   "id": "initial_id",
   "metadata": {
    "collapsed": true,
    "ExecuteTime": {
     "end_time": "2024-02-23T21:05:45.169636Z",
     "start_time": "2024-02-23T21:05:45.139414Z"
    }
   },
   "outputs": [],
   "source": [
    "## Set-up.\n",
    "### Libraries\n",
    "import os\n",
    "import numpy as np\n",
    "import pandas as pd\n",
    "import matplotlib.pyplot as plt\n",
    "import seaborn as sns\n"
   ]
  },
  {
   "cell_type": "code",
   "execution_count": 93,
   "outputs": [],
   "source": [
    "! pip freeze > '../requirements.txt'"
   ],
   "metadata": {
    "collapsed": false,
    "ExecuteTime": {
     "end_time": "2024-02-23T22:48:19.959470Z",
     "start_time": "2024-02-23T22:48:18.130233Z"
    }
   },
   "id": "37f5e59bb1acf5ff"
  },
  {
   "cell_type": "code",
   "execution_count": 56,
   "outputs": [],
   "source": [
    "DATA_PATH = '../dataset/'"
   ],
   "metadata": {
    "collapsed": false,
    "ExecuteTime": {
     "end_time": "2024-02-23T21:05:45.910137Z",
     "start_time": "2024-02-23T21:05:45.882957Z"
    }
   },
   "id": "7799ed67d21051b3"
  },
  {
   "cell_type": "code",
   "execution_count": 57,
   "outputs": [],
   "source": [
    "data = pd.read_parquet(os.path.join(DATA_PATH,'data_eng.gzip'))"
   ],
   "metadata": {
    "collapsed": false,
    "ExecuteTime": {
     "end_time": "2024-02-23T21:05:46.611939Z",
     "start_time": "2024-02-23T21:05:46.468293Z"
    }
   },
   "id": "54beca3be7fd9566"
  },
  {
   "cell_type": "code",
   "execution_count": 58,
   "outputs": [
    {
     "data": {
      "text/plain": "     age   gender      education                class  \\\n0    63+   Female     highschool                   NA   \n1    63+   Female     highschool                   NA   \n2  18_24     Male  no_highschool   Federal government   \n4    63+     Male     highschool                   NA   \n5  33_45     Male      bachelors              Private   \n\n                     marital_status                        race is_hispanic  \\\n0                           Widowed                       White          No   \n1                           Widowed                       White          No   \n2                     Never married                       Black          No   \n4   Married-civilian spouse present                       White          No   \n5   Married-civilian spouse present   Asian or Pacific Islander          No   \n\n       employment_commitment employment_stat wage_per_hour  \\\n0                 Unemployed               0          0_10   \n1   Children or Armed Forces               0          0_10   \n2   Children or Armed Forces               0       101_500   \n4                 Unemployed               0          0_10   \n5   Children or Armed Forces               0      501_1000   \n\n  working_week_per_year            industry_code_main  \\\n0    weeks_worked_48_52   Not in universe or children   \n1        weeks_worked_0   Not in universe or children   \n2     weeks_worked_1_25             Hospital services   \n4        weeks_worked_0   Not in universe or children   \n5    weeks_worked_48_52                  Retail trade   \n\n              occupation_code_main       household_summary vet_benefit  \\\n0                               NA             Householder           2   \n1                               NA             Householder           2   \n2   Adm support including clerical       Child 18 or older           2   \n4                               NA   Spouse of householder           2   \n5                    Other service             Householder           2   \n\n             tax_status                           citizenship  \\\n0     Head of household                                Native   \n1                Single                                Native   \n2                Single                                Native   \n4        Joint both 65+                                Native   \n5   Joint both under 65   Foreign born- Not a citizen of U S    \n\n   income_above_limit  investments  \n0                   0         True  \n1                   0        False  \n2                   0        False  \n4                   0        False  \n5                   0        False  ",
      "text/html": "<div>\n<style scoped>\n    .dataframe tbody tr th:only-of-type {\n        vertical-align: middle;\n    }\n\n    .dataframe tbody tr th {\n        vertical-align: top;\n    }\n\n    .dataframe thead th {\n        text-align: right;\n    }\n</style>\n<table border=\"1\" class=\"dataframe\">\n  <thead>\n    <tr style=\"text-align: right;\">\n      <th></th>\n      <th>age</th>\n      <th>gender</th>\n      <th>education</th>\n      <th>class</th>\n      <th>marital_status</th>\n      <th>race</th>\n      <th>is_hispanic</th>\n      <th>employment_commitment</th>\n      <th>employment_stat</th>\n      <th>wage_per_hour</th>\n      <th>working_week_per_year</th>\n      <th>industry_code_main</th>\n      <th>occupation_code_main</th>\n      <th>household_summary</th>\n      <th>vet_benefit</th>\n      <th>tax_status</th>\n      <th>citizenship</th>\n      <th>income_above_limit</th>\n      <th>investments</th>\n    </tr>\n  </thead>\n  <tbody>\n    <tr>\n      <th>0</th>\n      <td>63+</td>\n      <td>Female</td>\n      <td>highschool</td>\n      <td>NA</td>\n      <td>Widowed</td>\n      <td>White</td>\n      <td>No</td>\n      <td>Unemployed</td>\n      <td>0</td>\n      <td>0_10</td>\n      <td>weeks_worked_48_52</td>\n      <td>Not in universe or children</td>\n      <td>NA</td>\n      <td>Householder</td>\n      <td>2</td>\n      <td>Head of household</td>\n      <td>Native</td>\n      <td>0</td>\n      <td>True</td>\n    </tr>\n    <tr>\n      <th>1</th>\n      <td>63+</td>\n      <td>Female</td>\n      <td>highschool</td>\n      <td>NA</td>\n      <td>Widowed</td>\n      <td>White</td>\n      <td>No</td>\n      <td>Children or Armed Forces</td>\n      <td>0</td>\n      <td>0_10</td>\n      <td>weeks_worked_0</td>\n      <td>Not in universe or children</td>\n      <td>NA</td>\n      <td>Householder</td>\n      <td>2</td>\n      <td>Single</td>\n      <td>Native</td>\n      <td>0</td>\n      <td>False</td>\n    </tr>\n    <tr>\n      <th>2</th>\n      <td>18_24</td>\n      <td>Male</td>\n      <td>no_highschool</td>\n      <td>Federal government</td>\n      <td>Never married</td>\n      <td>Black</td>\n      <td>No</td>\n      <td>Children or Armed Forces</td>\n      <td>0</td>\n      <td>101_500</td>\n      <td>weeks_worked_1_25</td>\n      <td>Hospital services</td>\n      <td>Adm support including clerical</td>\n      <td>Child 18 or older</td>\n      <td>2</td>\n      <td>Single</td>\n      <td>Native</td>\n      <td>0</td>\n      <td>False</td>\n    </tr>\n    <tr>\n      <th>4</th>\n      <td>63+</td>\n      <td>Male</td>\n      <td>highschool</td>\n      <td>NA</td>\n      <td>Married-civilian spouse present</td>\n      <td>White</td>\n      <td>No</td>\n      <td>Unemployed</td>\n      <td>0</td>\n      <td>0_10</td>\n      <td>weeks_worked_0</td>\n      <td>Not in universe or children</td>\n      <td>NA</td>\n      <td>Spouse of householder</td>\n      <td>2</td>\n      <td>Joint both 65+</td>\n      <td>Native</td>\n      <td>0</td>\n      <td>False</td>\n    </tr>\n    <tr>\n      <th>5</th>\n      <td>33_45</td>\n      <td>Male</td>\n      <td>bachelors</td>\n      <td>Private</td>\n      <td>Married-civilian spouse present</td>\n      <td>Asian or Pacific Islander</td>\n      <td>No</td>\n      <td>Children or Armed Forces</td>\n      <td>0</td>\n      <td>501_1000</td>\n      <td>weeks_worked_48_52</td>\n      <td>Retail trade</td>\n      <td>Other service</td>\n      <td>Householder</td>\n      <td>2</td>\n      <td>Joint both under 65</td>\n      <td>Foreign born- Not a citizen of U S</td>\n      <td>0</td>\n      <td>False</td>\n    </tr>\n  </tbody>\n</table>\n</div>"
     },
     "execution_count": 58,
     "metadata": {},
     "output_type": "execute_result"
    }
   ],
   "source": [
    "data.head()"
   ],
   "metadata": {
    "collapsed": false,
    "ExecuteTime": {
     "end_time": "2024-02-23T21:05:47.253035Z",
     "start_time": "2024-02-23T21:05:47.151424Z"
    }
   },
   "id": "3366a48b719c2461"
  },
  {
   "cell_type": "code",
   "execution_count": 59,
   "outputs": [],
   "source": [
    "from sklearn.model_selection import RandomizedSearchCV, train_test_split"
   ],
   "metadata": {
    "collapsed": false,
    "ExecuteTime": {
     "end_time": "2024-02-23T21:05:48.859200Z",
     "start_time": "2024-02-23T21:05:48.823584Z"
    }
   },
   "id": "dc0f600cf34b37fb"
  },
  {
   "cell_type": "code",
   "execution_count": 60,
   "outputs": [],
   "source": [
    "X_train, X_test, y_train, y_test = train_test_split(data.drop('income_above_limit', axis=1), data['income_above_limit'], test_size=0.3, random_state=12345)"
   ],
   "metadata": {
    "collapsed": false,
    "ExecuteTime": {
     "end_time": "2024-02-23T21:05:49.953658Z",
     "start_time": "2024-02-23T21:05:49.842806Z"
    }
   },
   "id": "f8138a90bac7b26d"
  },
  {
   "cell_type": "code",
   "execution_count": 60,
   "outputs": [],
   "source": [],
   "metadata": {
    "collapsed": false,
    "ExecuteTime": {
     "end_time": "2024-02-23T21:05:50.789601Z",
     "start_time": "2024-02-23T21:05:50.761606Z"
    }
   },
   "id": "30701b4bb98c057b"
  },
  {
   "cell_type": "code",
   "execution_count": 61,
   "outputs": [],
   "source": [
    "from sklearn.compose import ColumnTransformer\n",
    "from sklearn.impute import SimpleImputer\n",
    "from sklearn.pipeline import Pipeline\n",
    "from sklearn.preprocessing import StandardScaler, OneHotEncoder\n",
    "\n",
    "preprocessor = Pipeline(\n",
    "    steps=[\n",
    "        ('impute',SimpleImputer(strategy='most_frequent')),\n",
    "        ('encoder', OneHotEncoder(handle_unknown=\"ignore\"))\n",
    "        ]\n",
    ")"
   ],
   "metadata": {
    "collapsed": false,
    "ExecuteTime": {
     "end_time": "2024-02-23T21:05:51.406329Z",
     "start_time": "2024-02-23T21:05:51.373139Z"
    }
   },
   "id": "6d5c06ac7b5dc345"
  },
  {
   "cell_type": "code",
   "execution_count": 62,
   "outputs": [],
   "source": [
    "X_tr_pr = preprocessor.fit_transform(X_train)"
   ],
   "metadata": {
    "collapsed": false,
    "ExecuteTime": {
     "end_time": "2024-02-23T21:05:52.976178Z",
     "start_time": "2024-02-23T21:05:52.091079Z"
    }
   },
   "id": "2b59112ae7a51795"
  },
  {
   "cell_type": "code",
   "execution_count": 63,
   "outputs": [],
   "source": [
    "X_tst_pr = preprocessor.transform(X_test)"
   ],
   "metadata": {
    "collapsed": false,
    "ExecuteTime": {
     "end_time": "2024-02-23T21:05:53.197551Z",
     "start_time": "2024-02-23T21:05:52.978370Z"
    }
   },
   "id": "68764424afbc067"
  },
  {
   "cell_type": "code",
   "execution_count": 64,
   "outputs": [],
   "source": [
    "from sklearn.model_selection import GridSearchCV\n",
    "from sklearn.metrics import roc_auc_score as ROC\n",
    "\n",
    "def dmp_first_classifier(model, train_x, train_y, test_x, test_y, parameters ={}):\n",
    "    classifier = model()\n",
    "    if len(parameters.items())>0:\n",
    "        searcher = GridSearchCV(classifier, parameters, cv=5)\n",
    "        searcher.fit(train_x, train_y)\n",
    "        print(f'Model {model}')\n",
    "        print(\"Best CV params\", searcher.best_params_)\n",
    "        #print(\"Test accuracy of best grid search hypers:\", searcher.score(test_x, test_y))\n",
    "        best_model = searcher.best_estimator_\n",
    "    else: best_model = classifier\n",
    "    best_model.fit(train_x, train_y)\n",
    "    print(\"Test accuracy of best grid search hypers:\", best_model.score(test_x, test_y))\n",
    "    return best_model"
   ],
   "metadata": {
    "collapsed": false,
    "ExecuteTime": {
     "end_time": "2024-02-23T21:06:01.846485Z",
     "start_time": "2024-02-23T21:06:01.822176Z"
    }
   },
   "id": "e5278e6cff7ec7e6"
  },
  {
   "cell_type": "code",
   "execution_count": 36,
   "outputs": [
    {
     "name": "stdout",
     "output_type": "stream",
     "text": [
      "Test accuracy of best grid search hypers: 0.9312188010778814\n"
     ]
    }
   ],
   "source": [
    "from sklearn.linear_model import LogisticRegression\n",
    "lrg = LogisticRegression\n",
    "parameters = {}\n",
    "best_lrg = dmp_first_classifier(lrg, X_tr_pr, y_train, X_tst_pr, y_test, parameters)"
   ],
   "metadata": {
    "collapsed": false,
    "ExecuteTime": {
     "end_time": "2024-02-23T20:34:38.956323Z",
     "start_time": "2024-02-23T20:34:38.649847Z"
    }
   },
   "id": "693f3c8ff812ebb1"
  },
  {
   "cell_type": "code",
   "execution_count": 42,
   "outputs": [
    {
     "name": "stdout",
     "output_type": "stream",
     "text": [
      "Test accuracy of best grid search hypers: 0.9217652515792729\n"
     ]
    }
   ],
   "source": [
    "from sklearn.neighbors import KNeighborsClassifier\n",
    "knc = KNeighborsClassifier\n",
    "parameters = {}\n",
    "best_knc = dmp_first_classifier(knc, X_tr_pr, y_train, X_tst_pr, y_test, parameters)"
   ],
   "metadata": {
    "collapsed": false,
    "ExecuteTime": {
     "end_time": "2024-02-23T20:48:52.243993Z",
     "start_time": "2024-02-23T20:43:58.449541Z"
    }
   },
   "id": "85797d85931f907"
  },
  {
   "cell_type": "code",
   "execution_count": 40,
   "outputs": [
    {
     "name": "stdout",
     "output_type": "stream",
     "text": [
      "Test accuracy of best grid search hypers: 0.9255864292971684\n"
     ]
    }
   ],
   "source": [
    "from sklearn.ensemble import RandomForestClassifier\n",
    "rfc = RandomForestClassifier\n",
    "parameters = {}\n",
    "best_rfc = dmp_first_classifier(rfc, X_tr_pr, y_train, X_tst_pr, y_test, parameters)"
   ],
   "metadata": {
    "collapsed": false,
    "ExecuteTime": {
     "end_time": "2024-02-23T20:43:10.440147Z",
     "start_time": "2024-02-23T20:40:28.271160Z"
    }
   },
   "id": "3dd060ce0ed44d99"
  },
  {
   "cell_type": "code",
   "execution_count": 37,
   "outputs": [
    {
     "name": "stdout",
     "output_type": "stream",
     "text": [
      "Test accuracy of best grid search hypers: 0.9240623757565049\n"
     ]
    }
   ],
   "source": [
    "from sklearn.linear_model import SGDClassifier\n",
    "sgdc = SGDClassifier\n",
    "parameters = {}\n",
    "best_sgdc = dmp_first_classifier(sgdc, X_tr_pr, y_train, X_tst_pr, y_test, parameters)\n"
   ],
   "metadata": {
    "collapsed": false,
    "ExecuteTime": {
     "end_time": "2024-02-23T20:34:54.781849Z",
     "start_time": "2024-02-23T20:34:54.382870Z"
    }
   },
   "id": "10e6a4e0e32d8707"
  },
  {
   "cell_type": "code",
   "execution_count": 41,
   "outputs": [
    {
     "name": "stdout",
     "output_type": "stream",
     "text": [
      "Test accuracy of best grid search hypers: 0.9309095728232539\n"
     ]
    }
   ],
   "source": [
    "from sklearn.ensemble import GradientBoostingClassifier\n",
    "gbc = GradientBoostingClassifier\n",
    "parameters = {}\n",
    "best_gbc = dmp_first_classifier(gbc, X_tr_pr, y_train, X_tst_pr, y_test, parameters)"
   ],
   "metadata": {
    "collapsed": false,
    "ExecuteTime": {
     "end_time": "2024-02-23T20:43:40.537413Z",
     "start_time": "2024-02-23T20:43:25.211222Z"
    }
   },
   "id": "394844e5c940cd4"
  },
  {
   "cell_type": "code",
   "execution_count": 38,
   "outputs": [
    {
     "name": "stdout",
     "output_type": "stream",
     "text": [
      "Test accuracy of best grid search hypers: 0.9321243981092902\n"
     ]
    }
   ],
   "source": [
    "import xgboost as xgb\n",
    "xgbc = xgb.XGBClassifier\n",
    "parameters = {}\n",
    "best_xgbc = dmp_first_classifier(xgbc, X_tr_pr, y_train, X_tst_pr, y_test, parameters)\n",
    "\n"
   ],
   "metadata": {
    "collapsed": false,
    "ExecuteTime": {
     "end_time": "2024-02-23T20:35:01.785807Z",
     "start_time": "2024-02-23T20:35:00.853690Z"
    }
   },
   "id": "e6be298f7e27f669"
  },
  {
   "cell_type": "code",
   "execution_count": null,
   "outputs": [],
   "source": [],
   "metadata": {
    "collapsed": false
   },
   "id": "27cfd987e57979df"
  },
  {
   "cell_type": "code",
   "execution_count": null,
   "outputs": [],
   "source": [],
   "metadata": {
    "collapsed": false
   },
   "id": "114bb8bb4bba1894"
  },
  {
   "cell_type": "code",
   "execution_count": 43,
   "outputs": [],
   "source": [
    "from sklearn import metrics\n",
    "\n",
    "def score_model(model, X, y):\n",
    "    predicted = model.predict(X)\n",
    "    probs = model.predict_proba(X)\n",
    "    \n",
    "    # Generate and display different evaluation metrics\n",
    "    print(metrics.accuracy_score(y, predicted))\n",
    "    print(metrics.roc_auc_score(y, probs[:, 1]))\n",
    "    \n",
    "    print(metrics.confusion_matrix(y, predicted))\n",
    "    print(metrics.classification_report(y, predicted))"
   ],
   "metadata": {
    "collapsed": false,
    "ExecuteTime": {
     "end_time": "2024-02-23T20:49:10.621123Z",
     "start_time": "2024-02-23T20:49:10.599020Z"
    }
   },
   "id": "ed4856bcaf63daeb"
  },
  {
   "cell_type": "code",
   "execution_count": 44,
   "outputs": [
    {
     "name": "stdout",
     "output_type": "stream",
     "text": [
      "0.9321243981092902\n",
      "0.9163243228760418\n",
      "[[40683   748]\n",
      " [ 2325  1518]]\n",
      "              precision    recall  f1-score   support\n",
      "\n",
      "           0       0.95      0.98      0.96     41431\n",
      "           1       0.67      0.40      0.50      3843\n",
      "\n",
      "    accuracy                           0.93     45274\n",
      "   macro avg       0.81      0.69      0.73     45274\n",
      "weighted avg       0.92      0.93      0.92     45274\n"
     ]
    }
   ],
   "source": [
    "score_model(best_xgbc, X_tst_pr, y_test)"
   ],
   "metadata": {
    "collapsed": false,
    "ExecuteTime": {
     "end_time": "2024-02-23T20:49:43.605310Z",
     "start_time": "2024-02-23T20:49:43.400144Z"
    }
   },
   "id": "d8b5a060a0c06079"
  },
  {
   "cell_type": "code",
   "execution_count": null,
   "outputs": [],
   "source": [],
   "metadata": {
    "collapsed": false
   },
   "id": "2d5ecc5eb42085e1"
  },
  {
   "cell_type": "code",
   "execution_count": 65,
   "outputs": [],
   "source": [
    "upsample_training = X_train.copy()\n",
    "upsample_training['Y'] = y_train"
   ],
   "metadata": {
    "collapsed": false,
    "ExecuteTime": {
     "end_time": "2024-02-23T21:06:09.739667Z",
     "start_time": "2024-02-23T21:06:09.697817Z"
    }
   },
   "id": "89cb3de9140b9871"
  },
  {
   "cell_type": "code",
   "execution_count": 66,
   "outputs": [],
   "source": [
    "bellow = upsample_training.loc[upsample_training.Y==0]\n",
    "above = upsample_training.loc[upsample_training.Y==1]"
   ],
   "metadata": {
    "collapsed": false,
    "ExecuteTime": {
     "end_time": "2024-02-23T21:06:10.253043Z",
     "start_time": "2024-02-23T21:06:10.200045Z"
    }
   },
   "id": "bdde36c5038f1133"
  },
  {
   "cell_type": "code",
   "execution_count": 67,
   "outputs": [],
   "source": [
    "from sklearn.utils import resample\n",
    "above_upsample = resample(above,\n",
    "             replace=True,\n",
    "             n_samples=len(bellow),\n",
    "             random_state=12345)"
   ],
   "metadata": {
    "collapsed": false,
    "ExecuteTime": {
     "end_time": "2024-02-23T21:06:10.794201Z",
     "start_time": "2024-02-23T21:06:10.756120Z"
    }
   },
   "id": "10f891d45c0c161e"
  },
  {
   "cell_type": "code",
   "execution_count": 68,
   "outputs": [
    {
     "name": "stdout",
     "output_type": "stream",
     "text": [
      "(96485, 19)\n",
      "(96485, 19)\n"
     ]
    }
   ],
   "source": [
    "print(bellow.shape)\n",
    "print(above_upsample.shape)"
   ],
   "metadata": {
    "collapsed": false,
    "ExecuteTime": {
     "end_time": "2024-02-23T21:06:12.536412Z",
     "start_time": "2024-02-23T21:06:12.512803Z"
    }
   },
   "id": "4672818d224d3e1e"
  },
  {
   "cell_type": "code",
   "execution_count": 69,
   "outputs": [
    {
     "data": {
      "text/plain": "         age   gender      education     class  \\\n87286    63+   Female        masters        NA   \n78624  46_62   Female     highschool        NA   \n2842     63+     Male  no_highschool        NA   \n88532  46_62   Female     highschool   Private   \n10009  46_62   Female    somecollege   Private   \n\n                         marital_status    race is_hispanic  \\\n87286                     Never married   White          No   \n78624   Married-civilian spouse present   White          No   \n2842    Married-civilian spouse present   White          No   \n88532                     Never married   White          No   \n10009                          Divorced   White          No   \n\n           employment_commitment employment_stat wage_per_hour  \\\n87286   Children or Armed Forces               0          0_10   \n78624   Children or Armed Forces               0          0_10   \n2842                  Unemployed               0          0_10   \n88532        Full-time schedules               2          0_10   \n10009   Children or Armed Forces               0          0_10   \n\n      working_week_per_year            industry_code_main  \\\n87286        weeks_worked_0   Not in universe or children   \n78624        weeks_worked_0   Not in universe or children   \n2842         weeks_worked_0   Not in universe or children   \n88532    weeks_worked_48_52                  Retail trade   \n10009    weeks_worked_48_52               Social services   \n\n                  occupation_code_main       household_summary vet_benefit  \\\n87286                               NA             Householder           2   \n78624                               NA   Spouse of householder           2   \n2842                                NA             Householder           2   \n88532   Adm support including clerical       Child 18 or older           2   \n10009           Professional specialty             Householder           2   \n\n                          tax_status citizenship  investments  Y  \n87286                         Single      Native        False  0  \n78624   Joint one under 65 & one 65+      Native        False  0  \n2842                  Joint both 65+      Native        False  0  \n88532                         Single      Native        False  0  \n10009              Head of household      Native        False  0  ",
      "text/html": "<div>\n<style scoped>\n    .dataframe tbody tr th:only-of-type {\n        vertical-align: middle;\n    }\n\n    .dataframe tbody tr th {\n        vertical-align: top;\n    }\n\n    .dataframe thead th {\n        text-align: right;\n    }\n</style>\n<table border=\"1\" class=\"dataframe\">\n  <thead>\n    <tr style=\"text-align: right;\">\n      <th></th>\n      <th>age</th>\n      <th>gender</th>\n      <th>education</th>\n      <th>class</th>\n      <th>marital_status</th>\n      <th>race</th>\n      <th>is_hispanic</th>\n      <th>employment_commitment</th>\n      <th>employment_stat</th>\n      <th>wage_per_hour</th>\n      <th>working_week_per_year</th>\n      <th>industry_code_main</th>\n      <th>occupation_code_main</th>\n      <th>household_summary</th>\n      <th>vet_benefit</th>\n      <th>tax_status</th>\n      <th>citizenship</th>\n      <th>investments</th>\n      <th>Y</th>\n    </tr>\n  </thead>\n  <tbody>\n    <tr>\n      <th>87286</th>\n      <td>63+</td>\n      <td>Female</td>\n      <td>masters</td>\n      <td>NA</td>\n      <td>Never married</td>\n      <td>White</td>\n      <td>No</td>\n      <td>Children or Armed Forces</td>\n      <td>0</td>\n      <td>0_10</td>\n      <td>weeks_worked_0</td>\n      <td>Not in universe or children</td>\n      <td>NA</td>\n      <td>Householder</td>\n      <td>2</td>\n      <td>Single</td>\n      <td>Native</td>\n      <td>False</td>\n      <td>0</td>\n    </tr>\n    <tr>\n      <th>78624</th>\n      <td>46_62</td>\n      <td>Female</td>\n      <td>highschool</td>\n      <td>NA</td>\n      <td>Married-civilian spouse present</td>\n      <td>White</td>\n      <td>No</td>\n      <td>Children or Armed Forces</td>\n      <td>0</td>\n      <td>0_10</td>\n      <td>weeks_worked_0</td>\n      <td>Not in universe or children</td>\n      <td>NA</td>\n      <td>Spouse of householder</td>\n      <td>2</td>\n      <td>Joint one under 65 &amp; one 65+</td>\n      <td>Native</td>\n      <td>False</td>\n      <td>0</td>\n    </tr>\n    <tr>\n      <th>2842</th>\n      <td>63+</td>\n      <td>Male</td>\n      <td>no_highschool</td>\n      <td>NA</td>\n      <td>Married-civilian spouse present</td>\n      <td>White</td>\n      <td>No</td>\n      <td>Unemployed</td>\n      <td>0</td>\n      <td>0_10</td>\n      <td>weeks_worked_0</td>\n      <td>Not in universe or children</td>\n      <td>NA</td>\n      <td>Householder</td>\n      <td>2</td>\n      <td>Joint both 65+</td>\n      <td>Native</td>\n      <td>False</td>\n      <td>0</td>\n    </tr>\n    <tr>\n      <th>88532</th>\n      <td>46_62</td>\n      <td>Female</td>\n      <td>highschool</td>\n      <td>Private</td>\n      <td>Never married</td>\n      <td>White</td>\n      <td>No</td>\n      <td>Full-time schedules</td>\n      <td>2</td>\n      <td>0_10</td>\n      <td>weeks_worked_48_52</td>\n      <td>Retail trade</td>\n      <td>Adm support including clerical</td>\n      <td>Child 18 or older</td>\n      <td>2</td>\n      <td>Single</td>\n      <td>Native</td>\n      <td>False</td>\n      <td>0</td>\n    </tr>\n    <tr>\n      <th>10009</th>\n      <td>46_62</td>\n      <td>Female</td>\n      <td>somecollege</td>\n      <td>Private</td>\n      <td>Divorced</td>\n      <td>White</td>\n      <td>No</td>\n      <td>Children or Armed Forces</td>\n      <td>0</td>\n      <td>0_10</td>\n      <td>weeks_worked_48_52</td>\n      <td>Social services</td>\n      <td>Professional specialty</td>\n      <td>Householder</td>\n      <td>2</td>\n      <td>Head of household</td>\n      <td>Native</td>\n      <td>False</td>\n      <td>0</td>\n    </tr>\n  </tbody>\n</table>\n</div>"
     },
     "execution_count": 69,
     "metadata": {},
     "output_type": "execute_result"
    }
   ],
   "source": [
    "data_upsample = pd.concat([bellow, above_upsample])\n",
    "data_upsample.head()"
   ],
   "metadata": {
    "collapsed": false,
    "ExecuteTime": {
     "end_time": "2024-02-23T21:06:13.652822Z",
     "start_time": "2024-02-23T21:06:13.593289Z"
    }
   },
   "id": "748b29d3e1534dbd"
  },
  {
   "cell_type": "code",
   "execution_count": 70,
   "outputs": [],
   "source": [
    "X_train_up = data_upsample.drop('Y', axis=1)\n",
    "y_train_up = data_upsample.Y"
   ],
   "metadata": {
    "collapsed": false,
    "ExecuteTime": {
     "end_time": "2024-02-23T21:06:16.988873Z",
     "start_time": "2024-02-23T21:06:16.946198Z"
    }
   },
   "id": "336b6abe0932f156"
  },
  {
   "cell_type": "code",
   "execution_count": 71,
   "outputs": [],
   "source": [
    "X_train_up_pr = preprocessor.transform(X_train_up)"
   ],
   "metadata": {
    "collapsed": false,
    "ExecuteTime": {
     "end_time": "2024-02-23T21:06:28.167265Z",
     "start_time": "2024-02-23T21:06:27.147648Z"
    }
   },
   "id": "fb79a93286d7b634"
  },
  {
   "cell_type": "code",
   "execution_count": 72,
   "outputs": [
    {
     "name": "stdout",
     "output_type": "stream",
     "text": [
      "Test accuracy of best grid search hypers: 0.8299907231523612\n"
     ]
    }
   ],
   "source": [
    "from sklearn.linear_model import LogisticRegression\n",
    "lrg = LogisticRegression\n",
    "parameters = {}\n",
    "best_lrg_up = dmp_first_classifier(lrg, X_train_up_pr, y_train_up, X_tst_pr, y_test, parameters)"
   ],
   "metadata": {
    "collapsed": false,
    "ExecuteTime": {
     "end_time": "2024-02-23T21:06:29.901467Z",
     "start_time": "2024-02-23T21:06:28.833401Z"
    }
   },
   "id": "76d5039d2ef21a74"
  },
  {
   "cell_type": "code",
   "execution_count": 73,
   "outputs": [
    {
     "name": "stdout",
     "output_type": "stream",
     "text": [
      "Test accuracy of best grid search hypers: 0.8463577329151389\n"
     ]
    }
   ],
   "source": [
    "import xgboost as xgb\n",
    "xgbc = xgb.XGBClassifier\n",
    "parameters = {}\n",
    "best_xgbc_up = dmp_first_classifier(xgbc, X_train_up_pr, y_train_up, X_tst_pr, y_test, parameters)"
   ],
   "metadata": {
    "collapsed": false,
    "ExecuteTime": {
     "end_time": "2024-02-23T21:08:44.449686Z",
     "start_time": "2024-02-23T21:08:42.480973Z"
    }
   },
   "id": "aa4ad7bb0ac1c1f3"
  },
  {
   "cell_type": "code",
   "execution_count": 95,
   "outputs": [
    {
     "name": "stdout",
     "output_type": "stream",
     "text": [
      "Test accuracy of best grid search hypers: 0.899302027653841\n"
     ]
    }
   ],
   "source": [
    "from sklearn.ensemble import RandomForestClassifier\n",
    "rfc = RandomForestClassifier\n",
    "parameters = {}\n",
    "best_rfc_up = dmp_first_classifier(rfc, X_train_up_pr, y_train_up, X_tst_pr, y_test, parameters)"
   ],
   "metadata": {
    "collapsed": false,
    "ExecuteTime": {
     "end_time": "2024-02-23T23:06:12.251388Z",
     "start_time": "2024-02-23T23:00:18.757240Z"
    }
   },
   "id": "f048355d8ea9b51c"
  },
  {
   "cell_type": "code",
   "execution_count": 74,
   "outputs": [
    {
     "name": "stdout",
     "output_type": "stream",
     "text": [
      "0.8463577329151389\n",
      "0.9134371483643887\n",
      "[[35157  6274]\n",
      " [  682  3161]]\n",
      "              precision    recall  f1-score   support\n",
      "\n",
      "           0       0.98      0.85      0.91     41431\n",
      "           1       0.34      0.82      0.48      3843\n",
      "\n",
      "    accuracy                           0.85     45274\n",
      "   macro avg       0.66      0.84      0.69     45274\n",
      "weighted avg       0.93      0.85      0.87     45274\n"
     ]
    }
   ],
   "source": [
    "score_model(best_xgbc_up, X_tst_pr, y_test)"
   ],
   "metadata": {
    "collapsed": false,
    "ExecuteTime": {
     "end_time": "2024-02-23T21:09:16.430076Z",
     "start_time": "2024-02-23T21:09:16.194278Z"
    }
   },
   "id": "3b6446df49186e3e"
  },
  {
   "cell_type": "code",
   "execution_count": 75,
   "outputs": [
    {
     "name": "stdout",
     "output_type": "stream",
     "text": [
      "0.9321243981092902\n",
      "0.9163243228760418\n",
      "[[40683   748]\n",
      " [ 2325  1518]]\n",
      "              precision    recall  f1-score   support\n",
      "\n",
      "           0       0.95      0.98      0.96     41431\n",
      "           1       0.67      0.40      0.50      3843\n",
      "\n",
      "    accuracy                           0.93     45274\n",
      "   macro avg       0.81      0.69      0.73     45274\n",
      "weighted avg       0.92      0.93      0.92     45274\n"
     ]
    }
   ],
   "source": [
    "score_model(best_xgbc, X_tst_pr, y_test)"
   ],
   "metadata": {
    "collapsed": false,
    "ExecuteTime": {
     "end_time": "2024-02-23T21:10:36.306793Z",
     "start_time": "2024-02-23T21:10:36.107646Z"
    }
   },
   "id": "6629deb655724577"
  },
  {
   "cell_type": "code",
   "execution_count": 91,
   "outputs": [
    {
     "name": "stdout",
     "output_type": "stream",
     "text": [
      "0.9312188010778814\n",
      "0.9144887857305619\n",
      "[[40788   643]\n",
      " [ 2471  1372]]\n",
      "              precision    recall  f1-score   support\n",
      "\n",
      "           0       0.94      0.98      0.96     41431\n",
      "           1       0.68      0.36      0.47      3843\n",
      "\n",
      "    accuracy                           0.93     45274\n",
      "   macro avg       0.81      0.67      0.72     45274\n",
      "weighted avg       0.92      0.93      0.92     45274\n"
     ]
    }
   ],
   "source": [
    "score_model(best_lrg, X_tst_pr, y_test)"
   ],
   "metadata": {
    "collapsed": false,
    "ExecuteTime": {
     "end_time": "2024-02-23T22:41:05.950345Z",
     "start_time": "2024-02-23T22:41:05.805224Z"
    }
   },
   "id": "dc451c6fbd12622b"
  },
  {
   "cell_type": "code",
   "execution_count": 92,
   "outputs": [
    {
     "name": "stdout",
     "output_type": "stream",
     "text": [
      "0.8299907231523612\n",
      "0.9143028849392304\n",
      "[[34313  7118]\n",
      " [  579  3264]]\n",
      "              precision    recall  f1-score   support\n",
      "\n",
      "           0       0.98      0.83      0.90     41431\n",
      "           1       0.31      0.85      0.46      3843\n",
      "\n",
      "    accuracy                           0.83     45274\n",
      "   macro avg       0.65      0.84      0.68     45274\n",
      "weighted avg       0.93      0.83      0.86     45274\n"
     ]
    }
   ],
   "source": [
    "score_model(best_lrg_up, X_tst_pr, y_test)"
   ],
   "metadata": {
    "collapsed": false,
    "ExecuteTime": {
     "end_time": "2024-02-23T22:41:18.045635Z",
     "start_time": "2024-02-23T22:41:17.912467Z"
    }
   },
   "id": "30e806e7a2dea6bc"
  },
  {
   "cell_type": "code",
   "execution_count": 94,
   "outputs": [
    {
     "name": "stdout",
     "output_type": "stream",
     "text": [
      "0.9255864292971684\n",
      "0.8805177854877709\n",
      "[[40536   895]\n",
      " [ 2474  1369]]\n",
      "              precision    recall  f1-score   support\n",
      "\n",
      "           0       0.94      0.98      0.96     41431\n",
      "           1       0.60      0.36      0.45      3843\n",
      "\n",
      "    accuracy                           0.93     45274\n",
      "   macro avg       0.77      0.67      0.70     45274\n",
      "weighted avg       0.91      0.93      0.92     45274\n"
     ]
    }
   ],
   "source": [
    "score_model(best_rfc, X_tst_pr, y_test)"
   ],
   "metadata": {
    "collapsed": false,
    "ExecuteTime": {
     "end_time": "2024-02-23T22:58:12.595080Z",
     "start_time": "2024-02-23T22:58:09.839402Z"
    }
   },
   "id": "ee33a65a37fc2252"
  },
  {
   "cell_type": "code",
   "execution_count": null,
   "outputs": [],
   "source": [],
   "metadata": {
    "collapsed": false
   },
   "id": "60c56ee463bc0541"
  },
  {
   "cell_type": "code",
   "execution_count": null,
   "outputs": [],
   "source": [],
   "metadata": {
    "collapsed": false
   },
   "id": "610df6e7450826ab"
  },
  {
   "cell_type": "code",
   "execution_count": null,
   "outputs": [],
   "source": [],
   "metadata": {
    "collapsed": false
   },
   "id": "c1a4e07fa96765c7"
  },
  {
   "cell_type": "code",
   "execution_count": null,
   "outputs": [],
   "source": [],
   "metadata": {
    "collapsed": false
   },
   "id": "e2051b99ebefb06e"
  },
  {
   "cell_type": "code",
   "execution_count": null,
   "outputs": [],
   "source": [],
   "metadata": {
    "collapsed": false
   },
   "id": "10eb8ea58c5dd5be"
  },
  {
   "cell_type": "code",
   "execution_count": 81,
   "outputs": [],
   "source": [
    "y_score = best_xgbc.predict_proba(X_tst_pr)"
   ],
   "metadata": {
    "collapsed": false,
    "ExecuteTime": {
     "end_time": "2024-02-23T21:22:10.196068Z",
     "start_time": "2024-02-23T21:22:10.151286Z"
    }
   },
   "id": "a568f6d37edb6d65"
  },
  {
   "cell_type": "code",
   "execution_count": 90,
   "outputs": [
    {
     "data": {
      "text/plain": "<Figure size 640x480 with 1 Axes>",
      "image/png": "[encoded data removed]"
     },
     "metadata": {},
     "output_type": "display_data"
    }
   ],
   "source": [
    "from sklearn.metrics import RocCurveDisplay\n",
    "\n",
    "display = RocCurveDisplay.from_predictions(\n",
    "    y_test[:],\n",
    "    y_score[:,1],\n",
    "    name=f\" vs the rest\",\n",
    "    color=\"darkorange\",\n",
    "    plot_chance_level=True,\n",
    ")\n",
    "_ = display.ax_.set(\n",
    "    xlabel=\"False Positive Rate\",\n",
    "    ylabel=\"True Positive Rate\",\n",
    "    title=\"Above-vs-Below ROC curves\",\n",
    ")"
   ],
   "metadata": {
    "collapsed": false,
    "ExecuteTime": {
     "end_time": "2024-02-23T21:26:07.542931Z",
     "start_time": "2024-02-23T21:26:07.188674Z"
    }
   },
   "id": "f289e0e0eb9eda09"
  },
  {
   "cell_type": "code",
   "execution_count": 86,
   "outputs": [],
   "source": [
    "y_score_up = best_xgbc_up.predict_proba(X_tst_pr)"
   ],
   "metadata": {
    "collapsed": false,
    "ExecuteTime": {
     "end_time": "2024-02-23T21:24:00.063558Z",
     "start_time": "2024-02-23T21:23:59.966025Z"
    }
   },
   "id": "5661733a32fd6c92"
  },
  {
   "cell_type": "code",
   "execution_count": 87,
   "outputs": [
    {
     "data": {
      "text/plain": "<Figure size 640x480 with 1 Axes>",
      "image/png": "[encoded data removed]"
     },
     "metadata": {},
     "output_type": "display_data"
    }
   ],
   "source": [
    "display = RocCurveDisplay.from_predictions(\n",
    "    y_test[:],\n",
    "    y_score_up[:,1],\n",
    "    name=f\" vs the rest\",\n",
    "    color=\"darkorange\",\n",
    "    plot_chance_level=True,\n",
    ")\n",
    "_ = display.ax_.set(\n",
    "    xlabel=\"False Positive Rate\",\n",
    "    ylabel=\"True Positive Rate\",\n",
    "    title=\"One-vs-Rest ROC curves:\\nVirginica vs (Setosa & Versicolor)\",\n",
    ")"
   ],
   "metadata": {
    "collapsed": false,
    "ExecuteTime": {
     "end_time": "2024-02-23T21:24:19.910023Z",
     "start_time": "2024-02-23T21:24:19.521604Z"
    }
   },
   "id": "5652a8457915fa65"
  },
  {
   "cell_type": "code",
   "execution_count": null,
   "outputs": [],
   "source": [],
   "metadata": {
    "collapsed": false
   },
   "id": "4b13976e07c02e03"
  }
 ],
 "metadata": {
  "kernelspec": {
   "display_name": "Python 3",
   "language": "python",
   "name": "python3"
  },
  "language_info": {
   "codemirror_mode": {
    "name": "ipython",
    "version": 2
   },
   "file_extension": ".py",
   "mimetype": "text/x-python",
   "name": "python",
   "nbconvert_exporter": "python",
   "pygments_lexer": "ipython2",
   "version": "2.7.6"
  }
 },
 "nbformat": 4,
 "nbformat_minor": 5
}
