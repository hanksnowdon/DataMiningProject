{
 "cells": [
  {
   "cell_type": "markdown",
   "source": [
    "## Set-up.\n",
    "### Libraries"
   ],
   "metadata": {
    "collapsed": false
   },
   "id": "eeffa88ff30542b7"
  },
  {
   "cell_type": "code",
   "execution_count": 1,
   "outputs": [],
   "source": [
    "import os\n",
    "import numpy as np\n",
    "import pandas as pd\n",
    "import matplotlib.pyplot as plt\n",
    "import seaborn as sns"
   ],
   "metadata": {
    "collapsed": false,
    "ExecuteTime": {
     "end_time": "2024-01-28T22:16:31.659384Z",
     "start_time": "2024-01-28T22:16:31.656766Z"
    }
   },
   "id": "b981e3fe1f3b3348"
  },
  {
   "cell_type": "code",
   "execution_count": 37,
   "outputs": [],
   "source": [
    "#! cd ..\n",
    "! pip freeze > '../reqirements.txt'"
   ],
   "metadata": {
    "collapsed": false,
    "ExecuteTime": {
     "end_time": "2024-01-28T18:30:53.129834Z",
     "start_time": "2024-01-28T18:30:51.863653Z"
    }
   },
   "id": "cb4fde0432831698"
  },
  {
   "cell_type": "markdown",
   "source": [
    "### Global variebles"
   ],
   "metadata": {
    "collapsed": false
   },
   "id": "9ec3c496080c63b4"
  },
  {
   "cell_type": "code",
   "execution_count": 2,
   "outputs": [],
   "source": [
    "DATA_PATH = '../dataset/'"
   ],
   "metadata": {
    "collapsed": false,
    "ExecuteTime": {
     "end_time": "2024-01-28T22:16:31.670737Z",
     "start_time": "2024-01-28T22:16:31.660777Z"
    }
   },
   "id": "c2e311ae35652cdc"
  },
  {
   "cell_type": "code",
   "execution_count": 21,
   "outputs": [
    {
     "name": "stdout",
     "output_type": "stream",
     "text": [
      "ID,age,gender,education,class,education_institute,marital_status,race,is_hispanic,employment_commitment,unemployment_reason,employment_stat,wage_per_hour,is_labor_union,working_week_per_year,industry_code,industry_code_main,occupation_code,occupation_code_main,total_employed,household_stat,household_summary,under_18_family,veterans_admin_questionnaire,vet_benefit,tax_status,gains,losses,stocks_status,citizenship,mig_year,country_of_birth_own,country_of_birth_father,country_of_birth_mother,migration_code_change_in_msa,migration_prev_sunbelt,migration_code_move_within_reg,migration_code_change_in_reg,residence_1_year_ago,old_residence_reg,old_residence_state,importance_of_record,income_above_limit\r\n",
      "ID_TZ0000,79, Female, High school graduate,,, Widowed, White, All other, Not in labor force,,0,0,,52,0, Not in universe or children,0,,2, Householder, Householder,,,2, Head of household,0,0,292,Native,95,US,US,US, ?, ?, ?, ?,,,,1779.74,Below limit\r\n",
      "ID_TZ0001,65, Female, High school graduate,,, Widowed, White, All other, Children or Armed Forces,,0,0,,0,0, Not in universe or children,0,,0, Nonfamily householder, Householder,,,2, Single,0,0,0,Native,94,US,US,US,unchanged,,unchanged,unchanged,Same,,,2366.75,Below limit\r\n",
      "ID_TZ0002,21, Male, 12th grade no diploma, Federal government,, Never married, Black, All other, Children or Armed Forces,,0,500, No,15,41, Hospital services,26, Adm support including clerical,4, Child 18+ never marr Not in a subfamily, Child 18 or older,,,2, Single,0,0,0,Native,94,US,US,US,unchanged,,unchanged,unchanged,Same,,,1693.42,Below limit\r\n",
      "ID_TZ0003,2, Female, Children,,, Never married, Asian or Pacific Islander, All other, Children or Armed Forces,,0,0,,0,0, Not in universe or children,0,,0, Child <18 never marr not in subfamily, Child under 18 never married, Both parents present,,0, Nonfiler,0,0,0,Native,94,US, India, India,unchanged,,unchanged,unchanged,Same,,,1380.27,Below limit\r\n",
      "ID_TZ0004,70, Male, High school graduate,,, Married-civilian spouse present, White, All other, Not in labor force,,0,0,,0,0, Not in universe or children,0,,0, Spouse of householder, Spouse of householder,,,2, Joint both 65+,0,0,0,Native,95,US,US,US, ?, ?, ?, ?,,,,1580.79,Below limit\r\n",
      "ID_TZ0005,45, Male, Bachelors degree(BA AB BS), Private,, Married-civilian spouse present, Asian or Pacific Islander, All other, Children or Armed Forces,,0,825, No,52,33, Retail trade,31, Other service,6, Householder, Householder,,,2, Joint both under 65,0,0,0, Foreign born- Not a citizen of U S ,94, ?, ?, ?,unchanged,,unchanged,unchanged,Same,,,4438.27,Below limit\r\n",
      "ID_TZ0006,53, Male, High school graduate, Private,, Married-civilian spouse present, White, All other, Full-time schedules,,0,0, No,52,33, Retail trade,2, Executive admin and managerial,6, Spouse of householder, Spouse of householder,,,2, Joint both under 65,0,0,0,Native,95,US,US,US, ?, ?, ?, ?,,,,1401.23,Below limit\r\n",
      "ID_TZ0007,22, Female, High school graduate, Private,, Married-civilian spouse present, White, All other, Full-time schedules,,0,0,,52,35, Finance insurance and real estate,17, Sales,1, Spouse of householder, Spouse of householder,,,2, Joint both under 65,0,0,0,Native,95,US,US,US, ?, ?, ?, ?,,,,661.07,Below limit\r\n",
      "ID_TZ0008,73, Female, 7th and 8th grade,,, Married-civilian spouse present, Black, All other, Not in labor force,,0,0,,1,0, Not in universe or children,0,,3, Spouse of householder, Spouse of householder,,,2, Joint both 65+,0,0,0,Native,95,US,US,US, ?, ?, ?, ?,,,,1267.3,Below limit\r\n",
      "cat: stdout: Broken pipe\r\n"
     ]
    }
   ],
   "source": [
    "! cat ../dataset/Train.csv | head"
   ],
   "metadata": {
    "collapsed": false,
    "ExecuteTime": {
     "end_time": "2024-01-28T18:09:00.938473Z",
     "start_time": "2024-01-28T18:09:00.792049Z"
    }
   },
   "id": "bcd6dc4a1f6441f9"
  },
  {
   "cell_type": "code",
   "execution_count": 3,
   "outputs": [],
   "source": [
    "data = pd.read_csv(os.path.join(DATA_PATH,'Train.csv'))"
   ],
   "metadata": {
    "collapsed": false,
    "ExecuteTime": {
     "end_time": "2024-01-28T22:16:38.028460Z",
     "start_time": "2024-01-28T22:16:36.144423Z"
    }
   },
   "id": "4751fc3a31782d32"
  },
  {
   "cell_type": "code",
   "execution_count": 4,
   "outputs": [
    {
     "data": {
      "text/plain": "          ID  age   gender               education                class  \\\n0  ID_TZ0000   79   Female    High school graduate                  NaN   \n1  ID_TZ0001   65   Female    High school graduate                  NaN   \n2  ID_TZ0002   21     Male   12th grade no diploma   Federal government   \n3  ID_TZ0003    2   Female                Children                  NaN   \n4  ID_TZ0004   70     Male    High school graduate                  NaN   \n\n  education_institute                    marital_status  \\\n0                 NaN                           Widowed   \n1                 NaN                           Widowed   \n2                 NaN                     Never married   \n3                 NaN                     Never married   \n4                 NaN   Married-civilian spouse present   \n\n                         race is_hispanic      employment_commitment  ...  \\\n0                       White   All other         Not in labor force  ...   \n1                       White   All other   Children or Armed Forces  ...   \n2                       Black   All other   Children or Armed Forces  ...   \n3   Asian or Pacific Islander   All other   Children or Armed Forces  ...   \n4                       White   All other         Not in labor force  ...   \n\n  country_of_birth_mother  migration_code_change_in_msa  \\\n0                      US                             ?   \n1                      US                     unchanged   \n2                      US                     unchanged   \n3                   India                     unchanged   \n4                      US                             ?   \n\n   migration_prev_sunbelt migration_code_move_within_reg  \\\n0                       ?                              ?   \n1                     NaN                      unchanged   \n2                     NaN                      unchanged   \n3                     NaN                      unchanged   \n4                       ?                              ?   \n\n   migration_code_change_in_reg  residence_1_year_ago old_residence_reg  \\\n0                             ?                   NaN               NaN   \n1                     unchanged                  Same               NaN   \n2                     unchanged                  Same               NaN   \n3                     unchanged                  Same               NaN   \n4                             ?                   NaN               NaN   \n\n   old_residence_state importance_of_record  income_above_limit  \n0                  NaN              1779.74         Below limit  \n1                  NaN              2366.75         Below limit  \n2                  NaN              1693.42         Below limit  \n3                  NaN              1380.27         Below limit  \n4                  NaN              1580.79         Below limit  \n\n[5 rows x 43 columns]",
      "text/html": "<div>\n<style scoped>\n    .dataframe tbody tr th:only-of-type {\n        vertical-align: middle;\n    }\n\n    .dataframe tbody tr th {\n        vertical-align: top;\n    }\n\n    .dataframe thead th {\n        text-align: right;\n    }\n</style>\n<table border=\"1\" class=\"dataframe\">\n  <thead>\n    <tr style=\"text-align: right;\">\n      <th></th>\n      <th>ID</th>\n      <th>age</th>\n      <th>gender</th>\n      <th>education</th>\n      <th>class</th>\n      <th>education_institute</th>\n      <th>marital_status</th>\n      <th>race</th>\n      <th>is_hispanic</th>\n      <th>employment_commitment</th>\n      <th>...</th>\n      <th>country_of_birth_mother</th>\n      <th>migration_code_change_in_msa</th>\n      <th>migration_prev_sunbelt</th>\n      <th>migration_code_move_within_reg</th>\n      <th>migration_code_change_in_reg</th>\n      <th>residence_1_year_ago</th>\n      <th>old_residence_reg</th>\n      <th>old_residence_state</th>\n      <th>importance_of_record</th>\n      <th>income_above_limit</th>\n    </tr>\n  </thead>\n  <tbody>\n    <tr>\n      <th>0</th>\n      <td>ID_TZ0000</td>\n      <td>79</td>\n      <td>Female</td>\n      <td>High school graduate</td>\n      <td>NaN</td>\n      <td>NaN</td>\n      <td>Widowed</td>\n      <td>White</td>\n      <td>All other</td>\n      <td>Not in labor force</td>\n      <td>...</td>\n      <td>US</td>\n      <td>?</td>\n      <td>?</td>\n      <td>?</td>\n      <td>?</td>\n      <td>NaN</td>\n      <td>NaN</td>\n      <td>NaN</td>\n      <td>1779.74</td>\n      <td>Below limit</td>\n    </tr>\n    <tr>\n      <th>1</th>\n      <td>ID_TZ0001</td>\n      <td>65</td>\n      <td>Female</td>\n      <td>High school graduate</td>\n      <td>NaN</td>\n      <td>NaN</td>\n      <td>Widowed</td>\n      <td>White</td>\n      <td>All other</td>\n      <td>Children or Armed Forces</td>\n      <td>...</td>\n      <td>US</td>\n      <td>unchanged</td>\n      <td>NaN</td>\n      <td>unchanged</td>\n      <td>unchanged</td>\n      <td>Same</td>\n      <td>NaN</td>\n      <td>NaN</td>\n      <td>2366.75</td>\n      <td>Below limit</td>\n    </tr>\n    <tr>\n      <th>2</th>\n      <td>ID_TZ0002</td>\n      <td>21</td>\n      <td>Male</td>\n      <td>12th grade no diploma</td>\n      <td>Federal government</td>\n      <td>NaN</td>\n      <td>Never married</td>\n      <td>Black</td>\n      <td>All other</td>\n      <td>Children or Armed Forces</td>\n      <td>...</td>\n      <td>US</td>\n      <td>unchanged</td>\n      <td>NaN</td>\n      <td>unchanged</td>\n      <td>unchanged</td>\n      <td>Same</td>\n      <td>NaN</td>\n      <td>NaN</td>\n      <td>1693.42</td>\n      <td>Below limit</td>\n    </tr>\n    <tr>\n      <th>3</th>\n      <td>ID_TZ0003</td>\n      <td>2</td>\n      <td>Female</td>\n      <td>Children</td>\n      <td>NaN</td>\n      <td>NaN</td>\n      <td>Never married</td>\n      <td>Asian or Pacific Islander</td>\n      <td>All other</td>\n      <td>Children or Armed Forces</td>\n      <td>...</td>\n      <td>India</td>\n      <td>unchanged</td>\n      <td>NaN</td>\n      <td>unchanged</td>\n      <td>unchanged</td>\n      <td>Same</td>\n      <td>NaN</td>\n      <td>NaN</td>\n      <td>1380.27</td>\n      <td>Below limit</td>\n    </tr>\n    <tr>\n      <th>4</th>\n      <td>ID_TZ0004</td>\n      <td>70</td>\n      <td>Male</td>\n      <td>High school graduate</td>\n      <td>NaN</td>\n      <td>NaN</td>\n      <td>Married-civilian spouse present</td>\n      <td>White</td>\n      <td>All other</td>\n      <td>Not in labor force</td>\n      <td>...</td>\n      <td>US</td>\n      <td>?</td>\n      <td>?</td>\n      <td>?</td>\n      <td>?</td>\n      <td>NaN</td>\n      <td>NaN</td>\n      <td>NaN</td>\n      <td>1580.79</td>\n      <td>Below limit</td>\n    </tr>\n  </tbody>\n</table>\n<p>5 rows × 43 columns</p>\n</div>"
     },
     "execution_count": 4,
     "metadata": {},
     "output_type": "execute_result"
    }
   ],
   "source": [
    "data.head()"
   ],
   "metadata": {
    "collapsed": false,
    "ExecuteTime": {
     "end_time": "2024-01-28T22:16:38.073567Z",
     "start_time": "2024-01-28T22:16:38.046430Z"
    }
   },
   "id": "afe451c5b2826b57"
  },
  {
   "cell_type": "markdown",
   "source": [
    "## Analysis of columns"
   ],
   "metadata": {
    "collapsed": false
   },
   "id": "c4179525b21f03fc"
  },
  {
   "cell_type": "code",
   "execution_count": 5,
   "outputs": [
    {
     "name": "stdout",
     "output_type": "stream",
     "text": [
      "<class 'pandas.core.frame.DataFrame'>\n",
      "RangeIndex: 209499 entries, 0 to 209498\n",
      "Data columns (total 43 columns):\n",
      " #   Column                          Non-Null Count   Dtype  \n",
      "---  ------                          --------------   -----  \n",
      " 0   ID                              209499 non-null  object \n",
      " 1   age                             209499 non-null  int64  \n",
      " 2   gender                          209499 non-null  object \n",
      " 3   education                       209499 non-null  object \n",
      " 4   class                           104254 non-null  object \n",
      " 5   education_institute             13302 non-null   object \n",
      " 6   marital_status                  209499 non-null  object \n",
      " 7   race                            209499 non-null  object \n",
      " 8   is_hispanic                     209499 non-null  object \n",
      " 9   employment_commitment           209499 non-null  object \n",
      " 10  unemployment_reason             6520 non-null    object \n",
      " 11  employment_stat                 209499 non-null  int64  \n",
      " 12  wage_per_hour                   209499 non-null  int64  \n",
      " 13  is_labor_union                  20079 non-null   object \n",
      " 14  working_week_per_year           209499 non-null  int64  \n",
      " 15  industry_code                   209499 non-null  int64  \n",
      " 16  industry_code_main              209499 non-null  object \n",
      " 17  occupation_code                 209499 non-null  int64  \n",
      " 18  occupation_code_main            103805 non-null  object \n",
      " 19  total_employed                  209499 non-null  int64  \n",
      " 20  household_stat                  209499 non-null  object \n",
      " 21  household_summary               209499 non-null  object \n",
      " 22  under_18_family                 57845 non-null   object \n",
      " 23  veterans_admin_questionnaire    2084 non-null    object \n",
      " 24  vet_benefit                     209499 non-null  int64  \n",
      " 25  tax_status                      209499 non-null  object \n",
      " 26  gains                           209499 non-null  int64  \n",
      " 27  losses                          209499 non-null  int64  \n",
      " 28  stocks_status                   209499 non-null  int64  \n",
      " 29  citizenship                     209499 non-null  object \n",
      " 30  mig_year                        209499 non-null  int64  \n",
      " 31  country_of_birth_own            209499 non-null  object \n",
      " 32  country_of_birth_father         209499 non-null  object \n",
      " 33  country_of_birth_mother         209499 non-null  object \n",
      " 34  migration_code_change_in_msa    207911 non-null  object \n",
      " 35  migration_prev_sunbelt          121047 non-null  object \n",
      " 36  migration_code_move_within_reg  207911 non-null  object \n",
      " 37  migration_code_change_in_reg    207911 non-null  object \n",
      " 38  residence_1_year_ago            103215 non-null  object \n",
      " 39  old_residence_reg               16351 non-null   object \n",
      " 40  old_residence_state             16351 non-null   object \n",
      " 41  importance_of_record            209499 non-null  float64\n",
      " 42  income_above_limit              209499 non-null  object \n",
      "dtypes: float64(1), int64(12), object(30)\n",
      "memory usage: 68.7+ MB\n"
     ]
    }
   ],
   "source": [
    "data.info()"
   ],
   "metadata": {
    "collapsed": false,
    "ExecuteTime": {
     "end_time": "2024-01-28T22:16:42.402987Z",
     "start_time": "2024-01-28T22:16:42.368232Z"
    }
   },
   "id": "8fd69695ba057f9b"
  },
  {
   "cell_type": "code",
   "execution_count": 6,
   "outputs": [],
   "source": [
    "data.drop('ID', axis=1, inplace=True)"
   ],
   "metadata": {
    "collapsed": false,
    "ExecuteTime": {
     "end_time": "2024-01-28T22:16:43.941207Z",
     "start_time": "2024-01-28T22:16:43.877040Z"
    }
   },
   "id": "9a629746520e001d"
  },
  {
   "cell_type": "code",
   "execution_count": 7,
   "outputs": [],
   "source": [
    "cat_col = data.columns[data.dtypes==np.object_]\n",
    "num_col = data.columns[data.dtypes!=np.object_]"
   ],
   "metadata": {
    "collapsed": false,
    "ExecuteTime": {
     "end_time": "2024-01-28T22:16:45.973638Z",
     "start_time": "2024-01-28T22:16:45.963671Z"
    }
   },
   "id": "9bc18b535f2394cc"
  },
  {
   "cell_type": "code",
   "execution_count": 8,
   "outputs": [
    {
     "data": {
      "text/plain": "Index(['age', 'employment_stat', 'wage_per_hour', 'working_week_per_year',\n       'industry_code', 'occupation_code', 'total_employed', 'vet_benefit',\n       'gains', 'losses', 'stocks_status', 'mig_year', 'importance_of_record'],\n      dtype='object')"
     },
     "execution_count": 8,
     "metadata": {},
     "output_type": "execute_result"
    }
   ],
   "source": [
    "num_col"
   ],
   "metadata": {
    "collapsed": false,
    "ExecuteTime": {
     "end_time": "2024-01-28T22:16:46.691817Z",
     "start_time": "2024-01-28T22:16:46.681395Z"
    }
   },
   "id": "ad4fd85c906ef13f"
  },
  {
   "cell_type": "code",
   "execution_count": 9,
   "outputs": [
    {
     "name": "stdout",
     "output_type": "stream",
     "text": [
      "Variable: age\n",
      "Min 0; Max 90; Average 34.518728013021544; NAN 0; 0-value 3041.\n",
      "Variable: employment_stat\n",
      "Min 0; Max 2; Average 0.17675979360283342; NAN 0; 0-value 189556.\n",
      "Variable: wage_per_hour\n",
      "Min 0; Max 9999; Average 55.43348655602175; NAN 0; 0-value 197643.\n",
      "Variable: working_week_per_year\n",
      "Min 0; Max 52; Average 23.158850400240574; NAN 0; 0-value 100688.\n",
      "Variable: industry_code\n",
      "Min 0; Max 51; Average 15.33239776800844; NAN 0; 0-value 105694.\n",
      "Variable: occupation_code\n",
      "Min 0; Max 46; Average 11.321734232621635; NAN 0; 0-value 105694.\n",
      "Variable: total_employed\n",
      "Min 0; Max 6; Average 1.9560666160697664; NAN 0; 0-value 100688.\n",
      "Variable: vet_benefit\n",
      "Min 0; Max 2; Average 1.515854490952224; NAN 0; 0-value 49672.\n",
      "Variable: gains\n",
      "Min 0; Max 99999; Average 435.9268874791765; NAN 0; 0-value 201669.\n",
      "Variable: losses\n",
      "Min 0; Max 4608; Average 36.88173690566542; NAN 0; 0-value 205437.\n",
      "Variable: stocks_status\n",
      "Min 0; Max 99999; Average 194.53342020725637; NAN 0; 0-value 187467.\n",
      "Variable: mig_year\n",
      "Min 94; Max 95; Average 94.49974462885264; NAN 0; 0-value 0.\n",
      "Variable: importance_of_record\n",
      "Min 37.87; Max 18656.3; Average 1740.8883235242172; NAN 0; 0-value 0.\n"
     ]
    }
   ],
   "source": [
    "for i in num_col:\n",
    "    print(f'Variable: {i}\\n'\n",
    "          f'Min {np.min(data[i])}; Max {np.max(data[i])}; Average {np.average(data[i])}; NAN {np.sum(data[i].isna())}; 0-value {np.sum(data[i]==0)}.')"
   ],
   "metadata": {
    "collapsed": false,
    "ExecuteTime": {
     "end_time": "2024-01-28T22:16:47.359063Z",
     "start_time": "2024-01-28T22:16:47.326048Z"
    }
   },
   "id": "dd12dc7ed68e4329"
  },
  {
   "cell_type": "code",
   "execution_count": 10,
   "outputs": [
    {
     "name": "stdout",
     "output_type": "stream",
     "text": [
      "Variable: age\n",
      "Min 0 Max 90 Average 34.518728013021544.\n",
      "Variable: employment_stat\n",
      "Min 0 Max 2 Average 0.17675979360283342.\n",
      "Variable: wage_per_hour\n",
      "Min 0 Max 9999 Average 55.43348655602175.\n",
      "Variable: working_week_per_year\n",
      "Min 0 Max 52 Average 23.158850400240574.\n",
      "Variable: industry_code\n",
      "Min 0 Max 51 Average 15.33239776800844.\n",
      "Variable: occupation_code\n",
      "Min 0 Max 46 Average 11.321734232621635.\n",
      "Variable: total_employed\n",
      "Min 0 Max 6 Average 1.9560666160697664.\n",
      "Variable: vet_benefit\n",
      "Min 0 Max 2 Average 1.515854490952224.\n",
      "Variable: gains\n",
      "Min 0 Max 99999 Average 435.9268874791765.\n",
      "Variable: losses\n",
      "Min 0 Max 4608 Average 36.88173690566542.\n",
      "Variable: stocks_status\n",
      "Min 0 Max 99999 Average 194.53342020725637.\n",
      "Variable: mig_year\n",
      "Min 94 Max 95 Average 94.49974462885264.\n",
      "Variable: importance_of_record\n",
      "Min 37.87 Max 18656.3 Average 1740.8883235242172.\n"
     ]
    }
   ],
   "source": [
    "for i in num_col:\n",
    "    print(f'Variable: {i}\\n'\n",
    "          f'Min {np.min(data[i])} Max {np.max(data[i])} Average {np.average(data[i])}.')"
   ],
   "metadata": {
    "collapsed": false,
    "ExecuteTime": {
     "end_time": "2024-01-28T22:16:48.212230Z",
     "start_time": "2024-01-28T22:16:48.175464Z"
    }
   },
   "id": "19a4d2e049f0d3e"
  },
  {
   "cell_type": "code",
   "execution_count": 11,
   "outputs": [
    {
     "name": "stdout",
     "output_type": "stream",
     "text": [
      "Variable gender; NAN - 0\n"
     ]
    },
    {
     "data": {
      "text/plain": "gender\nFemale    108784\nMale      100715\nName: count, dtype: int64"
     },
     "metadata": {},
     "output_type": "display_data"
    },
    {
     "name": "stdout",
     "output_type": "stream",
     "text": [
      "Variable education; NAN - 0\n"
     ]
    },
    {
     "data": {
      "text/plain": "education\nHigh school graduate                      50627\nChildren                                  49685\nSome college but no degree                29320\nBachelors degree(BA AB BS)                20979\n7th and 8th grade                          8438\n10th grade                                 7905\n11th grade                                 7260\nMasters degree(MA MS MEng MEd MSW MBA)     6861\n9th grade                                  6540\nAssociates degree-occup /vocational        5650\nAssociates degree-academic program         4494\n5th or 6th grade                           3542\n12th grade no diploma                      2282\n1st 2nd 3rd or 4th grade                   1917\nProf school degree (MD DDS DVM LLB JD)     1852\nDoctorate degree(PhD EdD)                  1318\nLess than 1st grade                         829\nName: count, dtype: int64"
     },
     "metadata": {},
     "output_type": "display_data"
    },
    {
     "name": "stdout",
     "output_type": "stream",
     "text": [
      "Variable class; NAN - 105245\n"
     ]
    },
    {
     "data": {
      "text/plain": "class\nPrivate                           75617\nSelf-employed-not incorporated     8957\nLocal government                   8093\nState government                   4480\nSelf-employed-incorporated         3444\nFederal government                 3047\nNever worked                        449\nWithout pay                         167\nName: count, dtype: int64"
     },
     "metadata": {},
     "output_type": "display_data"
    },
    {
     "name": "stdout",
     "output_type": "stream",
     "text": [
      "Variable education_institute; NAN - 196197\n"
     ]
    },
    {
     "data": {
      "text/plain": "education_institute\nHigh school              7247\nCollege or university    6055\nName: count, dtype: int64"
     },
     "metadata": {},
     "output_type": "display_data"
    },
    {
     "name": "stdout",
     "output_type": "stream",
     "text": [
      "Variable marital_status; NAN - 0\n"
     ]
    },
    {
     "data": {
      "text/plain": "marital_status\nNever married                      90723\nMarried-civilian spouse present    88407\nDivorced                           13456\nWidowed                            11029\nSeparated                           3596\nMarried-spouse absent               1568\nMarried-A F spouse present           720\nName: count, dtype: int64"
     },
     "metadata": {},
     "output_type": "display_data"
    },
    {
     "name": "stdout",
     "output_type": "stream",
     "text": [
      "Variable race; NAN - 0\n"
     ]
    },
    {
     "data": {
      "text/plain": "race\nWhite                          175709\nBlack                           21394\nAsian or Pacific Islander        6056\nOther                            3927\nAmer Indian Aleut or Eskimo      2413\nName: count, dtype: int64"
     },
     "metadata": {},
     "output_type": "display_data"
    },
    {
     "name": "stdout",
     "output_type": "stream",
     "text": [
      "Variable is_hispanic; NAN - 0\n"
     ]
    },
    {
     "data": {
      "text/plain": "is_hispanic\nAll other                    180404\nMexican-American               8509\nMexican (Mexicano)             7614\nCentral or South American      4176\nPuerto Rican                   3435\nOther Spanish                  2612\nCuban                          1231\nNA                              882\nChicano                         331\nDo not know                     305\nName: count, dtype: int64"
     },
     "metadata": {},
     "output_type": "display_data"
    },
    {
     "name": "stdout",
     "output_type": "stream",
     "text": [
      "Variable employment_commitment; NAN - 0\n"
     ]
    },
    {
     "data": {
      "text/plain": "employment_commitment\nChildren or Armed Forces              129789\nFull-time schedules                    42787\nNot in labor force                     28187\nPT for non-econ reasons usually FT      3549\nUnemployed full-time                    2538\nPT for econ reasons usually PT          1243\nUnemployed part- time                    866\nPT for econ reasons usually FT           540\nName: count, dtype: int64"
     },
     "metadata": {},
     "output_type": "display_data"
    },
    {
     "name": "stdout",
     "output_type": "stream",
     "text": [
      "Variable unemployment_reason; NAN - 202979\n"
     ]
    },
    {
     "data": {
      "text/plain": "unemployment_reason\nOther job loser          2242\nRe-entrant               2154\nJob loser - on layoff    1050\nJob leaver                625\nNew entrant               449\nName: count, dtype: int64"
     },
     "metadata": {},
     "output_type": "display_data"
    },
    {
     "name": "stdout",
     "output_type": "stream",
     "text": [
      "Variable is_labor_union; NAN - 189420\n"
     ]
    },
    {
     "data": {
      "text/plain": "is_labor_union\n No     16968\nSame     3111\nName: count, dtype: int64"
     },
     "metadata": {},
     "output_type": "display_data"
    },
    {
     "name": "stdout",
     "output_type": "stream",
     "text": [
      "Variable industry_code_main; NAN - 0\n"
     ]
    },
    {
     "data": {
      "text/plain": "industry_code_main\nNot in universe or children            105694\nRetail trade                            18040\nManufacturing-durable goods              9336\nEducation                                8739\nManufacturing-nondurable goods           7232\nConstruction                             6414\nFinance insurance and real estate        6336\nBusiness and repair services             6021\nMedical except hospital                  4934\nPublic administration                    4706\nOther professional services              4627\nTransportation                           4419\nHospital services                        4088\nWholesale trade                          3846\nAgriculture                              3157\nPersonal services except private HH      3056\nSocial services                          2677\nEntertainment                            1779\nCommunications                           1260\nUtilities and sanitary services          1238\nPrivate household services               1028\nMining                                    639\nForestry and fisheries                    201\nArmed Forces                               32\nName: count, dtype: int64"
     },
     "metadata": {},
     "output_type": "display_data"
    },
    {
     "name": "stdout",
     "output_type": "stream",
     "text": [
      "Variable occupation_code_main; NAN - 105694\n"
     ]
    },
    {
     "data": {
      "text/plain": "occupation_code_main\nAdm support including clerical           15351\nProfessional specialty                   14544\nExecutive admin and managerial           13107\nOther service                            12856\nSales                                    12487\nPrecision production craft & repair      11207\nMachine operators assmblrs & inspctrs     6650\nHandlers equip cleaners etc               4340\nTransportation and material moving        4244\nFarming forestry and fishing              3273\nTechnicians and related support           3136\nProtective services                       1700\nPrivate household services                 878\nArmed Forces                                32\nName: count, dtype: int64"
     },
     "metadata": {},
     "output_type": "display_data"
    },
    {
     "name": "stdout",
     "output_type": "stream",
     "text": [
      "Variable household_stat; NAN - 0\n"
     ]
    },
    {
     "data": {
      "text/plain": "household_stat\nHouseholder                                        56195\nChild <18 never marr not in subfamily              52707\nSpouse of householder                              43579\nNonfamily householder                              23255\nChild 18+ never marr Not in a subfamily            12784\nSecondary individual                                6509\nOther Rel 18+ ever marr not in subfamily            2071\nGrandchild <18 never marr child of subfamily RP     1942\nOther Rel 18+ never marr not in subfamily           1781\nGrandchild <18 never marr not in subfamily          1109\nChild 18+ ever marr Not in a subfamily              1029\nChild under 18 of RP of unrel subfamily              747\nRP of unrelated subfamily                            723\nOther Rel 18+ spouse of subfamily RP                 697\nChild 18+ ever marr RP of subfamily                  691\nOther Rel 18+ ever marr RP of subfamily              679\nOther Rel <18 never marr child of subfamily RP       654\nOther Rel <18 never marr not in subfamily            627\nChild 18+ never marr RP of subfamily                 619\nGrandchild 18+ never marr not in subfamily           401\nIn group quarters                                    185\nChild 18+ spouse of subfamily RP                     137\nOther Rel 18+ never marr RP of subfamily             109\nChild <18 never marr RP of subfamily                  80\nSpouse of RP of unrelated subfamily                   58\nGrandchild 18+ ever marr not in subfamily             39\nChild <18 ever marr not in subfamily                  37\nGrandchild 18+ spouse of subfamily RP                 11\nChild <18 ever marr RP of subfamily                   10\nGrandchild 18+ ever marr RP of subfamily               8\nOther Rel <18 ever marr RP of subfamily                6\nGrandchild 18+ never marr RP of subfamily              5\nOther Rel <18 ever marr not in subfamily               3\nOther Rel <18 never married RP of subfamily            3\nOther Rel <18 spouse of subfamily RP                   3\nChild <18 spouse of subfamily RP                       2\nGrandchild <18 ever marr not in subfamily              2\nGrandchild <18 never marr RP of subfamily              2\nName: count, dtype: int64"
     },
     "metadata": {},
     "output_type": "display_data"
    },
    {
     "name": "stdout",
     "output_type": "stream",
     "text": [
      "Variable household_summary; NAN - 0\n"
     ]
    },
    {
     "data": {
      "text/plain": "household_summary\nHouseholder                             79470\nChild under 18 never married            52803\nSpouse of householder                   43588\nChild 18 or older                       15261\nOther relative of householder           10157\nNonrelative of householder               8048\nGroup Quarters- Secondary individual      123\nChild under 18 ever married                49\nName: count, dtype: int64"
     },
     "metadata": {},
     "output_type": "display_data"
    },
    {
     "name": "stdout",
     "output_type": "stream",
     "text": [
      "Variable under_18_family; NAN - 151654\n"
     ]
    },
    {
     "data": {
      "text/plain": "under_18_family\nBoth parents present      40875\nMother only present       13266\nFather only present        1962\nNeither parent present     1742\nName: count, dtype: int64"
     },
     "metadata": {},
     "output_type": "display_data"
    },
    {
     "name": "stdout",
     "output_type": "stream",
     "text": [
      "Variable veterans_admin_questionnaire; NAN - 207415\n"
     ]
    },
    {
     "data": {
      "text/plain": "veterans_admin_questionnaire\n No     1684\nSame     400\nName: count, dtype: int64"
     },
     "metadata": {},
     "output_type": "display_data"
    },
    {
     "name": "stdout",
     "output_type": "stream",
     "text": [
      "Variable tax_status; NAN - 0\n"
     ]
    },
    {
     "data": {
      "text/plain": "tax_status\nNonfiler                        78671\nJoint both under 65             70617\nSingle                          39429\nJoint both 65+                   8791\nHead of household                7882\nJoint one under 65 & one 65+     4109\nName: count, dtype: int64"
     },
     "metadata": {},
     "output_type": "display_data"
    },
    {
     "name": "stdout",
     "output_type": "stream",
     "text": [
      "Variable citizenship; NAN - 0\n"
     ]
    },
    {
     "data": {
      "text/plain": "citizenship\nNative                                          185669\n Foreign born- Not a citizen of U S              14127\n Foreign born- U S citizen by naturalization      6208\n Native- Born abroad of American Parent(s)        1924\n Native- Born in Puerto Rico or U S Outlying      1571\nName: count, dtype: int64"
     },
     "metadata": {},
     "output_type": "display_data"
    },
    {
     "name": "stdout",
     "output_type": "stream",
     "text": [
      "Variable country_of_birth_own; NAN - 0\n"
     ]
    },
    {
     "data": {
      "text/plain": "country_of_birth_own\nUS                               185666\n Mexico                            6082\n ?                                 3667\n Puerto-Rico                       1458\n Philippines                        902\n Cuba                               889\n Germany                            858\n El-Salvador                        744\n Dominican-Republic                 741\n Canada                             741\n China                              508\n South Korea                        488\n England                            473\n Italy                              459\n India                              457\n Columbia                           455\n Poland                             385\n Vietnam                            384\n Guatemala                          373\n Jamaica                            352\n Japan                              350\n Ecuador                            277\n Peru                               277\n Nicaragua                          241\n Haiti                              225\n Taiwan                             193\n Portugal                           178\n Greece                             160\n Honduras                           159\n Iran                               152\n Ireland                            144\n France                             129\n Thailand                           125\n Hong Kong                          116\n Laos                               114\n Outlying-U S (Guam USVI etc)       113\n Cambodia                           104\n Trinadad&Tobago                     81\n Scotland                            80\n Hungary                             80\n Yugoslavia                          71\n Panama                              25\n Holand-Netherlands                  23\nName: count, dtype: int64"
     },
     "metadata": {},
     "output_type": "display_data"
    },
    {
     "name": "stdout",
     "output_type": "stream",
     "text": [
      "Variable country_of_birth_father; NAN - 0\n"
     ]
    },
    {
     "data": {
      "text/plain": "country_of_birth_father\nUS                               166968\n Mexico                           10517\n ?                                 7181\n Puerto-Rico                       2769\n Italy                             2358\n Dominican-Republic                1397\n Canada                            1396\n Germany                           1386\n Poland                            1262\n Philippines                       1215\n Cuba                              1208\n El-Salvador                       1058\n China                              878\n England                            829\n India                              645\n Columbia                           637\n Ireland                            558\n South Korea                        552\n Jamaica                            493\n Guatemala                          483\n Vietnam                            450\n Japan                              418\n Ecuador                            393\n Greece                             392\n Portugal                           389\n Haiti                              357\n Peru                               349\n Nicaragua                          343\n Hungary                            333\n Scotland                           249\n Iran                               230\n Yugoslavia                         222\n Honduras                           217\n Cambodia                           213\n Taiwan                             191\n France                             188\n Outlying-U S (Guam USVI etc)       166\n Laos                               165\n Trinadad&Tobago                    132\n Thailand                           116\n Hong Kong                          115\n Holand-Netherlands                  52\n Panama                              29\nName: count, dtype: int64"
     },
     "metadata": {},
     "output_type": "display_data"
    },
    {
     "name": "stdout",
     "output_type": "stream",
     "text": [
      "Variable country_of_birth_mother; NAN - 0\n"
     ]
    },
    {
     "data": {
      "text/plain": "country_of_birth_mother\nUS                               168233\n Mexico                           10326\n ?                                 6516\n Puerto-Rico                       2551\n Italy                             1974\n Canada                            1504\n Germany                           1396\n Philippines                       1302\n Cuba                              1210\n Dominican-Republic                1192\n El-Salvador                       1181\n Poland                            1164\n England                            928\n China                              800\n Ireland                            667\n India                              640\n Columbia                           627\n South Korea                        627\n Japan                              508\n Jamaica                            492\n Guatemala                          481\n Vietnam                            480\n Ecuador                            398\n Peru                               378\n Haiti                              365\n Portugal                           356\n Nicaragua                          339\n Hungary                            328\n Greece                             298\n Scotland                           257\n Honduras                           240\n Taiwan                             222\n France                             213\n Iran                               197\n Yugoslavia                         192\n Cambodia                           178\n Laos                               154\n Outlying-U S (Guam USVI etc)       153\n Thailand                           134\n Hong Kong                          112\n Trinadad&Tobago                    105\n Holand-Netherlands                  51\n Panama                              30\nName: count, dtype: int64"
     },
     "metadata": {},
     "output_type": "display_data"
    },
    {
     "name": "stdout",
     "output_type": "stream",
     "text": [
      "Variable migration_code_change_in_msa; NAN - 1588\n"
     ]
    },
    {
     "data": {
      "text/plain": "migration_code_change_in_msa\n ?                   104696\nunchanged             86864\n MSA to MSA           11096\n NonMSA to nonMSA      2903\n MSA to nonMSA          778\n NonMSA to MSA          642\n Not identifiable       436\n Abroad to MSA          417\n Abroad to nonMSA        79\nName: count, dtype: int64"
     },
     "metadata": {},
     "output_type": "display_data"
    },
    {
     "name": "stdout",
     "output_type": "stream",
     "text": [
      "Variable migration_prev_sunbelt; NAN - 88452\n"
     ]
    },
    {
     "data": {
      "text/plain": "migration_prev_sunbelt\n ?      104696\n No      10298\nSame      6053\nName: count, dtype: int64"
     },
     "metadata": {},
     "output_type": "display_data"
    },
    {
     "name": "stdout",
     "output_type": "stream",
     "text": [
      "Variable migration_code_move_within_reg; NAN - 1588\n"
     ]
    },
    {
     "data": {
      "text/plain": "migration_code_move_within_reg\n ?                               104696\nunchanged                         86864\n Same county                      10196\n Different county same state       2946\n Different state in South          1003\n Different state in West            735\n Different state in Midwest         560\n Abroad                             498\n Different state in Northeast       413\nName: count, dtype: int64"
     },
     "metadata": {},
     "output_type": "display_data"
    },
    {
     "name": "stdout",
     "output_type": "stream",
     "text": [
      "Variable migration_code_change_in_reg; NAN - 1588\n"
     ]
    },
    {
     "data": {
      "text/plain": "migration_code_change_in_reg\n ?                                 104696\nunchanged                           86864\n Same county                        10196\n Different county same state         2946\n Different region                    1206\n Different state same division       1018\n Abroad                               498\n Different division same region       487\nName: count, dtype: int64"
     },
     "metadata": {},
     "output_type": "display_data"
    },
    {
     "name": "stdout",
     "output_type": "stream",
     "text": [
      "Variable residence_1_year_ago; NAN - 106284\n"
     ]
    },
    {
     "data": {
      "text/plain": "residence_1_year_ago\nSame    86864\n No     16351\nName: count, dtype: int64"
     },
     "metadata": {},
     "output_type": "display_data"
    },
    {
     "name": "stdout",
     "output_type": "stream",
     "text": [
      "Variable old_residence_reg; NAN - 193148\n"
     ]
    },
    {
     "data": {
      "text/plain": "old_residence_reg\nSouth        5056\nWest         4296\nMidwest      3691\nNortheast    2810\nAbroad        498\nName: count, dtype: int64"
     },
     "metadata": {},
     "output_type": "display_data"
    },
    {
     "name": "stdout",
     "output_type": "stream",
     "text": [
      "Variable old_residence_state; NAN - 193148\n"
     ]
    },
    {
     "data": {
      "text/plain": "old_residence_state\nCalifornia              1849\nUtah                    1104\nFlorida                  905\nNorth Carolina           836\n?                        741\nAbroad                   635\nOklahoma                 633\nMinnesota                620\nIndiana                  565\nNorth Dakota             510\nNew Mexico               478\nMichigan                 443\nAlaska                   284\nArizona                  277\nKentucky                 263\nNew Hampshire            252\nColorado                 251\nOregon                   247\nWyoming                  245\nGeorgia                  236\nWest Virginia            234\nOhio                     229\nMontana                  225\nAlabama                  221\nTexas                    213\nArkansas                 212\nNew York                 206\nNebraska                 204\nTennessee                202\nMississippi              202\nPennsylvania             201\nLouisiana                197\nVermont                  193\nIowa                     177\nIllinois                 177\nMissouri                 168\nKansas                   166\nNevada                   164\nMassachusetts            163\nMaine                    153\nMaryland                 151\nSouth Dakota             146\nConnecticut              132\nVirginia                 129\nWisconsin                114\nDistrict of Columbia     105\nSouth Carolina            99\nDelaware                  84\nNew Jersey                79\nIdaho                     31\nName: count, dtype: int64"
     },
     "metadata": {},
     "output_type": "display_data"
    },
    {
     "name": "stdout",
     "output_type": "stream",
     "text": [
      "Variable income_above_limit; NAN - 0\n"
     ]
    },
    {
     "data": {
      "text/plain": "income_above_limit\nBelow limit    196501\nAbove limit     12998\nName: count, dtype: int64"
     },
     "metadata": {},
     "output_type": "display_data"
    }
   ],
   "source": [
    "for i in cat_col:\n",
    "    print(f'Variable {i}; NAN - {np.sum(data[i].isna())}')\n",
    "    display(data[i].value_counts())"
   ],
   "metadata": {
    "collapsed": false,
    "ExecuteTime": {
     "end_time": "2024-01-28T22:16:49.826245Z",
     "start_time": "2024-01-28T22:16:49.062593Z"
    }
   },
   "id": "8ef7836ed2d4a94d"
  },
  {
   "cell_type": "code",
   "execution_count": null,
   "outputs": [],
   "source": [],
   "metadata": {
    "collapsed": false
   },
   "id": "ca4af76ae9fb23e"
  },
  {
   "cell_type": "code",
   "execution_count": null,
   "outputs": [],
   "source": [],
   "metadata": {
    "collapsed": false
   },
   "id": "e6e0b07c43c41994"
  },
  {
   "cell_type": "code",
   "execution_count": null,
   "outputs": [],
   "source": [],
   "metadata": {
    "collapsed": false
   },
   "id": "e6b7748e67e360c5"
  },
  {
   "cell_type": "markdown",
   "source": [
    "## Exploratory Data Analysis."
   ],
   "metadata": {
    "collapsed": false
   },
   "id": "5701728db7d883b"
  },
  {
   "cell_type": "code",
   "execution_count": null,
   "outputs": [],
   "source": [],
   "metadata": {
    "collapsed": false
   },
   "id": "65b137093f89eafc"
  },
  {
   "cell_type": "code",
   "execution_count": 13,
   "outputs": [],
   "source": [
    "data.to_parquet(os.path.join(DATA_PATH,'eda.gzip'))"
   ],
   "metadata": {
    "collapsed": false,
    "ExecuteTime": {
     "end_time": "2024-01-28T22:19:13.916286Z",
     "start_time": "2024-01-28T22:19:13.233676Z"
    }
   },
   "id": "6bbb04a3ce7f2310"
  },
  {
   "cell_type": "code",
   "execution_count": null,
   "outputs": [],
   "source": [],
   "metadata": {
    "collapsed": false
   },
   "id": "86117b190e50163e"
  }
 ],
 "metadata": {
  "kernelspec": {
   "display_name": "Python 3",
   "language": "python",
   "name": "python3"
  },
  "language_info": {
   "codemirror_mode": {
    "name": "ipython",
    "version": 2
   },
   "file_extension": ".py",
   "mimetype": "text/x-python",
   "name": "python",
   "nbconvert_exporter": "python",
   "pygments_lexer": "ipython2",
   "version": "2.7.6"
  }
 },
 "nbformat": 4,
 "nbformat_minor": 5
}
