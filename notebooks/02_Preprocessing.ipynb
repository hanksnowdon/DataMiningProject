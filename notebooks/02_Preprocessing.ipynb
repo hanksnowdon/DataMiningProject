{
 "cells": [
  {
   "cell_type": "code",
   "execution_count": 1,
   "id": "initial_id",
   "metadata": {
    "collapsed": true,
    "ExecuteTime": {
     "end_time": "2024-02-23T19:13:44.827748Z",
     "start_time": "2024-02-23T19:13:44.824718Z"
    }
   },
   "outputs": [],
   "source": [
    "## Set-up.\n",
    "### Libraries\n",
    "import os\n",
    "import numpy as np\n",
    "import pandas as pd\n",
    "import matplotlib.pyplot as plt\n",
    "import seaborn as sns"
   ]
  },
  {
   "cell_type": "code",
   "execution_count": 2,
   "outputs": [],
   "source": [
    "DATA_PATH = '../dataset/'\n"
   ],
   "metadata": {
    "collapsed": false,
    "ExecuteTime": {
     "end_time": "2024-02-23T19:13:45.543772Z",
     "start_time": "2024-02-23T19:13:45.508283Z"
    }
   },
   "id": "58b1a48c1d7624e1"
  },
  {
   "cell_type": "markdown",
   "source": [
    "# Feature engineering"
   ],
   "metadata": {
    "collapsed": false
   },
   "id": "df4b3f97383f1032"
  },
  {
   "cell_type": "code",
   "execution_count": 3,
   "outputs": [],
   "source": [
    "data = pd.read_csv(os.path.join(DATA_PATH, 'Train.csv'))\n",
    "data.dropna(axis=0, subset=['income_above_limit'], inplace=True)"
   ],
   "metadata": {
    "collapsed": false,
    "ExecuteTime": {
     "end_time": "2024-02-23T19:13:49.409763Z",
     "start_time": "2024-02-23T19:13:47.570211Z"
    }
   },
   "id": "35b0c057dacba6de"
  },
  {
   "cell_type": "code",
   "execution_count": 4,
   "outputs": [],
   "source": [
    "\n",
    "def edu_tr(x):\n",
    "    c1 = []\n",
    "    if x.strip().lower() in ['less than 1st grade', '1st 2nd 3rd or 4th grade', '5th or 6th grade', '7th and 8th grade',\n",
    "                             '9th grade', '10th grade', '11th grade', '12th grade no diploma']: x = 'no_highschool'\n",
    "    if x.strip().lower() in ['high school graduate']: x = 'highschool'\n",
    "    if x.strip().lower() in ['some college but no degree']: x = 'somecollege'\n",
    "    if x.strip().lower() in ['associates degree-academic program']: x = 'assc_acad'\n",
    "    if x.strip().lower() in ['associates degree-occup /vocational']: x = 'assc_voc'\n",
    "    if x.strip().lower() in ['bachelors degree(ba ab bs)']: x = 'bachelors'\n",
    "    if x.strip().lower() in ['masters degree(ma ms meng med msw mba)']: x = 'masters'\n",
    "    if x.strip().lower() in ['prof school degree (md dds dvm llb jd)', 'doctorate degree(phd edd)']: x = 'doctorate'\n",
    "    return x\n",
    "\n",
    "\n",
    "def hisp_tr(x):\n",
    "    if x.strip().lower() in ['all other']:\n",
    "        x = 'No'\n",
    "    else:\n",
    "        x = 'Yes'\n",
    "    return x\n",
    "\n",
    "\n",
    "def unempl_tr(x):\n",
    "    if x.strip().lower() in ['not in labor force', 'unemployed full-time']: x = 'Unemployed'\n",
    "    if x.strip().lower() in ['pt for non-econ reasons usually ft', 'pt for econ reasons usually pt',\n",
    "                             'unemployed part- time', 'pt for econ reasons usually ft']: x = 'Part-time employed'\n",
    "    return x\n",
    "\n",
    "\n",
    "def feature_engineering(data):\n",
    "    data_pr = data.copy()\n",
    "    drop_col = ['ID', 'education_institute', 'unemployment_reason', 'is_labor_union', 'industry_code',\n",
    "                'occupation_code', 'total_employed', 'household_stat', 'under_18_family',\n",
    "                'veterans_admin_questionnaire', 'gains', 'losses', 'stocks_status', 'mig_year', 'country_of_birth_own',\n",
    "                'country_of_birth_father', 'country_of_birth_mother', 'migration_code_change_in_msa',\n",
    "                'migration_prev_sunbelt', 'migration_code_move_within_reg', 'migration_code_change_in_reg',\n",
    "                'residence_1_year_ago', 'old_residence_reg', 'old_residence_state', 'importance_of_record']\n",
    "    data_pr = data_pr.loc[data.age >= 18]\n",
    "    data_pr.age = pd.cut(data.age, bins=[17, 24, 32, 45, 62, np.inf], right=True,\n",
    "                         labels=['18_24', '25_32', '33_45', '46_62', '63+'])\n",
    "    data_pr.education = data_pr.education.map(lambda x: edu_tr(x))\n",
    "    data_pr['class'] = data_pr['class'].fillna('NA')\n",
    "    data_pr['is_hispanic'] = data_pr['is_hispanic'].map(lambda x: hisp_tr(x))\n",
    "    data_pr['employment_commitment'] = data_pr['employment_commitment'].map(lambda x: unempl_tr(x))\n",
    "    data_pr['wage_per_hour'] = pd.cut(data_pr['wage_per_hour'], bins=[-1, 10, 50, 100, 500, 1000, np.inf], right=True,\n",
    "                                      labels=['0_10', '11_50', '51-100', '101_500', '501_1000', '1000+'])\n",
    "    data_pr['working_week_per_year'] = pd.cut(data_pr['working_week_per_year'], bins=[-1, 0, 25, 47, np.inf],\n",
    "                                              right=True,\n",
    "                                              labels=['weeks_worked_0', 'weeks_worked_1_25', 'weeks_worked_26_47',\n",
    "                                                      'weeks_worked_48_52'])\n",
    "    data_pr['occupation_code_main'] = data_pr['occupation_code_main'].fillna('NA')\n",
    "    data_pr['employment_stat'] = data_pr['employment_stat'].astype(\"category\")\n",
    "    data_pr['vet_benefit'] = data_pr['vet_benefit'].astype(\"category\")\n",
    "    data_pr['investments'] = data[['gains', 'losses', 'stocks_status']].abs().any(axis=1)\n",
    "    data_pr['income_above_limit'] = np.where(data_pr.income_above_limit == 'Above limit',1,0)\n",
    "\n",
    "    data_pr = data_pr.drop(drop_col, axis=1)\n",
    "    for i in data_pr.columns:\n",
    "        if data_pr[i].dtype.name == 'category': data_pr[i] = data_pr[i].astype('str')\n",
    "    return data_pr\n"
   ],
   "metadata": {
    "collapsed": false,
    "ExecuteTime": {
     "end_time": "2024-02-23T19:17:45.654068Z",
     "start_time": "2024-02-23T19:17:45.639505Z"
    }
   },
   "id": "4ce70271bddb8e54"
  },
  {
   "cell_type": "code",
   "execution_count": 5,
   "outputs": [],
   "source": [
    "data1 = feature_engineering(data)"
   ],
   "metadata": {
    "collapsed": false,
    "ExecuteTime": {
     "end_time": "2024-02-23T19:17:48.774038Z",
     "start_time": "2024-02-23T19:17:47.948912Z"
    }
   },
   "id": "205ecd4fb4217fd7"
  },
  {
   "cell_type": "code",
   "execution_count": 6,
   "outputs": [
    {
     "data": {
      "text/plain": "          age   gender      education                class  \\\n0         63+   Female     highschool                   NA   \n1         63+   Female     highschool                   NA   \n2       18_24     Male  no_highschool   Federal government   \n4         63+     Male     highschool                   NA   \n5       33_45     Male      bachelors              Private   \n...       ...      ...            ...                  ...   \n209492  33_45   Female  no_highschool                   NA   \n209493  25_32     Male       assc_voc     State government   \n209495    63+     Male      bachelors                   NA   \n209497  25_32   Female    somecollege              Private   \n209498  18_24     Male  no_highschool     Local government   \n\n                          marital_status                        race  \\\n0                                Widowed                       White   \n1                                Widowed                       White   \n2                          Never married                       Black   \n4        Married-civilian spouse present                       White   \n5        Married-civilian spouse present   Asian or Pacific Islander   \n...                                  ...                         ...   \n209492   Married-civilian spouse present                       White   \n209493                     Never married                       White   \n209495   Married-civilian spouse present                       White   \n209497   Married-civilian spouse present                       White   \n209498                     Never married                       Black   \n\n       is_hispanic      employment_commitment employment_stat wage_per_hour  \\\n0               No                 Unemployed               0          0_10   \n1               No   Children or Armed Forces               0          0_10   \n2               No   Children or Armed Forces               0       101_500   \n4               No                 Unemployed               0          0_10   \n5               No   Children or Armed Forces               0      501_1000   \n...            ...                        ...             ...           ...   \n209492         Yes                 Unemployed               0          0_10   \n209493          No        Full-time schedules               0          0_10   \n209495          No                 Unemployed               0          0_10   \n209497          No   Children or Armed Forces               0      501_1000   \n209498          No   Children or Armed Forces               0          0_10   \n\n       working_week_per_year            industry_code_main  \\\n0         weeks_worked_48_52   Not in universe or children   \n1             weeks_worked_0   Not in universe or children   \n2          weeks_worked_1_25             Hospital services   \n4             weeks_worked_0   Not in universe or children   \n5         weeks_worked_48_52                  Retail trade   \n...                      ...                           ...   \n209492        weeks_worked_0   Not in universe or children   \n209493    weeks_worked_26_47         Public administration   \n209495        weeks_worked_0   Not in universe or children   \n209497    weeks_worked_48_52               Wholesale trade   \n209498     weeks_worked_1_25         Public administration   \n\n                   occupation_code_main       household_summary vet_benefit  \\\n0                                    NA             Householder           2   \n1                                    NA             Householder           2   \n2        Adm support including clerical       Child 18 or older           2   \n4                                    NA   Spouse of householder           2   \n5                         Other service             Householder           2   \n...                                 ...                     ...         ...   \n209492                               NA   Spouse of householder           2   \n209493                    Other service       Child 18 or older           2   \n209495                               NA             Householder           2   \n209497     Handlers equip cleaners etc    Spouse of householder           2   \n209498   Adm support including clerical       Child 18 or older           2   \n\n                  tax_status                           citizenship  \\\n0          Head of household                                Native   \n1                     Single                                Native   \n2                     Single                                Native   \n4             Joint both 65+                                Native   \n5        Joint both under 65   Foreign born- Not a citizen of U S    \n...                      ...                                   ...   \n209492   Joint both under 65   Foreign born- Not a citizen of U S    \n209493                Single                                Native   \n209495        Joint both 65+                                Native   \n209497   Joint both under 65                                Native   \n209498              Nonfiler                                Native   \n\n        income_above_limit  investments  \n0                        0         True  \n1                        0        False  \n2                        0        False  \n4                        0        False  \n5                        0        False  \n...                    ...          ...  \n209492                   0        False  \n209493                   0         True  \n209495                   0         True  \n209497                   0        False  \n209498                   0        False  \n\n[150912 rows x 19 columns]",
      "text/html": "<div>\n<style scoped>\n    .dataframe tbody tr th:only-of-type {\n        vertical-align: middle;\n    }\n\n    .dataframe tbody tr th {\n        vertical-align: top;\n    }\n\n    .dataframe thead th {\n        text-align: right;\n    }\n</style>\n<table border=\"1\" class=\"dataframe\">\n  <thead>\n    <tr style=\"text-align: right;\">\n      <th></th>\n      <th>age</th>\n      <th>gender</th>\n      <th>education</th>\n      <th>class</th>\n      <th>marital_status</th>\n      <th>race</th>\n      <th>is_hispanic</th>\n      <th>employment_commitment</th>\n      <th>employment_stat</th>\n      <th>wage_per_hour</th>\n      <th>working_week_per_year</th>\n      <th>industry_code_main</th>\n      <th>occupation_code_main</th>\n      <th>household_summary</th>\n      <th>vet_benefit</th>\n      <th>tax_status</th>\n      <th>citizenship</th>\n      <th>income_above_limit</th>\n      <th>investments</th>\n    </tr>\n  </thead>\n  <tbody>\n    <tr>\n      <th>0</th>\n      <td>63+</td>\n      <td>Female</td>\n      <td>highschool</td>\n      <td>NA</td>\n      <td>Widowed</td>\n      <td>White</td>\n      <td>No</td>\n      <td>Unemployed</td>\n      <td>0</td>\n      <td>0_10</td>\n      <td>weeks_worked_48_52</td>\n      <td>Not in universe or children</td>\n      <td>NA</td>\n      <td>Householder</td>\n      <td>2</td>\n      <td>Head of household</td>\n      <td>Native</td>\n      <td>0</td>\n      <td>True</td>\n    </tr>\n    <tr>\n      <th>1</th>\n      <td>63+</td>\n      <td>Female</td>\n      <td>highschool</td>\n      <td>NA</td>\n      <td>Widowed</td>\n      <td>White</td>\n      <td>No</td>\n      <td>Children or Armed Forces</td>\n      <td>0</td>\n      <td>0_10</td>\n      <td>weeks_worked_0</td>\n      <td>Not in universe or children</td>\n      <td>NA</td>\n      <td>Householder</td>\n      <td>2</td>\n      <td>Single</td>\n      <td>Native</td>\n      <td>0</td>\n      <td>False</td>\n    </tr>\n    <tr>\n      <th>2</th>\n      <td>18_24</td>\n      <td>Male</td>\n      <td>no_highschool</td>\n      <td>Federal government</td>\n      <td>Never married</td>\n      <td>Black</td>\n      <td>No</td>\n      <td>Children or Armed Forces</td>\n      <td>0</td>\n      <td>101_500</td>\n      <td>weeks_worked_1_25</td>\n      <td>Hospital services</td>\n      <td>Adm support including clerical</td>\n      <td>Child 18 or older</td>\n      <td>2</td>\n      <td>Single</td>\n      <td>Native</td>\n      <td>0</td>\n      <td>False</td>\n    </tr>\n    <tr>\n      <th>4</th>\n      <td>63+</td>\n      <td>Male</td>\n      <td>highschool</td>\n      <td>NA</td>\n      <td>Married-civilian spouse present</td>\n      <td>White</td>\n      <td>No</td>\n      <td>Unemployed</td>\n      <td>0</td>\n      <td>0_10</td>\n      <td>weeks_worked_0</td>\n      <td>Not in universe or children</td>\n      <td>NA</td>\n      <td>Spouse of householder</td>\n      <td>2</td>\n      <td>Joint both 65+</td>\n      <td>Native</td>\n      <td>0</td>\n      <td>False</td>\n    </tr>\n    <tr>\n      <th>5</th>\n      <td>33_45</td>\n      <td>Male</td>\n      <td>bachelors</td>\n      <td>Private</td>\n      <td>Married-civilian spouse present</td>\n      <td>Asian or Pacific Islander</td>\n      <td>No</td>\n      <td>Children or Armed Forces</td>\n      <td>0</td>\n      <td>501_1000</td>\n      <td>weeks_worked_48_52</td>\n      <td>Retail trade</td>\n      <td>Other service</td>\n      <td>Householder</td>\n      <td>2</td>\n      <td>Joint both under 65</td>\n      <td>Foreign born- Not a citizen of U S</td>\n      <td>0</td>\n      <td>False</td>\n    </tr>\n    <tr>\n      <th>...</th>\n      <td>...</td>\n      <td>...</td>\n      <td>...</td>\n      <td>...</td>\n      <td>...</td>\n      <td>...</td>\n      <td>...</td>\n      <td>...</td>\n      <td>...</td>\n      <td>...</td>\n      <td>...</td>\n      <td>...</td>\n      <td>...</td>\n      <td>...</td>\n      <td>...</td>\n      <td>...</td>\n      <td>...</td>\n      <td>...</td>\n      <td>...</td>\n    </tr>\n    <tr>\n      <th>209492</th>\n      <td>33_45</td>\n      <td>Female</td>\n      <td>no_highschool</td>\n      <td>NA</td>\n      <td>Married-civilian spouse present</td>\n      <td>White</td>\n      <td>Yes</td>\n      <td>Unemployed</td>\n      <td>0</td>\n      <td>0_10</td>\n      <td>weeks_worked_0</td>\n      <td>Not in universe or children</td>\n      <td>NA</td>\n      <td>Spouse of householder</td>\n      <td>2</td>\n      <td>Joint both under 65</td>\n      <td>Foreign born- Not a citizen of U S</td>\n      <td>0</td>\n      <td>False</td>\n    </tr>\n    <tr>\n      <th>209493</th>\n      <td>25_32</td>\n      <td>Male</td>\n      <td>assc_voc</td>\n      <td>State government</td>\n      <td>Never married</td>\n      <td>White</td>\n      <td>No</td>\n      <td>Full-time schedules</td>\n      <td>0</td>\n      <td>0_10</td>\n      <td>weeks_worked_26_47</td>\n      <td>Public administration</td>\n      <td>Other service</td>\n      <td>Child 18 or older</td>\n      <td>2</td>\n      <td>Single</td>\n      <td>Native</td>\n      <td>0</td>\n      <td>True</td>\n    </tr>\n    <tr>\n      <th>209495</th>\n      <td>63+</td>\n      <td>Male</td>\n      <td>bachelors</td>\n      <td>NA</td>\n      <td>Married-civilian spouse present</td>\n      <td>White</td>\n      <td>No</td>\n      <td>Unemployed</td>\n      <td>0</td>\n      <td>0_10</td>\n      <td>weeks_worked_0</td>\n      <td>Not in universe or children</td>\n      <td>NA</td>\n      <td>Householder</td>\n      <td>2</td>\n      <td>Joint both 65+</td>\n      <td>Native</td>\n      <td>0</td>\n      <td>True</td>\n    </tr>\n    <tr>\n      <th>209497</th>\n      <td>25_32</td>\n      <td>Female</td>\n      <td>somecollege</td>\n      <td>Private</td>\n      <td>Married-civilian spouse present</td>\n      <td>White</td>\n      <td>No</td>\n      <td>Children or Armed Forces</td>\n      <td>0</td>\n      <td>501_1000</td>\n      <td>weeks_worked_48_52</td>\n      <td>Wholesale trade</td>\n      <td>Handlers equip cleaners etc</td>\n      <td>Spouse of householder</td>\n      <td>2</td>\n      <td>Joint both under 65</td>\n      <td>Native</td>\n      <td>0</td>\n      <td>False</td>\n    </tr>\n    <tr>\n      <th>209498</th>\n      <td>18_24</td>\n      <td>Male</td>\n      <td>no_highschool</td>\n      <td>Local government</td>\n      <td>Never married</td>\n      <td>Black</td>\n      <td>No</td>\n      <td>Children or Armed Forces</td>\n      <td>0</td>\n      <td>0_10</td>\n      <td>weeks_worked_1_25</td>\n      <td>Public administration</td>\n      <td>Adm support including clerical</td>\n      <td>Child 18 or older</td>\n      <td>2</td>\n      <td>Nonfiler</td>\n      <td>Native</td>\n      <td>0</td>\n      <td>False</td>\n    </tr>\n  </tbody>\n</table>\n<p>150912 rows × 19 columns</p>\n</div>"
     },
     "execution_count": 6,
     "metadata": {},
     "output_type": "execute_result"
    }
   ],
   "source": [
    "data1"
   ],
   "metadata": {
    "collapsed": false,
    "ExecuteTime": {
     "end_time": "2024-02-23T19:17:51.375059Z",
     "start_time": "2024-02-23T19:17:51.338290Z"
    }
   },
   "id": "c0fe72fbccc071d2"
  },
  {
   "cell_type": "code",
   "execution_count": 8,
   "outputs": [],
   "source": [
    "data1.to_parquet(os.path.join(DATA_PATH,'data_eng.gzip'))"
   ],
   "metadata": {
    "collapsed": false,
    "ExecuteTime": {
     "end_time": "2024-02-23T19:19:05.085705Z",
     "start_time": "2024-02-23T19:19:04.606793Z"
    }
   },
   "id": "29b108c9f3beaae1"
  },
  {
   "cell_type": "code",
   "execution_count": 18,
   "outputs": [
    {
     "data": {
      "text/plain": "                ID  age   gender                    education  \\\n0        ID_TZ0000   79   Female         High school graduate   \n1        ID_TZ0001   65   Female         High school graduate   \n2        ID_TZ0002   21     Male        12th grade no diploma   \n3        ID_TZ0003    2   Female                     Children   \n4        ID_TZ0004   70     Male         High school graduate   \n...            ...  ...      ...                          ...   \n209494  ID_TZ99995   16   Female            7th and 8th grade   \n209495  ID_TZ99996   78     Male   Bachelors degree(BA AB BS)   \n209496  ID_TZ99997    8   Female                     Children   \n209497  ID_TZ99998   26   Female   Some college but no degree   \n209498  ID_TZ99999   19     Male                   11th grade   \n\n                      class education_institute  \\\n0                       NaN                 NaN   \n1                       NaN                 NaN   \n2        Federal government                 NaN   \n3                       NaN                 NaN   \n4                       NaN                 NaN   \n...                     ...                 ...   \n209494                  NaN         High school   \n209495                  NaN                 NaN   \n209496                  NaN                 NaN   \n209497              Private                 NaN   \n209498     Local government         High school   \n\n                          marital_status                        race  \\\n0                                Widowed                       White   \n1                                Widowed                       White   \n2                          Never married                       Black   \n3                          Never married   Asian or Pacific Islander   \n4        Married-civilian spouse present                       White   \n...                                  ...                         ...   \n209494                     Never married                       White   \n209495   Married-civilian spouse present                       White   \n209496                     Never married                       White   \n209497   Married-civilian spouse present                       White   \n209498                     Never married                       Black   \n\n       is_hispanic      employment_commitment  ... country_of_birth_mother  \\\n0        All other         Not in labor force  ...                      US   \n1        All other   Children or Armed Forces  ...                      US   \n2        All other   Children or Armed Forces  ...                      US   \n3        All other   Children or Armed Forces  ...                   India   \n4        All other         Not in labor force  ...                      US   \n...            ...                        ...  ...                     ...   \n209494   All other         Not in labor force  ...                      US   \n209495   All other         Not in labor force  ...                  Canada   \n209496   All other   Children or Armed Forces  ...                      US   \n209497   All other   Children or Armed Forces  ...                      US   \n209498   All other   Children or Armed Forces  ...                      US   \n\n        migration_code_change_in_msa  migration_prev_sunbelt  \\\n0                                  ?                       ?   \n1                          unchanged                     NaN   \n2                          unchanged                     NaN   \n3                          unchanged                     NaN   \n4                                  ?                       ?   \n...                              ...                     ...   \n209494                             ?                       ?   \n209495                             ?                       ?   \n209496                             ?                       ?   \n209497                     unchanged                     NaN   \n209498                    MSA to MSA                    Same   \n\n       migration_code_move_within_reg  migration_code_change_in_reg  \\\n0                                   ?                             ?   \n1                           unchanged                     unchanged   \n2                           unchanged                     unchanged   \n3                           unchanged                     unchanged   \n4                                   ?                             ?   \n...                               ...                           ...   \n209494                              ?                             ?   \n209495                              ?                             ?   \n209496                              ?                             ?   \n209497                      unchanged                     unchanged   \n209498                    Same county                   Same county   \n\n        residence_1_year_ago old_residence_reg  old_residence_state  \\\n0                        NaN               NaN                  NaN   \n1                       Same               NaN                  NaN   \n2                       Same               NaN                  NaN   \n3                       Same               NaN                  NaN   \n4                        NaN               NaN                  NaN   \n...                      ...               ...                  ...   \n209494                   NaN               NaN                  NaN   \n209495                   NaN               NaN                  NaN   \n209496                   NaN               NaN                  NaN   \n209497                  Same               NaN                  NaN   \n209498                    No             South              Florida   \n\n       importance_of_record  income_above_limit  \n0                   1779.74         Below limit  \n1                   2366.75         Below limit  \n2                   1693.42         Below limit  \n3                   1380.27         Below limit  \n4                   1580.79         Below limit  \n...                     ...                 ...  \n209494              2170.60         Below limit  \n209495              1029.57         Below limit  \n209496               791.61         Below limit  \n209497              3530.26         Below limit  \n209498              1987.72         Below limit  \n\n[209499 rows x 43 columns]",
      "text/html": "<div>\n<style scoped>\n    .dataframe tbody tr th:only-of-type {\n        vertical-align: middle;\n    }\n\n    .dataframe tbody tr th {\n        vertical-align: top;\n    }\n\n    .dataframe thead th {\n        text-align: right;\n    }\n</style>\n<table border=\"1\" class=\"dataframe\">\n  <thead>\n    <tr style=\"text-align: right;\">\n      <th></th>\n      <th>ID</th>\n      <th>age</th>\n      <th>gender</th>\n      <th>education</th>\n      <th>class</th>\n      <th>education_institute</th>\n      <th>marital_status</th>\n      <th>race</th>\n      <th>is_hispanic</th>\n      <th>employment_commitment</th>\n      <th>...</th>\n      <th>country_of_birth_mother</th>\n      <th>migration_code_change_in_msa</th>\n      <th>migration_prev_sunbelt</th>\n      <th>migration_code_move_within_reg</th>\n      <th>migration_code_change_in_reg</th>\n      <th>residence_1_year_ago</th>\n      <th>old_residence_reg</th>\n      <th>old_residence_state</th>\n      <th>importance_of_record</th>\n      <th>income_above_limit</th>\n    </tr>\n  </thead>\n  <tbody>\n    <tr>\n      <th>0</th>\n      <td>ID_TZ0000</td>\n      <td>79</td>\n      <td>Female</td>\n      <td>High school graduate</td>\n      <td>NaN</td>\n      <td>NaN</td>\n      <td>Widowed</td>\n      <td>White</td>\n      <td>All other</td>\n      <td>Not in labor force</td>\n      <td>...</td>\n      <td>US</td>\n      <td>?</td>\n      <td>?</td>\n      <td>?</td>\n      <td>?</td>\n      <td>NaN</td>\n      <td>NaN</td>\n      <td>NaN</td>\n      <td>1779.74</td>\n      <td>Below limit</td>\n    </tr>\n    <tr>\n      <th>1</th>\n      <td>ID_TZ0001</td>\n      <td>65</td>\n      <td>Female</td>\n      <td>High school graduate</td>\n      <td>NaN</td>\n      <td>NaN</td>\n      <td>Widowed</td>\n      <td>White</td>\n      <td>All other</td>\n      <td>Children or Armed Forces</td>\n      <td>...</td>\n      <td>US</td>\n      <td>unchanged</td>\n      <td>NaN</td>\n      <td>unchanged</td>\n      <td>unchanged</td>\n      <td>Same</td>\n      <td>NaN</td>\n      <td>NaN</td>\n      <td>2366.75</td>\n      <td>Below limit</td>\n    </tr>\n    <tr>\n      <th>2</th>\n      <td>ID_TZ0002</td>\n      <td>21</td>\n      <td>Male</td>\n      <td>12th grade no diploma</td>\n      <td>Federal government</td>\n      <td>NaN</td>\n      <td>Never married</td>\n      <td>Black</td>\n      <td>All other</td>\n      <td>Children or Armed Forces</td>\n      <td>...</td>\n      <td>US</td>\n      <td>unchanged</td>\n      <td>NaN</td>\n      <td>unchanged</td>\n      <td>unchanged</td>\n      <td>Same</td>\n      <td>NaN</td>\n      <td>NaN</td>\n      <td>1693.42</td>\n      <td>Below limit</td>\n    </tr>\n    <tr>\n      <th>3</th>\n      <td>ID_TZ0003</td>\n      <td>2</td>\n      <td>Female</td>\n      <td>Children</td>\n      <td>NaN</td>\n      <td>NaN</td>\n      <td>Never married</td>\n      <td>Asian or Pacific Islander</td>\n      <td>All other</td>\n      <td>Children or Armed Forces</td>\n      <td>...</td>\n      <td>India</td>\n      <td>unchanged</td>\n      <td>NaN</td>\n      <td>unchanged</td>\n      <td>unchanged</td>\n      <td>Same</td>\n      <td>NaN</td>\n      <td>NaN</td>\n      <td>1380.27</td>\n      <td>Below limit</td>\n    </tr>\n    <tr>\n      <th>4</th>\n      <td>ID_TZ0004</td>\n      <td>70</td>\n      <td>Male</td>\n      <td>High school graduate</td>\n      <td>NaN</td>\n      <td>NaN</td>\n      <td>Married-civilian spouse present</td>\n      <td>White</td>\n      <td>All other</td>\n      <td>Not in labor force</td>\n      <td>...</td>\n      <td>US</td>\n      <td>?</td>\n      <td>?</td>\n      <td>?</td>\n      <td>?</td>\n      <td>NaN</td>\n      <td>NaN</td>\n      <td>NaN</td>\n      <td>1580.79</td>\n      <td>Below limit</td>\n    </tr>\n    <tr>\n      <th>...</th>\n      <td>...</td>\n      <td>...</td>\n      <td>...</td>\n      <td>...</td>\n      <td>...</td>\n      <td>...</td>\n      <td>...</td>\n      <td>...</td>\n      <td>...</td>\n      <td>...</td>\n      <td>...</td>\n      <td>...</td>\n      <td>...</td>\n      <td>...</td>\n      <td>...</td>\n      <td>...</td>\n      <td>...</td>\n      <td>...</td>\n      <td>...</td>\n      <td>...</td>\n      <td>...</td>\n    </tr>\n    <tr>\n      <th>209494</th>\n      <td>ID_TZ99995</td>\n      <td>16</td>\n      <td>Female</td>\n      <td>7th and 8th grade</td>\n      <td>NaN</td>\n      <td>High school</td>\n      <td>Never married</td>\n      <td>White</td>\n      <td>All other</td>\n      <td>Not in labor force</td>\n      <td>...</td>\n      <td>US</td>\n      <td>?</td>\n      <td>?</td>\n      <td>?</td>\n      <td>?</td>\n      <td>NaN</td>\n      <td>NaN</td>\n      <td>NaN</td>\n      <td>2170.60</td>\n      <td>Below limit</td>\n    </tr>\n    <tr>\n      <th>209495</th>\n      <td>ID_TZ99996</td>\n      <td>78</td>\n      <td>Male</td>\n      <td>Bachelors degree(BA AB BS)</td>\n      <td>NaN</td>\n      <td>NaN</td>\n      <td>Married-civilian spouse present</td>\n      <td>White</td>\n      <td>All other</td>\n      <td>Not in labor force</td>\n      <td>...</td>\n      <td>Canada</td>\n      <td>?</td>\n      <td>?</td>\n      <td>?</td>\n      <td>?</td>\n      <td>NaN</td>\n      <td>NaN</td>\n      <td>NaN</td>\n      <td>1029.57</td>\n      <td>Below limit</td>\n    </tr>\n    <tr>\n      <th>209496</th>\n      <td>ID_TZ99997</td>\n      <td>8</td>\n      <td>Female</td>\n      <td>Children</td>\n      <td>NaN</td>\n      <td>NaN</td>\n      <td>Never married</td>\n      <td>White</td>\n      <td>All other</td>\n      <td>Children or Armed Forces</td>\n      <td>...</td>\n      <td>US</td>\n      <td>?</td>\n      <td>?</td>\n      <td>?</td>\n      <td>?</td>\n      <td>NaN</td>\n      <td>NaN</td>\n      <td>NaN</td>\n      <td>791.61</td>\n      <td>Below limit</td>\n    </tr>\n    <tr>\n      <th>209497</th>\n      <td>ID_TZ99998</td>\n      <td>26</td>\n      <td>Female</td>\n      <td>Some college but no degree</td>\n      <td>Private</td>\n      <td>NaN</td>\n      <td>Married-civilian spouse present</td>\n      <td>White</td>\n      <td>All other</td>\n      <td>Children or Armed Forces</td>\n      <td>...</td>\n      <td>US</td>\n      <td>unchanged</td>\n      <td>NaN</td>\n      <td>unchanged</td>\n      <td>unchanged</td>\n      <td>Same</td>\n      <td>NaN</td>\n      <td>NaN</td>\n      <td>3530.26</td>\n      <td>Below limit</td>\n    </tr>\n    <tr>\n      <th>209498</th>\n      <td>ID_TZ99999</td>\n      <td>19</td>\n      <td>Male</td>\n      <td>11th grade</td>\n      <td>Local government</td>\n      <td>High school</td>\n      <td>Never married</td>\n      <td>Black</td>\n      <td>All other</td>\n      <td>Children or Armed Forces</td>\n      <td>...</td>\n      <td>US</td>\n      <td>MSA to MSA</td>\n      <td>Same</td>\n      <td>Same county</td>\n      <td>Same county</td>\n      <td>No</td>\n      <td>South</td>\n      <td>Florida</td>\n      <td>1987.72</td>\n      <td>Below limit</td>\n    </tr>\n  </tbody>\n</table>\n<p>209499 rows × 43 columns</p>\n</div>"
     },
     "execution_count": 18,
     "metadata": {},
     "output_type": "execute_result"
    }
   ],
   "source": [
    "data"
   ],
   "metadata": {
    "collapsed": false,
    "ExecuteTime": {
     "end_time": "2024-02-19T00:17:49.973658Z",
     "start_time": "2024-02-19T00:17:49.759622Z"
    }
   },
   "id": "d464b124a820d939"
  },
  {
   "cell_type": "code",
   "execution_count": 19,
   "outputs": [
    {
     "data": {
      "text/plain": "array(['highschool', 'no_highschool', ' Children', 'bachelors', 'masters',\n       'assc_acad', 'somecollege', 'assc_voc', 'doctorate'], dtype=object)"
     },
     "execution_count": 19,
     "metadata": {},
     "output_type": "execute_result"
    }
   ],
   "source": [
    "data['education'].map(lambda x: edu_tr(x)).unique()"
   ],
   "metadata": {
    "collapsed": false,
    "ExecuteTime": {
     "end_time": "2024-02-19T00:17:52.091881Z",
     "start_time": "2024-02-19T00:17:51.773809Z"
    }
   },
   "id": "8ce6d33637b76ee1"
  },
  {
   "cell_type": "code",
   "execution_count": 10,
   "outputs": [
    {
     "name": "stdout",
     "output_type": "stream",
     "text": [
      "<class 'pandas.core.frame.DataFrame'>\n",
      "Index: 150912 entries, 0 to 209498\n",
      "Data columns (total 19 columns):\n",
      " #   Column                 Non-Null Count   Dtype   \n",
      "---  ------                 --------------   -----   \n",
      " 0   age                    150912 non-null  category\n",
      " 1   gender                 150912 non-null  object  \n",
      " 2   education              150912 non-null  object  \n",
      " 3   class                  150912 non-null  object  \n",
      " 4   marital_status         150912 non-null  object  \n",
      " 5   race                   150912 non-null  object  \n",
      " 6   is_hispanic            150912 non-null  object  \n",
      " 7   employment_commitment  150912 non-null  object  \n",
      " 8   employment_stat        150912 non-null  category\n",
      " 9   wage_per_hour          150912 non-null  category\n",
      " 10  working_week_per_year  150912 non-null  category\n",
      " 11  industry_code_main     150912 non-null  object  \n",
      " 12  occupation_code_main   150912 non-null  object  \n",
      " 13  household_summary      150912 non-null  object  \n",
      " 14  vet_benefit            150912 non-null  category\n",
      " 15  tax_status             150912 non-null  object  \n",
      " 16  citizenship            150912 non-null  object  \n",
      " 17  income_above_limit     150912 non-null  object  \n",
      " 18  investments            150912 non-null  bool    \n",
      "dtypes: bool(1), category(5), object(13)\n",
      "memory usage: 17.0+ MB\n"
     ]
    }
   ],
   "source": [
    "data1.info()"
   ],
   "metadata": {
    "collapsed": false,
    "ExecuteTime": {
     "end_time": "2024-02-18T22:57:26.539031Z",
     "start_time": "2024-02-18T22:57:26.479015Z"
    }
   },
   "id": "ac079ad64d2e8c27"
  },
  {
   "cell_type": "code",
   "execution_count": 7,
   "outputs": [
    {
     "data": {
      "text/plain": "income_above_limit\n0    137916\n1     12996\nName: count, dtype: int64"
     },
     "execution_count": 7,
     "metadata": {},
     "output_type": "execute_result"
    }
   ],
   "source": [
    "data1['income_above_limit'].value_counts()"
   ],
   "metadata": {
    "collapsed": false,
    "ExecuteTime": {
     "end_time": "2024-02-23T19:18:53.438511Z",
     "start_time": "2024-02-23T19:18:53.420228Z"
    }
   },
   "id": "6447b755a692806b"
  },
  {
   "cell_type": "code",
   "execution_count": null,
   "outputs": [],
   "source": [],
   "metadata": {
    "collapsed": false
   },
   "id": "2cb23a326045b004"
  }
 ],
 "metadata": {
  "kernelspec": {
   "display_name": "Python 3",
   "language": "python",
   "name": "python3"
  },
  "language_info": {
   "codemirror_mode": {
    "name": "ipython",
    "version": 2
   },
   "file_extension": ".py",
   "mimetype": "text/x-python",
   "name": "python",
   "nbconvert_exporter": "python",
   "pygments_lexer": "ipython2",
   "version": "2.7.6"
  }
 },
 "nbformat": 4,
 "nbformat_minor": 5
}
