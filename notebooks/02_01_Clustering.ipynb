{
 "cells": [
  {
   "cell_type": "code",
   "execution_count": 1,
   "id": "initial_id",
   "metadata": {
    "tags": [],
    "ExecuteTime": {
     "end_time": "2024-02-24T04:35:02.177740Z",
     "start_time": "2024-02-24T04:35:01.983376Z"
    }
   },
   "outputs": [],
   "source": [
    "## Set-up.\n",
    "### Libraries\n",
    "import os\n",
    "import numpy as np\n",
    "import pandas as pd\n",
    "import matplotlib.pyplot as plt\n",
    "import seaborn as sns"
   ]
  },
  {
   "cell_type": "code",
   "execution_count": 2,
   "id": "f07aea392db32d8f",
   "metadata": {
    "collapsed": false,
    "ExecuteTime": {
     "end_time": "2024-02-24T04:35:02.180801Z",
     "start_time": "2024-02-24T04:35:01.984810Z"
    }
   },
   "outputs": [],
   "source": [
    "DATA_PATH = '../dataset/'"
   ]
  },
  {
   "cell_type": "code",
   "execution_count": 3,
   "id": "cc6f98973fef6173",
   "metadata": {
    "collapsed": false,
    "ExecuteTime": {
     "end_time": "2024-02-24T04:35:02.288208Z",
     "start_time": "2024-02-24T04:35:01.985021Z"
    }
   },
   "outputs": [],
   "source": [
    "data = pd.read_parquet(os.path.join(DATA_PATH,'data_eng.gzip'))"
   ]
  },
  {
   "cell_type": "code",
   "execution_count": 20,
   "id": "8b6f5307-116d-4a30-a2cb-23a403d98b55",
   "metadata": {},
   "outputs": [],
   "source": [
    "#data.to_csv('data.csv')"
   ]
  },
  {
   "cell_type": "code",
   "execution_count": 4,
   "id": "9d1b0e3b851abcd3",
   "metadata": {
    "collapsed": false,
    "ExecuteTime": {
     "end_time": "2024-02-24T04:35:54.330246Z",
     "start_time": "2024-02-24T04:35:54.279135Z"
    }
   },
   "outputs": [
    {
     "data": {
      "text/plain": "          age   gender      education                class  \\\n0         63+   Female     highschool                   NA   \n1         63+   Female     highschool                   NA   \n2       18_24     Male  no_highschool   Federal government   \n4         63+     Male     highschool                   NA   \n5       33_45     Male      bachelors              Private   \n...       ...      ...            ...                  ...   \n209492  33_45   Female  no_highschool                   NA   \n209493  25_32     Male       assc_voc     State government   \n209495    63+     Male      bachelors                   NA   \n209497  25_32   Female    somecollege              Private   \n209498  18_24     Male  no_highschool     Local government   \n\n                          marital_status                        race  \\\n0                                Widowed                       White   \n1                                Widowed                       White   \n2                          Never married                       Black   \n4        Married-civilian spouse present                       White   \n5        Married-civilian spouse present   Asian or Pacific Islander   \n...                                  ...                         ...   \n209492   Married-civilian spouse present                       White   \n209493                     Never married                       White   \n209495   Married-civilian spouse present                       White   \n209497   Married-civilian spouse present                       White   \n209498                     Never married                       Black   \n\n       is_hispanic      employment_commitment employment_stat wage_per_hour  \\\n0               No                 Unemployed               0          0_10   \n1               No   Children or Armed Forces               0          0_10   \n2               No   Children or Armed Forces               0       101_500   \n4               No                 Unemployed               0          0_10   \n5               No   Children or Armed Forces               0      501_1000   \n...            ...                        ...             ...           ...   \n209492         Yes                 Unemployed               0          0_10   \n209493          No        Full-time schedules               0          0_10   \n209495          No                 Unemployed               0          0_10   \n209497          No   Children or Armed Forces               0      501_1000   \n209498          No   Children or Armed Forces               0          0_10   \n\n       working_week_per_year            industry_code_main  \\\n0         weeks_worked_48_52   Not in universe or children   \n1             weeks_worked_0   Not in universe or children   \n2          weeks_worked_1_25             Hospital services   \n4             weeks_worked_0   Not in universe or children   \n5         weeks_worked_48_52                  Retail trade   \n...                      ...                           ...   \n209492        weeks_worked_0   Not in universe or children   \n209493    weeks_worked_26_47         Public administration   \n209495        weeks_worked_0   Not in universe or children   \n209497    weeks_worked_48_52               Wholesale trade   \n209498     weeks_worked_1_25         Public administration   \n\n                   occupation_code_main       household_summary vet_benefit  \\\n0                                    NA             Householder           2   \n1                                    NA             Householder           2   \n2        Adm support including clerical       Child 18 or older           2   \n4                                    NA   Spouse of householder           2   \n5                         Other service             Householder           2   \n...                                 ...                     ...         ...   \n209492                               NA   Spouse of householder           2   \n209493                    Other service       Child 18 or older           2   \n209495                               NA             Householder           2   \n209497     Handlers equip cleaners etc    Spouse of householder           2   \n209498   Adm support including clerical       Child 18 or older           2   \n\n                  tax_status                           citizenship  \\\n0          Head of household                                Native   \n1                     Single                                Native   \n2                     Single                                Native   \n4             Joint both 65+                                Native   \n5        Joint both under 65   Foreign born- Not a citizen of U S    \n...                      ...                                   ...   \n209492   Joint both under 65   Foreign born- Not a citizen of U S    \n209493                Single                                Native   \n209495        Joint both 65+                                Native   \n209497   Joint both under 65                                Native   \n209498              Nonfiler                                Native   \n\n        income_above_limit  investments  \n0                        0         True  \n1                        0        False  \n2                        0        False  \n4                        0        False  \n5                        0        False  \n...                    ...          ...  \n209492                   0        False  \n209493                   0         True  \n209495                   0         True  \n209497                   0        False  \n209498                   0        False  \n\n[150912 rows x 19 columns]",
      "text/html": "<div>\n<style scoped>\n    .dataframe tbody tr th:only-of-type {\n        vertical-align: middle;\n    }\n\n    .dataframe tbody tr th {\n        vertical-align: top;\n    }\n\n    .dataframe thead th {\n        text-align: right;\n    }\n</style>\n<table border=\"1\" class=\"dataframe\">\n  <thead>\n    <tr style=\"text-align: right;\">\n      <th></th>\n      <th>age</th>\n      <th>gender</th>\n      <th>education</th>\n      <th>class</th>\n      <th>marital_status</th>\n      <th>race</th>\n      <th>is_hispanic</th>\n      <th>employment_commitment</th>\n      <th>employment_stat</th>\n      <th>wage_per_hour</th>\n      <th>working_week_per_year</th>\n      <th>industry_code_main</th>\n      <th>occupation_code_main</th>\n      <th>household_summary</th>\n      <th>vet_benefit</th>\n      <th>tax_status</th>\n      <th>citizenship</th>\n      <th>income_above_limit</th>\n      <th>investments</th>\n    </tr>\n  </thead>\n  <tbody>\n    <tr>\n      <th>0</th>\n      <td>63+</td>\n      <td>Female</td>\n      <td>highschool</td>\n      <td>NA</td>\n      <td>Widowed</td>\n      <td>White</td>\n      <td>No</td>\n      <td>Unemployed</td>\n      <td>0</td>\n      <td>0_10</td>\n      <td>weeks_worked_48_52</td>\n      <td>Not in universe or children</td>\n      <td>NA</td>\n      <td>Householder</td>\n      <td>2</td>\n      <td>Head of household</td>\n      <td>Native</td>\n      <td>0</td>\n      <td>True</td>\n    </tr>\n    <tr>\n      <th>1</th>\n      <td>63+</td>\n      <td>Female</td>\n      <td>highschool</td>\n      <td>NA</td>\n      <td>Widowed</td>\n      <td>White</td>\n      <td>No</td>\n      <td>Children or Armed Forces</td>\n      <td>0</td>\n      <td>0_10</td>\n      <td>weeks_worked_0</td>\n      <td>Not in universe or children</td>\n      <td>NA</td>\n      <td>Householder</td>\n      <td>2</td>\n      <td>Single</td>\n      <td>Native</td>\n      <td>0</td>\n      <td>False</td>\n    </tr>\n    <tr>\n      <th>2</th>\n      <td>18_24</td>\n      <td>Male</td>\n      <td>no_highschool</td>\n      <td>Federal government</td>\n      <td>Never married</td>\n      <td>Black</td>\n      <td>No</td>\n      <td>Children or Armed Forces</td>\n      <td>0</td>\n      <td>101_500</td>\n      <td>weeks_worked_1_25</td>\n      <td>Hospital services</td>\n      <td>Adm support including clerical</td>\n      <td>Child 18 or older</td>\n      <td>2</td>\n      <td>Single</td>\n      <td>Native</td>\n      <td>0</td>\n      <td>False</td>\n    </tr>\n    <tr>\n      <th>4</th>\n      <td>63+</td>\n      <td>Male</td>\n      <td>highschool</td>\n      <td>NA</td>\n      <td>Married-civilian spouse present</td>\n      <td>White</td>\n      <td>No</td>\n      <td>Unemployed</td>\n      <td>0</td>\n      <td>0_10</td>\n      <td>weeks_worked_0</td>\n      <td>Not in universe or children</td>\n      <td>NA</td>\n      <td>Spouse of householder</td>\n      <td>2</td>\n      <td>Joint both 65+</td>\n      <td>Native</td>\n      <td>0</td>\n      <td>False</td>\n    </tr>\n    <tr>\n      <th>5</th>\n      <td>33_45</td>\n      <td>Male</td>\n      <td>bachelors</td>\n      <td>Private</td>\n      <td>Married-civilian spouse present</td>\n      <td>Asian or Pacific Islander</td>\n      <td>No</td>\n      <td>Children or Armed Forces</td>\n      <td>0</td>\n      <td>501_1000</td>\n      <td>weeks_worked_48_52</td>\n      <td>Retail trade</td>\n      <td>Other service</td>\n      <td>Householder</td>\n      <td>2</td>\n      <td>Joint both under 65</td>\n      <td>Foreign born- Not a citizen of U S</td>\n      <td>0</td>\n      <td>False</td>\n    </tr>\n    <tr>\n      <th>...</th>\n      <td>...</td>\n      <td>...</td>\n      <td>...</td>\n      <td>...</td>\n      <td>...</td>\n      <td>...</td>\n      <td>...</td>\n      <td>...</td>\n      <td>...</td>\n      <td>...</td>\n      <td>...</td>\n      <td>...</td>\n      <td>...</td>\n      <td>...</td>\n      <td>...</td>\n      <td>...</td>\n      <td>...</td>\n      <td>...</td>\n      <td>...</td>\n    </tr>\n    <tr>\n      <th>209492</th>\n      <td>33_45</td>\n      <td>Female</td>\n      <td>no_highschool</td>\n      <td>NA</td>\n      <td>Married-civilian spouse present</td>\n      <td>White</td>\n      <td>Yes</td>\n      <td>Unemployed</td>\n      <td>0</td>\n      <td>0_10</td>\n      <td>weeks_worked_0</td>\n      <td>Not in universe or children</td>\n      <td>NA</td>\n      <td>Spouse of householder</td>\n      <td>2</td>\n      <td>Joint both under 65</td>\n      <td>Foreign born- Not a citizen of U S</td>\n      <td>0</td>\n      <td>False</td>\n    </tr>\n    <tr>\n      <th>209493</th>\n      <td>25_32</td>\n      <td>Male</td>\n      <td>assc_voc</td>\n      <td>State government</td>\n      <td>Never married</td>\n      <td>White</td>\n      <td>No</td>\n      <td>Full-time schedules</td>\n      <td>0</td>\n      <td>0_10</td>\n      <td>weeks_worked_26_47</td>\n      <td>Public administration</td>\n      <td>Other service</td>\n      <td>Child 18 or older</td>\n      <td>2</td>\n      <td>Single</td>\n      <td>Native</td>\n      <td>0</td>\n      <td>True</td>\n    </tr>\n    <tr>\n      <th>209495</th>\n      <td>63+</td>\n      <td>Male</td>\n      <td>bachelors</td>\n      <td>NA</td>\n      <td>Married-civilian spouse present</td>\n      <td>White</td>\n      <td>No</td>\n      <td>Unemployed</td>\n      <td>0</td>\n      <td>0_10</td>\n      <td>weeks_worked_0</td>\n      <td>Not in universe or children</td>\n      <td>NA</td>\n      <td>Householder</td>\n      <td>2</td>\n      <td>Joint both 65+</td>\n      <td>Native</td>\n      <td>0</td>\n      <td>True</td>\n    </tr>\n    <tr>\n      <th>209497</th>\n      <td>25_32</td>\n      <td>Female</td>\n      <td>somecollege</td>\n      <td>Private</td>\n      <td>Married-civilian spouse present</td>\n      <td>White</td>\n      <td>No</td>\n      <td>Children or Armed Forces</td>\n      <td>0</td>\n      <td>501_1000</td>\n      <td>weeks_worked_48_52</td>\n      <td>Wholesale trade</td>\n      <td>Handlers equip cleaners etc</td>\n      <td>Spouse of householder</td>\n      <td>2</td>\n      <td>Joint both under 65</td>\n      <td>Native</td>\n      <td>0</td>\n      <td>False</td>\n    </tr>\n    <tr>\n      <th>209498</th>\n      <td>18_24</td>\n      <td>Male</td>\n      <td>no_highschool</td>\n      <td>Local government</td>\n      <td>Never married</td>\n      <td>Black</td>\n      <td>No</td>\n      <td>Children or Armed Forces</td>\n      <td>0</td>\n      <td>0_10</td>\n      <td>weeks_worked_1_25</td>\n      <td>Public administration</td>\n      <td>Adm support including clerical</td>\n      <td>Child 18 or older</td>\n      <td>2</td>\n      <td>Nonfiler</td>\n      <td>Native</td>\n      <td>0</td>\n      <td>False</td>\n    </tr>\n  </tbody>\n</table>\n<p>150912 rows × 19 columns</p>\n</div>"
     },
     "execution_count": 4,
     "metadata": {},
     "output_type": "execute_result"
    }
   ],
   "source": [
    "data"
   ]
  },
  {
   "cell_type": "code",
   "execution_count": 11,
   "id": "011eb0c1-122f-4341-85d4-c480784f84b5",
   "metadata": {},
   "outputs": [
    {
     "name": "stdout",
     "output_type": "stream",
     "text": [
      "<class 'pandas.core.frame.DataFrame'>\n",
      "Int64Index: 150912 entries, 0 to 209498\n",
      "Data columns (total 19 columns):\n",
      " #   Column                 Non-Null Count   Dtype \n",
      "---  ------                 --------------   ----- \n",
      " 0   age                    150912 non-null  object\n",
      " 1   gender                 150912 non-null  object\n",
      " 2   education              150912 non-null  object\n",
      " 3   class                  150912 non-null  object\n",
      " 4   marital_status         150912 non-null  object\n",
      " 5   race                   150912 non-null  object\n",
      " 6   is_hispanic            150912 non-null  object\n",
      " 7   employment_commitment  150912 non-null  object\n",
      " 8   employment_stat        150912 non-null  int32 \n",
      " 9   wage_per_hour          150912 non-null  object\n",
      " 10  working_week_per_year  150912 non-null  object\n",
      " 11  industry_code_main     150912 non-null  object\n",
      " 12  occupation_code_main   150912 non-null  object\n",
      " 13  household_summary      150912 non-null  object\n",
      " 14  vet_benefit            150912 non-null  int32 \n",
      " 15  tax_status             150912 non-null  object\n",
      " 16  citizenship            150912 non-null  object\n",
      " 17  income_above_limit     150912 non-null  object\n",
      " 18  investments            150912 non-null  bool  \n",
      "dtypes: bool(1), int32(2), object(16)\n",
      "memory usage: 20.9+ MB\n"
     ]
    }
   ],
   "source": [
    "data.astype({'vet_benefit': int, 'employment_stat': int}).info()"
   ]
  },
  {
   "cell_type": "code",
   "execution_count": 35,
   "id": "5834b52a-0424-461e-9479-529e9a01df48",
   "metadata": {},
   "outputs": [],
   "source": [
    "cat_cols = [0,1,2,3,4,5,6,7,9,10,11,12,13,15,16,17,18]"
   ]
  },
  {
   "cell_type": "code",
   "execution_count": 15,
   "id": "90911a94-c6f4-4ae4-a4ec-a4467d01ece6",
   "metadata": {},
   "outputs": [],
   "source": [
    "from kmodes.kprototypes import KPrototypes"
   ]
  },
  {
   "cell_type": "code",
   "execution_count": 36,
   "id": "75254eab-2c44-44f6-9288-fdef71358b6a",
   "metadata": {},
   "outputs": [
    {
     "name": "stdout",
     "output_type": "stream",
     "text": [
      "1\\.cluster start\n",
      "Best run was number 1\n",
      "2\\.cluster start\n",
      "Best run was number 1\n",
      "3\\.cluster start\n",
      "Best run was number 1\n",
      "4\\.cluster start\n",
      "Best run was number 7\n",
      "5\\.cluster start\n",
      "Best run was number 5\n",
      "6\\.cluster start\n",
      "Best run was number 10\n",
      "7\\.cluster start\n",
      "Best run was number 7\n",
      "8\\.cluster start\n",
      "Best run was number 9\n",
      "9\\.cluster start\n",
      "Best run was number 4\n"
     ]
    }
   ],
   "source": [
    "cost = []\n",
    "for cluster in range(1,10):\n",
    "    print('{cluster}\\.cluster start'.format(cluster=cluster))\n",
    "    kproto = KPrototypes(n_clusters = cluster, init='Huang',n_jobs=-1,n_init=10,verbose=1)\n",
    "    kproto.fit(data, categorical=cat_cols)\n",
    "    cost.append(kproto.cost_)"
   ]
  },
  {
   "cell_type": "code",
   "execution_count": 37,
   "id": "7db5b082-d7a8-4c04-93a0-f7611fede81a",
   "metadata": {},
   "outputs": [
    {
     "data": {
      "image/png": "[encoded data removed]",
      "text/plain": [
       "<Figure size 640x480 with 1 Axes>"
      ]
     },
     "metadata": {},
     "output_type": "display_data"
    }
   ],
   "source": [
    "plt.plot(range(1,10),cost)\n",
    "plt.xlabel('Cluster')\n",
    "plt.ylabel('Cost')\n",
    "plt.show()"
   ]
  },
  {
   "cell_type": "code",
   "execution_count": 38,
   "id": "f38e0f40-e2cf-4950-979c-a58a0e67d1da",
   "metadata": {},
   "outputs": [
    {
     "name": "stdout",
     "output_type": "stream",
     "text": [
      "Best run was number 9\n"
     ]
    },
    {
     "data": {
      "text/html": [
       "<style>#sk-container-id-1 {color: black;background-color: white;}#sk-container-id-1 pre{padding: 0;}#sk-container-id-1 div.sk-toggleable {background-color: white;}#sk-container-id-1 label.sk-toggleable__label {cursor: pointer;display: block;width: 100%;margin-bottom: 0;padding: 0.3em;box-sizing: border-box;text-align: center;}#sk-container-id-1 label.sk-toggleable__label-arrow:before {content: \"▸\";float: left;margin-right: 0.25em;color: #696969;}#sk-container-id-1 label.sk-toggleable__label-arrow:hover:before {color: black;}#sk-container-id-1 div.sk-estimator:hover label.sk-toggleable__label-arrow:before {color: black;}#sk-container-id-1 div.sk-toggleable__content {max-height: 0;max-width: 0;overflow: hidden;text-align: left;background-color: #f0f8ff;}#sk-container-id-1 div.sk-toggleable__content pre {margin: 0.2em;color: black;border-radius: 0.25em;background-color: #f0f8ff;}#sk-container-id-1 input.sk-toggleable__control:checked~div.sk-toggleable__content {max-height: 200px;max-width: 100%;overflow: auto;}#sk-container-id-1 input.sk-toggleable__control:checked~label.sk-toggleable__label-arrow:before {content: \"▾\";}#sk-container-id-1 div.sk-estimator input.sk-toggleable__control:checked~label.sk-toggleable__label {background-color: #d4ebff;}#sk-container-id-1 div.sk-label input.sk-toggleable__control:checked~label.sk-toggleable__label {background-color: #d4ebff;}#sk-container-id-1 input.sk-hidden--visually {border: 0;clip: rect(1px 1px 1px 1px);clip: rect(1px, 1px, 1px, 1px);height: 1px;margin: -1px;overflow: hidden;padding: 0;position: absolute;width: 1px;}#sk-container-id-1 div.sk-estimator {font-family: monospace;background-color: #f0f8ff;border: 1px dotted black;border-radius: 0.25em;box-sizing: border-box;margin-bottom: 0.5em;}#sk-container-id-1 div.sk-estimator:hover {background-color: #d4ebff;}#sk-container-id-1 div.sk-parallel-item::after {content: \"\";width: 100%;border-bottom: 1px solid gray;flex-grow: 1;}#sk-container-id-1 div.sk-label:hover label.sk-toggleable__label {background-color: #d4ebff;}#sk-container-id-1 div.sk-serial::before {content: \"\";position: absolute;border-left: 1px solid gray;box-sizing: border-box;top: 0;bottom: 0;left: 50%;z-index: 0;}#sk-container-id-1 div.sk-serial {display: flex;flex-direction: column;align-items: center;background-color: white;padding-right: 0.2em;padding-left: 0.2em;position: relative;}#sk-container-id-1 div.sk-item {position: relative;z-index: 1;}#sk-container-id-1 div.sk-parallel {display: flex;align-items: stretch;justify-content: center;background-color: white;position: relative;}#sk-container-id-1 div.sk-item::before, #sk-container-id-1 div.sk-parallel-item::before {content: \"\";position: absolute;border-left: 1px solid gray;box-sizing: border-box;top: 0;bottom: 0;left: 50%;z-index: -1;}#sk-container-id-1 div.sk-parallel-item {display: flex;flex-direction: column;z-index: 1;position: relative;background-color: white;}#sk-container-id-1 div.sk-parallel-item:first-child::after {align-self: flex-end;width: 50%;}#sk-container-id-1 div.sk-parallel-item:last-child::after {align-self: flex-start;width: 50%;}#sk-container-id-1 div.sk-parallel-item:only-child::after {width: 0;}#sk-container-id-1 div.sk-dashed-wrapped {border: 1px dashed gray;margin: 0 0.4em 0.5em 0.4em;box-sizing: border-box;padding-bottom: 0.4em;background-color: white;}#sk-container-id-1 div.sk-label label {font-family: monospace;font-weight: bold;display: inline-block;line-height: 1.2em;}#sk-container-id-1 div.sk-label-container {text-align: center;}#sk-container-id-1 div.sk-container {/* jupyter's `normalize.less` sets `[hidden] { display: none; }` but bootstrap.min.css set `[hidden] { display: none !important; }` so we also need the `!important` here to be able to override the default hidden behavior on the sphinx rendered scikit-learn.org. See: https://github.com/scikit-learn/scikit-learn/issues/21755 */display: inline-block !important;position: relative;}#sk-container-id-1 div.sk-text-repr-fallback {display: none;}</style><div id=\"sk-container-id-1\" class=\"sk-top-container\"><div class=\"sk-text-repr-fallback\"><pre>KPrototypes(gamma=0.18750014369174897, init=&#x27;Huang&#x27;, n_clusters=4, n_jobs=-1,\n",
       "            verbose=2)</pre><b>In a Jupyter environment, please rerun this cell to show the HTML representation or trust the notebook. <br />On GitHub, the HTML representation is unable to render, please try loading this page with nbviewer.org.</b></div><div class=\"sk-container\" hidden><div class=\"sk-item\"><div class=\"sk-estimator sk-toggleable\"><input class=\"sk-toggleable__control sk-hidden--visually\" id=\"sk-estimator-id-1\" type=\"checkbox\" checked><label for=\"sk-estimator-id-1\" class=\"sk-toggleable__label sk-toggleable__label-arrow\">KPrototypes</label><div class=\"sk-toggleable__content\"><pre>KPrototypes(gamma=0.18750014369174897, init=&#x27;Huang&#x27;, n_clusters=4, n_jobs=-1,\n",
       "            verbose=2)</pre></div></div></div></div></div>"
      ],
      "text/plain": [
       "KPrototypes(gamma=0.18750014369174897, init='Huang', n_clusters=4, n_jobs=-1,\n",
       "            verbose=2)"
      ]
     },
     "execution_count": 38,
     "metadata": {},
     "output_type": "execute_result"
    }
   ],
   "source": [
    "kproto = KPrototypes(n_clusters = 4, init='Huang',n_jobs=-1,n_init=10,verbose=2)\n",
    "kproto.fit(data, categorical=cat_cols)"
   ]
  },
  {
   "cell_type": "code",
   "execution_count": 39,
   "id": "e1c593df-5d3e-444b-9612-c7471affbb5d",
   "metadata": {},
   "outputs": [],
   "source": [
    "centroids = kproto.cluster_centroids_\n",
    "labels  = kproto.labels_"
   ]
  },
  {
   "cell_type": "code",
   "execution_count": 66,
   "id": "bd52174b-512d-4a80-9d2a-95f57f5c4d54",
   "metadata": {},
   "outputs": [],
   "source": [
    "d2 = data.copy()"
   ]
  },
  {
   "cell_type": "code",
   "execution_count": 67,
   "id": "461702bf-96ff-4921-8108-dbf5c607a3e8",
   "metadata": {},
   "outputs": [],
   "source": [
    "d2['labels'] = labels\n",
    "d2['cnt'] = 1"
   ]
  },
  {
   "cell_type": "code",
   "execution_count": 83,
   "id": "3c6840bb-2b54-4929-a5e3-91456d20bb6b",
   "metadata": {},
   "outputs": [
    {
     "data": {
      "text/plain": [
       "labels\n",
       "0    43928\n",
       "1    40645\n",
       "2    18892\n",
       "3    47447\n",
       "Name: cnt, dtype: int64"
      ]
     },
     "execution_count": 83,
     "metadata": {},
     "output_type": "execute_result"
    }
   ],
   "source": [
    "d2.groupby('labels')['cnt'].sum()"
   ]
  },
  {
   "cell_type": "code",
   "execution_count": 68,
   "id": "49c1ac96-b673-4063-9fd7-eddab1457a51",
   "metadata": {},
   "outputs": [
    {
     "data": {
      "text/html": [
       "<div>\n",
       "<style scoped>\n",
       "    .dataframe tbody tr th:only-of-type {\n",
       "        vertical-align: middle;\n",
       "    }\n",
       "\n",
       "    .dataframe tbody tr th {\n",
       "        vertical-align: top;\n",
       "    }\n",
       "\n",
       "    .dataframe thead th {\n",
       "        text-align: right;\n",
       "    }\n",
       "</style>\n",
       "<table border=\"1\" class=\"dataframe\">\n",
       "  <thead>\n",
       "    <tr style=\"text-align: right;\">\n",
       "      <th></th>\n",
       "      <th>age</th>\n",
       "      <th>gender</th>\n",
       "      <th>education</th>\n",
       "      <th>class</th>\n",
       "      <th>marital_status</th>\n",
       "      <th>race</th>\n",
       "      <th>is_hispanic</th>\n",
       "      <th>employment_commitment</th>\n",
       "      <th>employment_stat</th>\n",
       "      <th>wage_per_hour</th>\n",
       "      <th>...</th>\n",
       "      <th>industry_code_main</th>\n",
       "      <th>occupation_code_main</th>\n",
       "      <th>household_summary</th>\n",
       "      <th>vet_benefit</th>\n",
       "      <th>tax_status</th>\n",
       "      <th>citizenship</th>\n",
       "      <th>income_above_limit</th>\n",
       "      <th>investments</th>\n",
       "      <th>labels</th>\n",
       "      <th>cnt</th>\n",
       "    </tr>\n",
       "  </thead>\n",
       "  <tbody>\n",
       "    <tr>\n",
       "      <th>0</th>\n",
       "      <td>63+</td>\n",
       "      <td>Female</td>\n",
       "      <td>highschool</td>\n",
       "      <td>NA</td>\n",
       "      <td>Widowed</td>\n",
       "      <td>White</td>\n",
       "      <td>No</td>\n",
       "      <td>Unemployed</td>\n",
       "      <td>0</td>\n",
       "      <td>0_10</td>\n",
       "      <td>...</td>\n",
       "      <td>Not in universe or children</td>\n",
       "      <td>NA</td>\n",
       "      <td>Householder</td>\n",
       "      <td>2</td>\n",
       "      <td>Head of household</td>\n",
       "      <td>Native</td>\n",
       "      <td>Below limit</td>\n",
       "      <td>True</td>\n",
       "      <td>3</td>\n",
       "      <td>1</td>\n",
       "    </tr>\n",
       "    <tr>\n",
       "      <th>1</th>\n",
       "      <td>63+</td>\n",
       "      <td>Female</td>\n",
       "      <td>highschool</td>\n",
       "      <td>NA</td>\n",
       "      <td>Widowed</td>\n",
       "      <td>White</td>\n",
       "      <td>No</td>\n",
       "      <td>Children or Armed Forces</td>\n",
       "      <td>0</td>\n",
       "      <td>0_10</td>\n",
       "      <td>...</td>\n",
       "      <td>Not in universe or children</td>\n",
       "      <td>NA</td>\n",
       "      <td>Householder</td>\n",
       "      <td>2</td>\n",
       "      <td>Single</td>\n",
       "      <td>Native</td>\n",
       "      <td>Below limit</td>\n",
       "      <td>False</td>\n",
       "      <td>3</td>\n",
       "      <td>1</td>\n",
       "    </tr>\n",
       "    <tr>\n",
       "      <th>2</th>\n",
       "      <td>18_24</td>\n",
       "      <td>Male</td>\n",
       "      <td>no_highschool</td>\n",
       "      <td>Federal government</td>\n",
       "      <td>Never married</td>\n",
       "      <td>Black</td>\n",
       "      <td>No</td>\n",
       "      <td>Children or Armed Forces</td>\n",
       "      <td>0</td>\n",
       "      <td>101_500</td>\n",
       "      <td>...</td>\n",
       "      <td>Hospital services</td>\n",
       "      <td>Adm support including clerical</td>\n",
       "      <td>Child 18 or older</td>\n",
       "      <td>2</td>\n",
       "      <td>Single</td>\n",
       "      <td>Native</td>\n",
       "      <td>Below limit</td>\n",
       "      <td>False</td>\n",
       "      <td>1</td>\n",
       "      <td>1</td>\n",
       "    </tr>\n",
       "    <tr>\n",
       "      <th>4</th>\n",
       "      <td>63+</td>\n",
       "      <td>Male</td>\n",
       "      <td>highschool</td>\n",
       "      <td>NA</td>\n",
       "      <td>Married-civilian spouse present</td>\n",
       "      <td>White</td>\n",
       "      <td>No</td>\n",
       "      <td>Unemployed</td>\n",
       "      <td>0</td>\n",
       "      <td>0_10</td>\n",
       "      <td>...</td>\n",
       "      <td>Not in universe or children</td>\n",
       "      <td>NA</td>\n",
       "      <td>Spouse of householder</td>\n",
       "      <td>2</td>\n",
       "      <td>Joint both 65+</td>\n",
       "      <td>Native</td>\n",
       "      <td>Below limit</td>\n",
       "      <td>False</td>\n",
       "      <td>3</td>\n",
       "      <td>1</td>\n",
       "    </tr>\n",
       "    <tr>\n",
       "      <th>5</th>\n",
       "      <td>33_45</td>\n",
       "      <td>Male</td>\n",
       "      <td>bachelors</td>\n",
       "      <td>Private</td>\n",
       "      <td>Married-civilian spouse present</td>\n",
       "      <td>Asian or Pacific Islander</td>\n",
       "      <td>No</td>\n",
       "      <td>Children or Armed Forces</td>\n",
       "      <td>0</td>\n",
       "      <td>501_1000</td>\n",
       "      <td>...</td>\n",
       "      <td>Retail trade</td>\n",
       "      <td>Other service</td>\n",
       "      <td>Householder</td>\n",
       "      <td>2</td>\n",
       "      <td>Joint both under 65</td>\n",
       "      <td>Foreign born- Not a citizen of U S</td>\n",
       "      <td>Below limit</td>\n",
       "      <td>False</td>\n",
       "      <td>1</td>\n",
       "      <td>1</td>\n",
       "    </tr>\n",
       "  </tbody>\n",
       "</table>\n",
       "<p>5 rows × 21 columns</p>\n",
       "</div>"
      ],
      "text/plain": [
       "     age   gender      education                class  \\\n",
       "0    63+   Female     highschool                   NA   \n",
       "1    63+   Female     highschool                   NA   \n",
       "2  18_24     Male  no_highschool   Federal government   \n",
       "4    63+     Male     highschool                   NA   \n",
       "5  33_45     Male      bachelors              Private   \n",
       "\n",
       "                     marital_status                        race is_hispanic  \\\n",
       "0                           Widowed                       White          No   \n",
       "1                           Widowed                       White          No   \n",
       "2                     Never married                       Black          No   \n",
       "4   Married-civilian spouse present                       White          No   \n",
       "5   Married-civilian spouse present   Asian or Pacific Islander          No   \n",
       "\n",
       "       employment_commitment employment_stat wage_per_hour  ...  \\\n",
       "0                 Unemployed               0          0_10  ...   \n",
       "1   Children or Armed Forces               0          0_10  ...   \n",
       "2   Children or Armed Forces               0       101_500  ...   \n",
       "4                 Unemployed               0          0_10  ...   \n",
       "5   Children or Armed Forces               0      501_1000  ...   \n",
       "\n",
       "             industry_code_main             occupation_code_main  \\\n",
       "0   Not in universe or children                               NA   \n",
       "1   Not in universe or children                               NA   \n",
       "2             Hospital services   Adm support including clerical   \n",
       "4   Not in universe or children                               NA   \n",
       "5                  Retail trade                    Other service   \n",
       "\n",
       "        household_summary vet_benefit            tax_status  \\\n",
       "0             Householder           2     Head of household   \n",
       "1             Householder           2                Single   \n",
       "2       Child 18 or older           2                Single   \n",
       "4   Spouse of householder           2        Joint both 65+   \n",
       "5             Householder           2   Joint both under 65   \n",
       "\n",
       "                            citizenship income_above_limit investments  \\\n",
       "0                                Native        Below limit        True   \n",
       "1                                Native        Below limit       False   \n",
       "2                                Native        Below limit       False   \n",
       "4                                Native        Below limit       False   \n",
       "5   Foreign born- Not a citizen of U S         Below limit       False   \n",
       "\n",
       "   labels  cnt  \n",
       "0       3    1  \n",
       "1       3    1  \n",
       "2       1    1  \n",
       "4       3    1  \n",
       "5       1    1  \n",
       "\n",
       "[5 rows x 21 columns]"
      ]
     },
     "execution_count": 68,
     "metadata": {},
     "output_type": "execute_result"
    }
   ],
   "source": [
    "d2.head()"
   ]
  },
  {
   "cell_type": "code",
   "execution_count": 54,
   "id": "bc9de53c-1253-4b82-bf25-efefd1b38e42",
   "metadata": {},
   "outputs": [],
   "source": [
    "cluster1 = d2[d2['labels']==0]\n",
    "cluster2 = d2[d2['labels']==1]\n",
    "cluster3 = d2[d2['labels']==2]\n",
    "cluster4 = d2[d2['labels']==3]"
   ]
  },
  {
   "cell_type": "code",
   "execution_count": 75,
   "id": "bed8d6cc-fca2-4366-a519-243e54b0ae09",
   "metadata": {},
   "outputs": [
    {
     "data": {
      "text/html": [
       "<div>\n",
       "<style scoped>\n",
       "    .dataframe tbody tr th:only-of-type {\n",
       "        vertical-align: middle;\n",
       "    }\n",
       "\n",
       "    .dataframe tbody tr th {\n",
       "        vertical-align: top;\n",
       "    }\n",
       "\n",
       "    .dataframe thead tr th {\n",
       "        text-align: left;\n",
       "    }\n",
       "\n",
       "    .dataframe thead tr:last-of-type th {\n",
       "        text-align: right;\n",
       "    }\n",
       "</style>\n",
       "<table border=\"1\" class=\"dataframe\">\n",
       "  <thead>\n",
       "    <tr>\n",
       "      <th></th>\n",
       "      <th colspan=\"4\" halign=\"left\">cnt</th>\n",
       "    </tr>\n",
       "    <tr>\n",
       "      <th>labels</th>\n",
       "      <th>0</th>\n",
       "      <th>1</th>\n",
       "      <th>2</th>\n",
       "      <th>3</th>\n",
       "    </tr>\n",
       "    <tr>\n",
       "      <th>race</th>\n",
       "      <th></th>\n",
       "      <th></th>\n",
       "      <th></th>\n",
       "      <th></th>\n",
       "    </tr>\n",
       "  </thead>\n",
       "  <tbody>\n",
       "    <tr>\n",
       "      <th>Amer Indian Aleut or Eskimo</th>\n",
       "      <td>0.855946</td>\n",
       "      <td>0.991512</td>\n",
       "      <td>1.127461</td>\n",
       "      <td>1.039054</td>\n",
       "    </tr>\n",
       "    <tr>\n",
       "      <th>Asian or Pacific Islander</th>\n",
       "      <td>3.159716</td>\n",
       "      <td>2.807233</td>\n",
       "      <td>2.117298</td>\n",
       "      <td>2.809451</td>\n",
       "    </tr>\n",
       "    <tr>\n",
       "      <th>Black</th>\n",
       "      <td>9.080769</td>\n",
       "      <td>8.734162</td>\n",
       "      <td>6.828287</td>\n",
       "      <td>10.731975</td>\n",
       "    </tr>\n",
       "    <tr>\n",
       "      <th>Other</th>\n",
       "      <td>1.593517</td>\n",
       "      <td>1.572149</td>\n",
       "      <td>1.365657</td>\n",
       "      <td>1.494299</td>\n",
       "    </tr>\n",
       "    <tr>\n",
       "      <th>White</th>\n",
       "      <td>85.310053</td>\n",
       "      <td>85.894944</td>\n",
       "      <td>88.561296</td>\n",
       "      <td>83.925222</td>\n",
       "    </tr>\n",
       "  </tbody>\n",
       "</table>\n",
       "</div>"
      ],
      "text/plain": [
       "                                    cnt                                 \n",
       "labels                                0          1          2          3\n",
       "race                                                                    \n",
       " Amer Indian Aleut or Eskimo   0.855946   0.991512   1.127461   1.039054\n",
       " Asian or Pacific Islander     3.159716   2.807233   2.117298   2.809451\n",
       " Black                         9.080769   8.734162   6.828287  10.731975\n",
       " Other                         1.593517   1.572149   1.365657   1.494299\n",
       " White                        85.310053  85.894944  88.561296  83.925222"
      ]
     },
     "execution_count": 75,
     "metadata": {},
     "output_type": "execute_result"
    }
   ],
   "source": [
    "pd.pivot_table(d2, values = ['cnt'], index=['race'],\n",
    "                       columns=['labels'], aggfunc=\"sum\").apply(lambda x: x*100/sum(x))"
   ]
  },
  {
   "cell_type": "code",
   "execution_count": 77,
   "id": "24beb82b-0e96-4cbc-b894-d1442f13fcb6",
   "metadata": {},
   "outputs": [
    {
     "data": {
      "text/html": [
       "<div>\n",
       "<style scoped>\n",
       "    .dataframe tbody tr th:only-of-type {\n",
       "        vertical-align: middle;\n",
       "    }\n",
       "\n",
       "    .dataframe tbody tr th {\n",
       "        vertical-align: top;\n",
       "    }\n",
       "\n",
       "    .dataframe thead tr th {\n",
       "        text-align: left;\n",
       "    }\n",
       "\n",
       "    .dataframe thead tr:last-of-type th {\n",
       "        text-align: right;\n",
       "    }\n",
       "</style>\n",
       "<table border=\"1\" class=\"dataframe\">\n",
       "  <thead>\n",
       "    <tr>\n",
       "      <th></th>\n",
       "      <th colspan=\"4\" halign=\"left\">cnt</th>\n",
       "    </tr>\n",
       "    <tr>\n",
       "      <th>labels</th>\n",
       "      <th>0</th>\n",
       "      <th>1</th>\n",
       "      <th>2</th>\n",
       "      <th>3</th>\n",
       "    </tr>\n",
       "    <tr>\n",
       "      <th>education</th>\n",
       "      <th></th>\n",
       "      <th></th>\n",
       "      <th></th>\n",
       "      <th></th>\n",
       "    </tr>\n",
       "  </thead>\n",
       "  <tbody>\n",
       "    <tr>\n",
       "      <th>assc_acad</th>\n",
       "      <td>3.899563</td>\n",
       "      <td>3.026202</td>\n",
       "      <td>3.678806</td>\n",
       "      <td>1.804118</td>\n",
       "    </tr>\n",
       "    <tr>\n",
       "      <th>assc_voc</th>\n",
       "      <td>4.609816</td>\n",
       "      <td>4.047238</td>\n",
       "      <td>4.663350</td>\n",
       "      <td>2.316269</td>\n",
       "    </tr>\n",
       "    <tr>\n",
       "      <th>bachelors</th>\n",
       "      <td>15.853214</td>\n",
       "      <td>16.498954</td>\n",
       "      <td>18.563413</td>\n",
       "      <td>8.008936</td>\n",
       "    </tr>\n",
       "    <tr>\n",
       "      <th>doctorate</th>\n",
       "      <td>2.030596</td>\n",
       "      <td>3.166441</td>\n",
       "      <td>2.858353</td>\n",
       "      <td>0.950534</td>\n",
       "    </tr>\n",
       "    <tr>\n",
       "      <th>highschool</th>\n",
       "      <td>36.762429</td>\n",
       "      <td>34.503629</td>\n",
       "      <td>29.075799</td>\n",
       "      <td>31.363416</td>\n",
       "    </tr>\n",
       "    <tr>\n",
       "      <th>masters</th>\n",
       "      <td>5.413404</td>\n",
       "      <td>5.405339</td>\n",
       "      <td>6.050180</td>\n",
       "      <td>2.409004</td>\n",
       "    </tr>\n",
       "    <tr>\n",
       "      <th>no_highschool</th>\n",
       "      <td>10.553633</td>\n",
       "      <td>14.360930</td>\n",
       "      <td>9.623121</td>\n",
       "      <td>37.155142</td>\n",
       "    </tr>\n",
       "    <tr>\n",
       "      <th>somecollege</th>\n",
       "      <td>20.877345</td>\n",
       "      <td>18.991266</td>\n",
       "      <td>25.486979</td>\n",
       "      <td>15.992581</td>\n",
       "    </tr>\n",
       "  </tbody>\n",
       "</table>\n",
       "</div>"
      ],
      "text/plain": [
       "                     cnt                                 \n",
       "labels                 0          1          2          3\n",
       "education                                                \n",
       "assc_acad       3.899563   3.026202   3.678806   1.804118\n",
       "assc_voc        4.609816   4.047238   4.663350   2.316269\n",
       "bachelors      15.853214  16.498954  18.563413   8.008936\n",
       "doctorate       2.030596   3.166441   2.858353   0.950534\n",
       "highschool     36.762429  34.503629  29.075799  31.363416\n",
       "masters         5.413404   5.405339   6.050180   2.409004\n",
       "no_highschool  10.553633  14.360930   9.623121  37.155142\n",
       "somecollege    20.877345  18.991266  25.486979  15.992581"
      ]
     },
     "execution_count": 77,
     "metadata": {},
     "output_type": "execute_result"
    }
   ],
   "source": [
    "pd.pivot_table(d2, values = ['cnt'], index=['education'],\n",
    "                       columns=['labels'], aggfunc=\"sum\").apply(lambda x: x*100/sum(x))"
   ]
  },
  {
   "cell_type": "code",
   "execution_count": 78,
   "id": "8bc763ea-b8b8-4c31-a508-9e94ef5f4f88",
   "metadata": {},
   "outputs": [
    {
     "data": {
      "text/html": [
       "<div>\n",
       "<style scoped>\n",
       "    .dataframe tbody tr th:only-of-type {\n",
       "        vertical-align: middle;\n",
       "    }\n",
       "\n",
       "    .dataframe tbody tr th {\n",
       "        vertical-align: top;\n",
       "    }\n",
       "\n",
       "    .dataframe thead tr th {\n",
       "        text-align: left;\n",
       "    }\n",
       "\n",
       "    .dataframe thead tr:last-of-type th {\n",
       "        text-align: right;\n",
       "    }\n",
       "</style>\n",
       "<table border=\"1\" class=\"dataframe\">\n",
       "  <thead>\n",
       "    <tr>\n",
       "      <th></th>\n",
       "      <th colspan=\"4\" halign=\"left\">cnt</th>\n",
       "    </tr>\n",
       "    <tr>\n",
       "      <th>labels</th>\n",
       "      <th>0</th>\n",
       "      <th>1</th>\n",
       "      <th>2</th>\n",
       "      <th>3</th>\n",
       "    </tr>\n",
       "    <tr>\n",
       "      <th>employment_commitment</th>\n",
       "      <th></th>\n",
       "      <th></th>\n",
       "      <th></th>\n",
       "      <th></th>\n",
       "    </tr>\n",
       "  </thead>\n",
       "  <tbody>\n",
       "    <tr>\n",
       "      <th>Children or Armed Forces</th>\n",
       "      <td>38.264888</td>\n",
       "      <td>65.862960</td>\n",
       "      <td>49.311878</td>\n",
       "      <td>48.055725</td>\n",
       "    </tr>\n",
       "    <tr>\n",
       "      <th>Full-time schedules</th>\n",
       "      <td>53.448825</td>\n",
       "      <td>26.089310</td>\n",
       "      <td>39.831675</td>\n",
       "      <td>0.434169</td>\n",
       "    </tr>\n",
       "    <tr>\n",
       "      <th>Part-time employed</th>\n",
       "      <td>5.677472</td>\n",
       "      <td>5.247878</td>\n",
       "      <td>5.928435</td>\n",
       "      <td>0.322465</td>\n",
       "    </tr>\n",
       "    <tr>\n",
       "      <th>Unemployed</th>\n",
       "      <td>2.608814</td>\n",
       "      <td>2.799852</td>\n",
       "      <td>4.928012</td>\n",
       "      <td>51.187641</td>\n",
       "    </tr>\n",
       "  </tbody>\n",
       "</table>\n",
       "</div>"
      ],
      "text/plain": [
       "                                 cnt                                 \n",
       "labels                             0          1          2          3\n",
       "employment_commitment                                                \n",
       " Children or Armed Forces  38.264888  65.862960  49.311878  48.055725\n",
       " Full-time schedules       53.448825  26.089310  39.831675   0.434169\n",
       "Part-time employed          5.677472   5.247878   5.928435   0.322465\n",
       "Unemployed                  2.608814   2.799852   4.928012  51.187641"
      ]
     },
     "execution_count": 78,
     "metadata": {},
     "output_type": "execute_result"
    }
   ],
   "source": [
    "pd.pivot_table(d2, values = ['cnt'], index=['employment_commitment'],\n",
    "                       columns=['labels'], aggfunc=\"sum\").apply(lambda x: x*100/sum(x))"
   ]
  },
  {
   "cell_type": "code",
   "execution_count": 79,
   "id": "2503657d-c807-45b6-8a26-2cd66423b42e",
   "metadata": {},
   "outputs": [
    {
     "data": {
      "text/html": [
       "<div>\n",
       "<style scoped>\n",
       "    .dataframe tbody tr th:only-of-type {\n",
       "        vertical-align: middle;\n",
       "    }\n",
       "\n",
       "    .dataframe tbody tr th {\n",
       "        vertical-align: top;\n",
       "    }\n",
       "\n",
       "    .dataframe thead tr th {\n",
       "        text-align: left;\n",
       "    }\n",
       "\n",
       "    .dataframe thead tr:last-of-type th {\n",
       "        text-align: right;\n",
       "    }\n",
       "</style>\n",
       "<table border=\"1\" class=\"dataframe\">\n",
       "  <thead>\n",
       "    <tr>\n",
       "      <th></th>\n",
       "      <th colspan=\"4\" halign=\"left\">cnt</th>\n",
       "    </tr>\n",
       "    <tr>\n",
       "      <th>labels</th>\n",
       "      <th>0</th>\n",
       "      <th>1</th>\n",
       "      <th>2</th>\n",
       "      <th>3</th>\n",
       "    </tr>\n",
       "    <tr>\n",
       "      <th>investments</th>\n",
       "      <th></th>\n",
       "      <th></th>\n",
       "      <th></th>\n",
       "      <th></th>\n",
       "    </tr>\n",
       "  </thead>\n",
       "  <tbody>\n",
       "    <tr>\n",
       "      <th>False</th>\n",
       "      <td>80.836824</td>\n",
       "      <td>74.540534</td>\n",
       "      <td>79.345755</td>\n",
       "      <td>83.640694</td>\n",
       "    </tr>\n",
       "    <tr>\n",
       "      <th>True</th>\n",
       "      <td>19.163176</td>\n",
       "      <td>25.459466</td>\n",
       "      <td>20.654245</td>\n",
       "      <td>16.359306</td>\n",
       "    </tr>\n",
       "  </tbody>\n",
       "</table>\n",
       "</div>"
      ],
      "text/plain": [
       "                   cnt                                 \n",
       "labels               0          1          2          3\n",
       "investments                                            \n",
       "False        80.836824  74.540534  79.345755  83.640694\n",
       "True         19.163176  25.459466  20.654245  16.359306"
      ]
     },
     "execution_count": 79,
     "metadata": {},
     "output_type": "execute_result"
    }
   ],
   "source": [
    "pd.pivot_table(d2, values = ['cnt'], index=['investments'],\n",
    "                       columns=['labels'], aggfunc=\"sum\").apply(lambda x: x*100/sum(x))"
   ]
  },
  {
   "cell_type": "code",
   "execution_count": 80,
   "id": "40a15550-7449-4950-8f00-e5feea93f52a",
   "metadata": {},
   "outputs": [
    {
     "data": {
      "text/html": [
       "<div>\n",
       "<style scoped>\n",
       "    .dataframe tbody tr th:only-of-type {\n",
       "        vertical-align: middle;\n",
       "    }\n",
       "\n",
       "    .dataframe tbody tr th {\n",
       "        vertical-align: top;\n",
       "    }\n",
       "\n",
       "    .dataframe thead tr th {\n",
       "        text-align: left;\n",
       "    }\n",
       "\n",
       "    .dataframe thead tr:last-of-type th {\n",
       "        text-align: right;\n",
       "    }\n",
       "</style>\n",
       "<table border=\"1\" class=\"dataframe\">\n",
       "  <thead>\n",
       "    <tr>\n",
       "      <th></th>\n",
       "      <th colspan=\"4\" halign=\"left\">cnt</th>\n",
       "    </tr>\n",
       "    <tr>\n",
       "      <th>labels</th>\n",
       "      <th>0</th>\n",
       "      <th>1</th>\n",
       "      <th>2</th>\n",
       "      <th>3</th>\n",
       "    </tr>\n",
       "    <tr>\n",
       "      <th>wage_per_hour</th>\n",
       "      <th></th>\n",
       "      <th></th>\n",
       "      <th></th>\n",
       "      <th></th>\n",
       "    </tr>\n",
       "  </thead>\n",
       "  <tbody>\n",
       "    <tr>\n",
       "      <th>0_10</th>\n",
       "      <td>88.483427</td>\n",
       "      <td>89.924960</td>\n",
       "      <td>NaN</td>\n",
       "      <td>NaN</td>\n",
       "    </tr>\n",
       "    <tr>\n",
       "      <th>1000+</th>\n",
       "      <td>3.159716</td>\n",
       "      <td>4.837003</td>\n",
       "      <td>NaN</td>\n",
       "      <td>NaN</td>\n",
       "    </tr>\n",
       "    <tr>\n",
       "      <th>101_500</th>\n",
       "      <td>2.035148</td>\n",
       "      <td>1.045639</td>\n",
       "      <td>NaN</td>\n",
       "      <td>NaN</td>\n",
       "    </tr>\n",
       "    <tr>\n",
       "      <th>501_1000</th>\n",
       "      <td>6.308050</td>\n",
       "      <td>4.180096</td>\n",
       "      <td>NaN</td>\n",
       "      <td>NaN</td>\n",
       "    </tr>\n",
       "    <tr>\n",
       "      <th>51-100</th>\n",
       "      <td>0.013659</td>\n",
       "      <td>0.012302</td>\n",
       "      <td>NaN</td>\n",
       "      <td>NaN</td>\n",
       "    </tr>\n",
       "  </tbody>\n",
       "</table>\n",
       "</div>"
      ],
      "text/plain": [
       "                     cnt                   \n",
       "labels                 0          1   2   3\n",
       "wage_per_hour                              \n",
       "0_10           88.483427  89.924960 NaN NaN\n",
       "1000+           3.159716   4.837003 NaN NaN\n",
       "101_500         2.035148   1.045639 NaN NaN\n",
       "501_1000        6.308050   4.180096 NaN NaN\n",
       "51-100          0.013659   0.012302 NaN NaN"
      ]
     },
     "execution_count": 80,
     "metadata": {},
     "output_type": "execute_result"
    }
   ],
   "source": [
    "pd.pivot_table(d2, values = ['cnt'], index=['wage_per_hour'],\n",
    "                       columns=['labels'], aggfunc=\"sum\").apply(lambda x: x*100/sum(x))"
   ]
  },
  {
   "cell_type": "code",
   "execution_count": null,
   "id": "3a1d6bd6-d191-431f-8f66-ab7fdc262277",
   "metadata": {},
   "outputs": [],
   "source": []
  },
  {
   "cell_type": "code",
   "execution_count": null,
   "id": "b678a752-e1b6-4a91-bff4-abd684eccf14",
   "metadata": {},
   "outputs": [],
   "source": []
  },
  {
   "cell_type": "markdown",
   "source": [
    "## My try"
   ],
   "metadata": {
    "collapsed": false
   },
   "id": "40d6304bb0bbd865"
  },
  {
   "cell_type": "code",
   "execution_count": 16,
   "outputs": [],
   "source": [
    "from kmodes.kmodes import KModes"
   ],
   "metadata": {
    "collapsed": false,
    "ExecuteTime": {
     "end_time": "2024-02-24T04:49:44.828583Z",
     "start_time": "2024-02-24T04:49:44.771309Z"
    }
   },
   "id": "f11ac122ad7b9859"
  },
  {
   "cell_type": "code",
   "execution_count": 11,
   "outputs": [],
   "source": [
    "dt = data.drop('income_above_limit', axis=1)\n",
    "dt.vet_benefit=dt.vet_benefit.astype('str')\n",
    "dt.employment_stat=dt.employment_stat.astype('str')"
   ],
   "metadata": {
    "collapsed": false,
    "ExecuteTime": {
     "end_time": "2024-02-24T04:45:53.257880Z",
     "start_time": "2024-02-24T04:45:53.169130Z"
    }
   },
   "id": "1bb47716b18bc778"
  },
  {
   "cell_type": "code",
   "execution_count": 21,
   "outputs": [
    {
     "name": "stdout",
     "output_type": "stream",
     "text": [
      "1\\.cluster start\n",
      "Best run was number 1\n",
      "2\\.cluster start\n",
      "Best run was number 5\n",
      "3\\.cluster start\n",
      "Init: initializing centroids\n",
      "Init: initializing clusters\n",
      "Starting iterations...\n",
      "Run 7, iteration: 1/100, moves: 0, cost: 1045860.0\n",
      "Init: initializing centroids\n",
      "Init: initializing clusters\n",
      "Starting iterations...\n",
      "Run 7, iteration: 1/100, moves: 17404, cost: 976720.0\n",
      "Init: initializing centroids\n",
      "Init: initializing clusters\n",
      "Starting iterations...\n",
      "Run 10, iteration: 1/100, moves: 0, cost: 1045860.0\n",
      "Init: initializing centroids\n",
      "Init: initializing clusters\n",
      "Starting iterations...\n",
      "Run 3, iteration: 1/100, moves: 22825, cost: 969528.0\n",
      "Run 3, iteration: 2/100, moves: 3141, cost: 969528.0\n",
      "Best run was number 7\n",
      "4\\.cluster start\n",
      "Best run was number 5\n",
      "5\\.cluster start\n",
      "Best run was number 3\n",
      "6\\.cluster start\n",
      "Best run was number 1\n",
      "7\\.cluster start\n",
      "Best run was number 7\n"
     ]
    }
   ],
   "source": [
    "cost = []\n",
    "for cluster in range(1,8):\n",
    "    print('{cluster}\\\\.cluster start'.format(cluster=cluster))\n",
    "    kproto = KModes(n_clusters = cluster, init='Huang',n_jobs=-1,n_init=10,verbose=1)\n",
    "    kproto.fit(dt)\n",
    "    cost.append(kproto.cost_)"
   ],
   "metadata": {
    "collapsed": false,
    "ExecuteTime": {
     "end_time": "2024-02-24T05:42:31.062847Z",
     "start_time": "2024-02-24T05:03:58.074100Z"
    }
   },
   "id": "c2fdd93a3f1286df"
  },
  {
   "cell_type": "code",
   "execution_count": 22,
   "outputs": [
    {
     "data": {
      "text/plain": "<Figure size 640x480 with 1 Axes>",
      "image/png": "[encoded data removed]"
     },
     "metadata": {},
     "output_type": "display_data"
    }
   ],
   "source": [
    "plt.plot(range(1,len(cost)+1),cost)\n",
    "plt.xlabel('Cluster')\n",
    "plt.ylabel('Cost')\n",
    "plt.show()"
   ],
   "metadata": {
    "collapsed": false,
    "ExecuteTime": {
     "end_time": "2024-02-24T05:42:31.337659Z",
     "start_time": "2024-02-24T05:42:31.060672Z"
    }
   },
   "id": "4ce4472175b6bd33"
  },
  {
   "cell_type": "code",
   "execution_count": 23,
   "outputs": [
    {
     "name": "stdout",
     "output_type": "stream",
     "text": [
      "Best run was number 7\n"
     ]
    },
    {
     "data": {
      "text/plain": "KModes(init='Huang', n_clusters=4, n_jobs=-1, verbose=1)",
      "text/html": "<style>#sk-container-id-1 {\n  /* Definition of color scheme common for light and dark mode */\n  --sklearn-color-text: black;\n  --sklearn-color-line: gray;\n  /* Definition of color scheme for unfitted estimators */\n  --sklearn-color-unfitted-level-0: #fff5e6;\n  --sklearn-color-unfitted-level-1: #f6e4d2;\n  --sklearn-color-unfitted-level-2: #ffe0b3;\n  --sklearn-color-unfitted-level-3: chocolate;\n  /* Definition of color scheme for fitted estimators */\n  --sklearn-color-fitted-level-0: #f0f8ff;\n  --sklearn-color-fitted-level-1: #d4ebff;\n  --sklearn-color-fitted-level-2: #b3dbfd;\n  --sklearn-color-fitted-level-3: cornflowerblue;\n\n  /* Specific color for light theme */\n  --sklearn-color-text-on-default-background: var(--sg-text-color, var(--theme-code-foreground, var(--jp-content-font-color1, black)));\n  --sklearn-color-background: var(--sg-background-color, var(--theme-background, var(--jp-layout-color0, white)));\n  --sklearn-color-border-box: var(--sg-text-color, var(--theme-code-foreground, var(--jp-content-font-color1, black)));\n  --sklearn-color-icon: #696969;\n\n  @media (prefers-color-scheme: dark) {\n    /* Redefinition of color scheme for dark theme */\n    --sklearn-color-text-on-default-background: var(--sg-text-color, var(--theme-code-foreground, var(--jp-content-font-color1, white)));\n    --sklearn-color-background: var(--sg-background-color, var(--theme-background, var(--jp-layout-color0, #111)));\n    --sklearn-color-border-box: var(--sg-text-color, var(--theme-code-foreground, var(--jp-content-font-color1, white)));\n    --sklearn-color-icon: #878787;\n  }\n}\n\n#sk-container-id-1 {\n  color: var(--sklearn-color-text);\n}\n\n#sk-container-id-1 pre {\n  padding: 0;\n}\n\n#sk-container-id-1 input.sk-hidden--visually {\n  border: 0;\n  clip: rect(1px 1px 1px 1px);\n  clip: rect(1px, 1px, 1px, 1px);\n  height: 1px;\n  margin: -1px;\n  overflow: hidden;\n  padding: 0;\n  position: absolute;\n  width: 1px;\n}\n\n#sk-container-id-1 div.sk-dashed-wrapped {\n  border: 1px dashed var(--sklearn-color-line);\n  margin: 0 0.4em 0.5em 0.4em;\n  box-sizing: border-box;\n  padding-bottom: 0.4em;\n  background-color: var(--sklearn-color-background);\n}\n\n#sk-container-id-1 div.sk-container {\n  /* jupyter's `normalize.less` sets `[hidden] { display: none; }`\n     but bootstrap.min.css set `[hidden] { display: none !important; }`\n     so we also need the `!important` here to be able to override the\n     default hidden behavior on the sphinx rendered scikit-learn.org.\n     See: https://github.com/scikit-learn/scikit-learn/issues/21755 */\n  display: inline-block !important;\n  position: relative;\n}\n\n#sk-container-id-1 div.sk-text-repr-fallback {\n  display: none;\n}\n\ndiv.sk-parallel-item,\ndiv.sk-serial,\ndiv.sk-item {\n  /* draw centered vertical line to link estimators */\n  background-image: linear-gradient(var(--sklearn-color-text-on-default-background), var(--sklearn-color-text-on-default-background));\n  background-size: 2px 100%;\n  background-repeat: no-repeat;\n  background-position: center center;\n}\n\n/* Parallel-specific style estimator block */\n\n#sk-container-id-1 div.sk-parallel-item::after {\n  content: \"\";\n  width: 100%;\n  border-bottom: 2px solid var(--sklearn-color-text-on-default-background);\n  flex-grow: 1;\n}\n\n#sk-container-id-1 div.sk-parallel {\n  display: flex;\n  align-items: stretch;\n  justify-content: center;\n  background-color: var(--sklearn-color-background);\n  position: relative;\n}\n\n#sk-container-id-1 div.sk-parallel-item {\n  display: flex;\n  flex-direction: column;\n}\n\n#sk-container-id-1 div.sk-parallel-item:first-child::after {\n  align-self: flex-end;\n  width: 50%;\n}\n\n#sk-container-id-1 div.sk-parallel-item:last-child::after {\n  align-self: flex-start;\n  width: 50%;\n}\n\n#sk-container-id-1 div.sk-parallel-item:only-child::after {\n  width: 0;\n}\n\n/* Serial-specific style estimator block */\n\n#sk-container-id-1 div.sk-serial {\n  display: flex;\n  flex-direction: column;\n  align-items: center;\n  background-color: var(--sklearn-color-background);\n  padding-right: 1em;\n  padding-left: 1em;\n}\n\n\n/* Toggleable style: style used for estimator/Pipeline/ColumnTransformer box that is\nclickable and can be expanded/collapsed.\n- Pipeline and ColumnTransformer use this feature and define the default style\n- Estimators will overwrite some part of the style using the `sk-estimator` class\n*/\n\n/* Pipeline and ColumnTransformer style (default) */\n\n#sk-container-id-1 div.sk-toggleable {\n  /* Default theme specific background. It is overwritten whether we have a\n  specific estimator or a Pipeline/ColumnTransformer */\n  background-color: var(--sklearn-color-background);\n}\n\n/* Toggleable label */\n#sk-container-id-1 label.sk-toggleable__label {\n  cursor: pointer;\n  display: block;\n  width: 100%;\n  margin-bottom: 0;\n  padding: 0.5em;\n  box-sizing: border-box;\n  text-align: center;\n}\n\n#sk-container-id-1 label.sk-toggleable__label-arrow:before {\n  /* Arrow on the left of the label */\n  content: \"▸\";\n  float: left;\n  margin-right: 0.25em;\n  color: var(--sklearn-color-icon);\n}\n\n#sk-container-id-1 label.sk-toggleable__label-arrow:hover:before {\n  color: var(--sklearn-color-text);\n}\n\n/* Toggleable content - dropdown */\n\n#sk-container-id-1 div.sk-toggleable__content {\n  max-height: 0;\n  max-width: 0;\n  overflow: hidden;\n  text-align: left;\n  /* unfitted */\n  background-color: var(--sklearn-color-unfitted-level-0);\n}\n\n#sk-container-id-1 div.sk-toggleable__content.fitted {\n  /* fitted */\n  background-color: var(--sklearn-color-fitted-level-0);\n}\n\n#sk-container-id-1 div.sk-toggleable__content pre {\n  margin: 0.2em;\n  border-radius: 0.25em;\n  color: var(--sklearn-color-text);\n  /* unfitted */\n  background-color: var(--sklearn-color-unfitted-level-0);\n}\n\n#sk-container-id-1 div.sk-toggleable__content.fitted pre {\n  /* unfitted */\n  background-color: var(--sklearn-color-fitted-level-0);\n}\n\n#sk-container-id-1 input.sk-toggleable__control:checked~div.sk-toggleable__content {\n  /* Expand drop-down */\n  max-height: 200px;\n  max-width: 100%;\n  overflow: auto;\n}\n\n#sk-container-id-1 input.sk-toggleable__control:checked~label.sk-toggleable__label-arrow:before {\n  content: \"▾\";\n}\n\n/* Pipeline/ColumnTransformer-specific style */\n\n#sk-container-id-1 div.sk-label input.sk-toggleable__control:checked~label.sk-toggleable__label {\n  color: var(--sklearn-color-text);\n  background-color: var(--sklearn-color-unfitted-level-2);\n}\n\n#sk-container-id-1 div.sk-label.fitted input.sk-toggleable__control:checked~label.sk-toggleable__label {\n  background-color: var(--sklearn-color-fitted-level-2);\n}\n\n/* Estimator-specific style */\n\n/* Colorize estimator box */\n#sk-container-id-1 div.sk-estimator input.sk-toggleable__control:checked~label.sk-toggleable__label {\n  /* unfitted */\n  background-color: var(--sklearn-color-unfitted-level-2);\n}\n\n#sk-container-id-1 div.sk-estimator.fitted input.sk-toggleable__control:checked~label.sk-toggleable__label {\n  /* fitted */\n  background-color: var(--sklearn-color-fitted-level-2);\n}\n\n#sk-container-id-1 div.sk-label label.sk-toggleable__label,\n#sk-container-id-1 div.sk-label label {\n  /* The background is the default theme color */\n  color: var(--sklearn-color-text-on-default-background);\n}\n\n/* On hover, darken the color of the background */\n#sk-container-id-1 div.sk-label:hover label.sk-toggleable__label {\n  color: var(--sklearn-color-text);\n  background-color: var(--sklearn-color-unfitted-level-2);\n}\n\n/* Label box, darken color on hover, fitted */\n#sk-container-id-1 div.sk-label.fitted:hover label.sk-toggleable__label.fitted {\n  color: var(--sklearn-color-text);\n  background-color: var(--sklearn-color-fitted-level-2);\n}\n\n/* Estimator label */\n\n#sk-container-id-1 div.sk-label label {\n  font-family: monospace;\n  font-weight: bold;\n  display: inline-block;\n  line-height: 1.2em;\n}\n\n#sk-container-id-1 div.sk-label-container {\n  text-align: center;\n}\n\n/* Estimator-specific */\n#sk-container-id-1 div.sk-estimator {\n  font-family: monospace;\n  border: 1px dotted var(--sklearn-color-border-box);\n  border-radius: 0.25em;\n  box-sizing: border-box;\n  margin-bottom: 0.5em;\n  /* unfitted */\n  background-color: var(--sklearn-color-unfitted-level-0);\n}\n\n#sk-container-id-1 div.sk-estimator.fitted {\n  /* fitted */\n  background-color: var(--sklearn-color-fitted-level-0);\n}\n\n/* on hover */\n#sk-container-id-1 div.sk-estimator:hover {\n  /* unfitted */\n  background-color: var(--sklearn-color-unfitted-level-2);\n}\n\n#sk-container-id-1 div.sk-estimator.fitted:hover {\n  /* fitted */\n  background-color: var(--sklearn-color-fitted-level-2);\n}\n\n/* Specification for estimator info (e.g. \"i\" and \"?\") */\n\n/* Common style for \"i\" and \"?\" */\n\n.sk-estimator-doc-link,\na:link.sk-estimator-doc-link,\na:visited.sk-estimator-doc-link {\n  float: right;\n  font-size: smaller;\n  line-height: 1em;\n  font-family: monospace;\n  background-color: var(--sklearn-color-background);\n  border-radius: 1em;\n  height: 1em;\n  width: 1em;\n  text-decoration: none !important;\n  margin-left: 1ex;\n  /* unfitted */\n  border: var(--sklearn-color-unfitted-level-1) 1pt solid;\n  color: var(--sklearn-color-unfitted-level-1);\n}\n\n.sk-estimator-doc-link.fitted,\na:link.sk-estimator-doc-link.fitted,\na:visited.sk-estimator-doc-link.fitted {\n  /* fitted */\n  border: var(--sklearn-color-fitted-level-1) 1pt solid;\n  color: var(--sklearn-color-fitted-level-1);\n}\n\n/* On hover */\ndiv.sk-estimator:hover .sk-estimator-doc-link:hover,\n.sk-estimator-doc-link:hover,\ndiv.sk-label-container:hover .sk-estimator-doc-link:hover,\n.sk-estimator-doc-link:hover {\n  /* unfitted */\n  background-color: var(--sklearn-color-unfitted-level-3);\n  color: var(--sklearn-color-background);\n  text-decoration: none;\n}\n\ndiv.sk-estimator.fitted:hover .sk-estimator-doc-link.fitted:hover,\n.sk-estimator-doc-link.fitted:hover,\ndiv.sk-label-container:hover .sk-estimator-doc-link.fitted:hover,\n.sk-estimator-doc-link.fitted:hover {\n  /* fitted */\n  background-color: var(--sklearn-color-fitted-level-3);\n  color: var(--sklearn-color-background);\n  text-decoration: none;\n}\n\n/* Span, style for the box shown on hovering the info icon */\n.sk-estimator-doc-link span {\n  display: none;\n  z-index: 9999;\n  position: relative;\n  font-weight: normal;\n  right: .2ex;\n  padding: .5ex;\n  margin: .5ex;\n  width: min-content;\n  min-width: 20ex;\n  max-width: 50ex;\n  color: var(--sklearn-color-text);\n  box-shadow: 2pt 2pt 4pt #999;\n  /* unfitted */\n  background: var(--sklearn-color-unfitted-level-0);\n  border: .5pt solid var(--sklearn-color-unfitted-level-3);\n}\n\n.sk-estimator-doc-link.fitted span {\n  /* fitted */\n  background: var(--sklearn-color-fitted-level-0);\n  border: var(--sklearn-color-fitted-level-3);\n}\n\n.sk-estimator-doc-link:hover span {\n  display: block;\n}\n\n/* \"?\"-specific style due to the `<a>` HTML tag */\n\n#sk-container-id-1 a.estimator_doc_link {\n  float: right;\n  font-size: 1rem;\n  line-height: 1em;\n  font-family: monospace;\n  background-color: var(--sklearn-color-background);\n  border-radius: 1rem;\n  height: 1rem;\n  width: 1rem;\n  text-decoration: none;\n  /* unfitted */\n  color: var(--sklearn-color-unfitted-level-1);\n  border: var(--sklearn-color-unfitted-level-1) 1pt solid;\n}\n\n#sk-container-id-1 a.estimator_doc_link.fitted {\n  /* fitted */\n  border: var(--sklearn-color-fitted-level-1) 1pt solid;\n  color: var(--sklearn-color-fitted-level-1);\n}\n\n/* On hover */\n#sk-container-id-1 a.estimator_doc_link:hover {\n  /* unfitted */\n  background-color: var(--sklearn-color-unfitted-level-3);\n  color: var(--sklearn-color-background);\n  text-decoration: none;\n}\n\n#sk-container-id-1 a.estimator_doc_link.fitted:hover {\n  /* fitted */\n  background-color: var(--sklearn-color-fitted-level-3);\n}\n</style><div id=\"sk-container-id-1\" class=\"sk-top-container\"><div class=\"sk-text-repr-fallback\"><pre>KModes(init=&#x27;Huang&#x27;, n_clusters=4, n_jobs=-1, verbose=1)</pre><b>In a Jupyter environment, please rerun this cell to show the HTML representation or trust the notebook. <br />On GitHub, the HTML representation is unable to render, please try loading this page with nbviewer.org.</b></div><div class=\"sk-container\" hidden><div class=\"sk-item\"><div class=\"sk-estimator fitted sk-toggleable\"><input class=\"sk-toggleable__control sk-hidden--visually\" id=\"sk-estimator-id-1\" type=\"checkbox\" checked><label for=\"sk-estimator-id-1\" class=\"sk-toggleable__label fitted sk-toggleable__label-arrow fitted\">&nbsp;KModes<span class=\"sk-estimator-doc-link fitted\">i<span>Fitted</span></span></label><div class=\"sk-toggleable__content fitted\"><pre>KModes(init=&#x27;Huang&#x27;, n_clusters=4, n_jobs=-1, verbose=1)</pre></div> </div></div></div></div>"
     },
     "execution_count": 23,
     "metadata": {},
     "output_type": "execute_result"
    }
   ],
   "source": [
    "kproto4 = KModes(n_clusters = 4, init='Huang',n_jobs=-1,n_init=10,verbose=1)\n",
    "kproto4.fit(dt)"
   ],
   "metadata": {
    "collapsed": false,
    "ExecuteTime": {
     "end_time": "2024-02-24T05:48:53.307506Z",
     "start_time": "2024-02-24T05:43:13.001038Z"
    }
   },
   "id": "7245d30bdbc2b83f"
  },
  {
   "cell_type": "code",
   "execution_count": 24,
   "outputs": [
    {
     "name": "stdout",
     "output_type": "stream",
     "text": [
      "Best run was number 8\n"
     ]
    },
    {
     "data": {
      "text/plain": "KModes(init='Huang', n_clusters=6, n_jobs=-1, verbose=1)",
      "text/html": "<style>#sk-container-id-2 {\n  /* Definition of color scheme common for light and dark mode */\n  --sklearn-color-text: black;\n  --sklearn-color-line: gray;\n  /* Definition of color scheme for unfitted estimators */\n  --sklearn-color-unfitted-level-0: #fff5e6;\n  --sklearn-color-unfitted-level-1: #f6e4d2;\n  --sklearn-color-unfitted-level-2: #ffe0b3;\n  --sklearn-color-unfitted-level-3: chocolate;\n  /* Definition of color scheme for fitted estimators */\n  --sklearn-color-fitted-level-0: #f0f8ff;\n  --sklearn-color-fitted-level-1: #d4ebff;\n  --sklearn-color-fitted-level-2: #b3dbfd;\n  --sklearn-color-fitted-level-3: cornflowerblue;\n\n  /* Specific color for light theme */\n  --sklearn-color-text-on-default-background: var(--sg-text-color, var(--theme-code-foreground, var(--jp-content-font-color1, black)));\n  --sklearn-color-background: var(--sg-background-color, var(--theme-background, var(--jp-layout-color0, white)));\n  --sklearn-color-border-box: var(--sg-text-color, var(--theme-code-foreground, var(--jp-content-font-color1, black)));\n  --sklearn-color-icon: #696969;\n\n  @media (prefers-color-scheme: dark) {\n    /* Redefinition of color scheme for dark theme */\n    --sklearn-color-text-on-default-background: var(--sg-text-color, var(--theme-code-foreground, var(--jp-content-font-color1, white)));\n    --sklearn-color-background: var(--sg-background-color, var(--theme-background, var(--jp-layout-color0, #111)));\n    --sklearn-color-border-box: var(--sg-text-color, var(--theme-code-foreground, var(--jp-content-font-color1, white)));\n    --sklearn-color-icon: #878787;\n  }\n}\n\n#sk-container-id-2 {\n  color: var(--sklearn-color-text);\n}\n\n#sk-container-id-2 pre {\n  padding: 0;\n}\n\n#sk-container-id-2 input.sk-hidden--visually {\n  border: 0;\n  clip: rect(1px 1px 1px 1px);\n  clip: rect(1px, 1px, 1px, 1px);\n  height: 1px;\n  margin: -1px;\n  overflow: hidden;\n  padding: 0;\n  position: absolute;\n  width: 1px;\n}\n\n#sk-container-id-2 div.sk-dashed-wrapped {\n  border: 1px dashed var(--sklearn-color-line);\n  margin: 0 0.4em 0.5em 0.4em;\n  box-sizing: border-box;\n  padding-bottom: 0.4em;\n  background-color: var(--sklearn-color-background);\n}\n\n#sk-container-id-2 div.sk-container {\n  /* jupyter's `normalize.less` sets `[hidden] { display: none; }`\n     but bootstrap.min.css set `[hidden] { display: none !important; }`\n     so we also need the `!important` here to be able to override the\n     default hidden behavior on the sphinx rendered scikit-learn.org.\n     See: https://github.com/scikit-learn/scikit-learn/issues/21755 */\n  display: inline-block !important;\n  position: relative;\n}\n\n#sk-container-id-2 div.sk-text-repr-fallback {\n  display: none;\n}\n\ndiv.sk-parallel-item,\ndiv.sk-serial,\ndiv.sk-item {\n  /* draw centered vertical line to link estimators */\n  background-image: linear-gradient(var(--sklearn-color-text-on-default-background), var(--sklearn-color-text-on-default-background));\n  background-size: 2px 100%;\n  background-repeat: no-repeat;\n  background-position: center center;\n}\n\n/* Parallel-specific style estimator block */\n\n#sk-container-id-2 div.sk-parallel-item::after {\n  content: \"\";\n  width: 100%;\n  border-bottom: 2px solid var(--sklearn-color-text-on-default-background);\n  flex-grow: 1;\n}\n\n#sk-container-id-2 div.sk-parallel {\n  display: flex;\n  align-items: stretch;\n  justify-content: center;\n  background-color: var(--sklearn-color-background);\n  position: relative;\n}\n\n#sk-container-id-2 div.sk-parallel-item {\n  display: flex;\n  flex-direction: column;\n}\n\n#sk-container-id-2 div.sk-parallel-item:first-child::after {\n  align-self: flex-end;\n  width: 50%;\n}\n\n#sk-container-id-2 div.sk-parallel-item:last-child::after {\n  align-self: flex-start;\n  width: 50%;\n}\n\n#sk-container-id-2 div.sk-parallel-item:only-child::after {\n  width: 0;\n}\n\n/* Serial-specific style estimator block */\n\n#sk-container-id-2 div.sk-serial {\n  display: flex;\n  flex-direction: column;\n  align-items: center;\n  background-color: var(--sklearn-color-background);\n  padding-right: 1em;\n  padding-left: 1em;\n}\n\n\n/* Toggleable style: style used for estimator/Pipeline/ColumnTransformer box that is\nclickable and can be expanded/collapsed.\n- Pipeline and ColumnTransformer use this feature and define the default style\n- Estimators will overwrite some part of the style using the `sk-estimator` class\n*/\n\n/* Pipeline and ColumnTransformer style (default) */\n\n#sk-container-id-2 div.sk-toggleable {\n  /* Default theme specific background. It is overwritten whether we have a\n  specific estimator or a Pipeline/ColumnTransformer */\n  background-color: var(--sklearn-color-background);\n}\n\n/* Toggleable label */\n#sk-container-id-2 label.sk-toggleable__label {\n  cursor: pointer;\n  display: block;\n  width: 100%;\n  margin-bottom: 0;\n  padding: 0.5em;\n  box-sizing: border-box;\n  text-align: center;\n}\n\n#sk-container-id-2 label.sk-toggleable__label-arrow:before {\n  /* Arrow on the left of the label */\n  content: \"▸\";\n  float: left;\n  margin-right: 0.25em;\n  color: var(--sklearn-color-icon);\n}\n\n#sk-container-id-2 label.sk-toggleable__label-arrow:hover:before {\n  color: var(--sklearn-color-text);\n}\n\n/* Toggleable content - dropdown */\n\n#sk-container-id-2 div.sk-toggleable__content {\n  max-height: 0;\n  max-width: 0;\n  overflow: hidden;\n  text-align: left;\n  /* unfitted */\n  background-color: var(--sklearn-color-unfitted-level-0);\n}\n\n#sk-container-id-2 div.sk-toggleable__content.fitted {\n  /* fitted */\n  background-color: var(--sklearn-color-fitted-level-0);\n}\n\n#sk-container-id-2 div.sk-toggleable__content pre {\n  margin: 0.2em;\n  border-radius: 0.25em;\n  color: var(--sklearn-color-text);\n  /* unfitted */\n  background-color: var(--sklearn-color-unfitted-level-0);\n}\n\n#sk-container-id-2 div.sk-toggleable__content.fitted pre {\n  /* unfitted */\n  background-color: var(--sklearn-color-fitted-level-0);\n}\n\n#sk-container-id-2 input.sk-toggleable__control:checked~div.sk-toggleable__content {\n  /* Expand drop-down */\n  max-height: 200px;\n  max-width: 100%;\n  overflow: auto;\n}\n\n#sk-container-id-2 input.sk-toggleable__control:checked~label.sk-toggleable__label-arrow:before {\n  content: \"▾\";\n}\n\n/* Pipeline/ColumnTransformer-specific style */\n\n#sk-container-id-2 div.sk-label input.sk-toggleable__control:checked~label.sk-toggleable__label {\n  color: var(--sklearn-color-text);\n  background-color: var(--sklearn-color-unfitted-level-2);\n}\n\n#sk-container-id-2 div.sk-label.fitted input.sk-toggleable__control:checked~label.sk-toggleable__label {\n  background-color: var(--sklearn-color-fitted-level-2);\n}\n\n/* Estimator-specific style */\n\n/* Colorize estimator box */\n#sk-container-id-2 div.sk-estimator input.sk-toggleable__control:checked~label.sk-toggleable__label {\n  /* unfitted */\n  background-color: var(--sklearn-color-unfitted-level-2);\n}\n\n#sk-container-id-2 div.sk-estimator.fitted input.sk-toggleable__control:checked~label.sk-toggleable__label {\n  /* fitted */\n  background-color: var(--sklearn-color-fitted-level-2);\n}\n\n#sk-container-id-2 div.sk-label label.sk-toggleable__label,\n#sk-container-id-2 div.sk-label label {\n  /* The background is the default theme color */\n  color: var(--sklearn-color-text-on-default-background);\n}\n\n/* On hover, darken the color of the background */\n#sk-container-id-2 div.sk-label:hover label.sk-toggleable__label {\n  color: var(--sklearn-color-text);\n  background-color: var(--sklearn-color-unfitted-level-2);\n}\n\n/* Label box, darken color on hover, fitted */\n#sk-container-id-2 div.sk-label.fitted:hover label.sk-toggleable__label.fitted {\n  color: var(--sklearn-color-text);\n  background-color: var(--sklearn-color-fitted-level-2);\n}\n\n/* Estimator label */\n\n#sk-container-id-2 div.sk-label label {\n  font-family: monospace;\n  font-weight: bold;\n  display: inline-block;\n  line-height: 1.2em;\n}\n\n#sk-container-id-2 div.sk-label-container {\n  text-align: center;\n}\n\n/* Estimator-specific */\n#sk-container-id-2 div.sk-estimator {\n  font-family: monospace;\n  border: 1px dotted var(--sklearn-color-border-box);\n  border-radius: 0.25em;\n  box-sizing: border-box;\n  margin-bottom: 0.5em;\n  /* unfitted */\n  background-color: var(--sklearn-color-unfitted-level-0);\n}\n\n#sk-container-id-2 div.sk-estimator.fitted {\n  /* fitted */\n  background-color: var(--sklearn-color-fitted-level-0);\n}\n\n/* on hover */\n#sk-container-id-2 div.sk-estimator:hover {\n  /* unfitted */\n  background-color: var(--sklearn-color-unfitted-level-2);\n}\n\n#sk-container-id-2 div.sk-estimator.fitted:hover {\n  /* fitted */\n  background-color: var(--sklearn-color-fitted-level-2);\n}\n\n/* Specification for estimator info (e.g. \"i\" and \"?\") */\n\n/* Common style for \"i\" and \"?\" */\n\n.sk-estimator-doc-link,\na:link.sk-estimator-doc-link,\na:visited.sk-estimator-doc-link {\n  float: right;\n  font-size: smaller;\n  line-height: 1em;\n  font-family: monospace;\n  background-color: var(--sklearn-color-background);\n  border-radius: 1em;\n  height: 1em;\n  width: 1em;\n  text-decoration: none !important;\n  margin-left: 1ex;\n  /* unfitted */\n  border: var(--sklearn-color-unfitted-level-1) 1pt solid;\n  color: var(--sklearn-color-unfitted-level-1);\n}\n\n.sk-estimator-doc-link.fitted,\na:link.sk-estimator-doc-link.fitted,\na:visited.sk-estimator-doc-link.fitted {\n  /* fitted */\n  border: var(--sklearn-color-fitted-level-1) 1pt solid;\n  color: var(--sklearn-color-fitted-level-1);\n}\n\n/* On hover */\ndiv.sk-estimator:hover .sk-estimator-doc-link:hover,\n.sk-estimator-doc-link:hover,\ndiv.sk-label-container:hover .sk-estimator-doc-link:hover,\n.sk-estimator-doc-link:hover {\n  /* unfitted */\n  background-color: var(--sklearn-color-unfitted-level-3);\n  color: var(--sklearn-color-background);\n  text-decoration: none;\n}\n\ndiv.sk-estimator.fitted:hover .sk-estimator-doc-link.fitted:hover,\n.sk-estimator-doc-link.fitted:hover,\ndiv.sk-label-container:hover .sk-estimator-doc-link.fitted:hover,\n.sk-estimator-doc-link.fitted:hover {\n  /* fitted */\n  background-color: var(--sklearn-color-fitted-level-3);\n  color: var(--sklearn-color-background);\n  text-decoration: none;\n}\n\n/* Span, style for the box shown on hovering the info icon */\n.sk-estimator-doc-link span {\n  display: none;\n  z-index: 9999;\n  position: relative;\n  font-weight: normal;\n  right: .2ex;\n  padding: .5ex;\n  margin: .5ex;\n  width: min-content;\n  min-width: 20ex;\n  max-width: 50ex;\n  color: var(--sklearn-color-text);\n  box-shadow: 2pt 2pt 4pt #999;\n  /* unfitted */\n  background: var(--sklearn-color-unfitted-level-0);\n  border: .5pt solid var(--sklearn-color-unfitted-level-3);\n}\n\n.sk-estimator-doc-link.fitted span {\n  /* fitted */\n  background: var(--sklearn-color-fitted-level-0);\n  border: var(--sklearn-color-fitted-level-3);\n}\n\n.sk-estimator-doc-link:hover span {\n  display: block;\n}\n\n/* \"?\"-specific style due to the `<a>` HTML tag */\n\n#sk-container-id-2 a.estimator_doc_link {\n  float: right;\n  font-size: 1rem;\n  line-height: 1em;\n  font-family: monospace;\n  background-color: var(--sklearn-color-background);\n  border-radius: 1rem;\n  height: 1rem;\n  width: 1rem;\n  text-decoration: none;\n  /* unfitted */\n  color: var(--sklearn-color-unfitted-level-1);\n  border: var(--sklearn-color-unfitted-level-1) 1pt solid;\n}\n\n#sk-container-id-2 a.estimator_doc_link.fitted {\n  /* fitted */\n  border: var(--sklearn-color-fitted-level-1) 1pt solid;\n  color: var(--sklearn-color-fitted-level-1);\n}\n\n/* On hover */\n#sk-container-id-2 a.estimator_doc_link:hover {\n  /* unfitted */\n  background-color: var(--sklearn-color-unfitted-level-3);\n  color: var(--sklearn-color-background);\n  text-decoration: none;\n}\n\n#sk-container-id-2 a.estimator_doc_link.fitted:hover {\n  /* fitted */\n  background-color: var(--sklearn-color-fitted-level-3);\n}\n</style><div id=\"sk-container-id-2\" class=\"sk-top-container\"><div class=\"sk-text-repr-fallback\"><pre>KModes(init=&#x27;Huang&#x27;, n_clusters=6, n_jobs=-1, verbose=1)</pre><b>In a Jupyter environment, please rerun this cell to show the HTML representation or trust the notebook. <br />On GitHub, the HTML representation is unable to render, please try loading this page with nbviewer.org.</b></div><div class=\"sk-container\" hidden><div class=\"sk-item\"><div class=\"sk-estimator fitted sk-toggleable\"><input class=\"sk-toggleable__control sk-hidden--visually\" id=\"sk-estimator-id-2\" type=\"checkbox\" checked><label for=\"sk-estimator-id-2\" class=\"sk-toggleable__label fitted sk-toggleable__label-arrow fitted\">&nbsp;KModes<span class=\"sk-estimator-doc-link fitted\">i<span>Fitted</span></span></label><div class=\"sk-toggleable__content fitted\"><pre>KModes(init=&#x27;Huang&#x27;, n_clusters=6, n_jobs=-1, verbose=1)</pre></div> </div></div></div></div>"
     },
     "execution_count": 24,
     "metadata": {},
     "output_type": "execute_result"
    }
   ],
   "source": [
    "kproto6 = KModes(n_clusters = 6, init='Huang',n_jobs=-1,n_init=10,verbose=1)\n",
    "kproto6.fit(dt)"
   ],
   "metadata": {
    "collapsed": false,
    "ExecuteTime": {
     "end_time": "2024-02-24T05:58:18.067938Z",
     "start_time": "2024-02-24T05:48:59.777935Z"
    }
   },
   "id": "12887701dc0ad90c"
  },
  {
   "cell_type": "code",
   "execution_count": null,
   "outputs": [],
   "source": [],
   "metadata": {
    "collapsed": false
   },
   "id": "611340c5b2f4fdc9"
  },
  {
   "cell_type": "code",
   "execution_count": 25,
   "outputs": [],
   "source": [
    "data['4_clusters']=kproto4.labels_\n",
    "data['6_clusters']=kproto6.labels_"
   ],
   "metadata": {
    "collapsed": false,
    "ExecuteTime": {
     "end_time": "2024-02-24T05:58:51.386074Z",
     "start_time": "2024-02-24T05:58:51.355451Z"
    }
   },
   "id": "c44df07bbf98d3dc"
  },
  {
   "cell_type": "code",
   "execution_count": 26,
   "outputs": [
    {
     "data": {
      "text/plain": "4_clusters\n0    0.089665\n1    0.209862\n2    0.016483\n3    0.051587\nName: income_above_limit, dtype: float64"
     },
     "execution_count": 26,
     "metadata": {},
     "output_type": "execute_result"
    }
   ],
   "source": [
    "data.groupby('4_clusters')['income_above_limit'].mean()"
   ],
   "metadata": {
    "collapsed": false,
    "ExecuteTime": {
     "end_time": "2024-02-24T05:58:53.078612Z",
     "start_time": "2024-02-24T05:58:53.028783Z"
    }
   },
   "id": "9c5b0d15f57226bd"
  },
  {
   "cell_type": "code",
   "execution_count": 28,
   "outputs": [
    {
     "data": {
      "text/plain": "6_clusters\n0    0.172592\n1    0.029028\n2    0.038542\n3    0.011990\n4    0.088283\n5    0.016187\nName: income_above_limit, dtype: float64"
     },
     "execution_count": 28,
     "metadata": {},
     "output_type": "execute_result"
    }
   ],
   "source": [
    "data.groupby('6_clusters')['income_above_limit'].mean()"
   ],
   "metadata": {
    "collapsed": false,
    "ExecuteTime": {
     "end_time": "2024-02-24T05:59:04.859394Z",
     "start_time": "2024-02-24T05:59:04.817440Z"
    }
   },
   "id": "40ad5dd5ad5db909"
  },
  {
   "cell_type": "markdown",
   "source": [
    "## !!! it looks like model with 4 clusters could be of some use!!!"
   ],
   "metadata": {
    "collapsed": false
   },
   "id": "f3bd2c997b6d49f5"
  },
  {
   "cell_type": "code",
   "execution_count": null,
   "outputs": [],
   "source": [],
   "metadata": {
    "collapsed": false
   },
   "id": "eeea36ef4b45e463"
  },
  {
   "cell_type": "code",
   "execution_count": null,
   "outputs": [],
   "source": [],
   "metadata": {
    "collapsed": false
   },
   "id": "4f75f0b761890335"
  }
 ],
 "metadata": {
  "kernelspec": {
   "display_name": "Python 3 (ipykernel)",
   "language": "python",
   "name": "python3"
  },
  "language_info": {
   "codemirror_mode": {
    "name": "ipython",
    "version": 3
   },
   "file_extension": ".py",
   "mimetype": "text/x-python",
   "name": "python",
   "nbconvert_exporter": "python",
   "pygments_lexer": "ipython3",
   "version": "3.9.16"
  }
 },
 "nbformat": 4,
 "nbformat_minor": 5
}
