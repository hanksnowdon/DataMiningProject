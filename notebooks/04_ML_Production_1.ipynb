{
 "cells": [
  {
   "cell_type": "code",
   "execution_count": 1,
   "id": "initial_id",
   "metadata": {
    "collapsed": true,
    "ExecuteTime": {
     "end_time": "2024-02-25T23:03:56.124521Z",
     "start_time": "2024-02-25T23:03:56.119912Z"
    }
   },
   "outputs": [],
   "source": [
    "## Set-up.\n",
    "### Libraries\n",
    "import os\n",
    "import numpy as np\n",
    "import pandas as pd\n",
    "import matplotlib.pyplot as plt\n",
    "import seaborn as sns\n"
   ]
  },
  {
   "cell_type": "code",
   "execution_count": 2,
   "outputs": [],
   "source": [
    "! pip freeze > '../requirements.txt'"
   ],
   "metadata": {
    "collapsed": false,
    "ExecuteTime": {
     "end_time": "2024-02-25T14:42:10.018776Z",
     "start_time": "2024-02-25T14:42:08.440503Z"
    }
   },
   "id": "37f5e59bb1acf5ff"
  },
  {
   "cell_type": "code",
   "execution_count": 2,
   "outputs": [],
   "source": [
    "DATA_PATH = '../dataset/'"
   ],
   "metadata": {
    "collapsed": false,
    "ExecuteTime": {
     "end_time": "2024-02-25T23:03:57.959947Z",
     "start_time": "2024-02-25T23:03:57.916679Z"
    }
   },
   "id": "7799ed67d21051b3"
  },
  {
   "cell_type": "code",
   "execution_count": 3,
   "outputs": [],
   "source": [
    "data = pd.read_parquet(os.path.join(DATA_PATH,'data_eng.gzip'))"
   ],
   "metadata": {
    "collapsed": false,
    "ExecuteTime": {
     "end_time": "2024-02-25T23:04:02.019281Z",
     "start_time": "2024-02-25T23:04:01.819699Z"
    }
   },
   "id": "54beca3be7fd9566"
  },
  {
   "cell_type": "code",
   "execution_count": 4,
   "outputs": [
    {
     "data": {
      "text/plain": "     age   gender      education                class  \\\n0    63+   Female     highschool                   NA   \n1    63+   Female     highschool                   NA   \n2  18_24     Male  no_highschool   Federal government   \n4    63+     Male     highschool                   NA   \n5  33_45     Male      bachelors              Private   \n\n                     marital_status                        race is_hispanic  \\\n0                           Widowed                       White          No   \n1                           Widowed                       White          No   \n2                     Never married                       Black          No   \n4   Married-civilian spouse present                       White          No   \n5   Married-civilian spouse present   Asian or Pacific Islander          No   \n\n       employment_commitment employment_stat wage_per_hour  \\\n0                 Unemployed               0          0_10   \n1   Children or Armed Forces               0          0_10   \n2   Children or Armed Forces               0       101_500   \n4                 Unemployed               0          0_10   \n5   Children or Armed Forces               0      501_1000   \n\n  working_week_per_year            industry_code_main  \\\n0    weeks_worked_48_52   Not in universe or children   \n1        weeks_worked_0   Not in universe or children   \n2     weeks_worked_1_25             Hospital services   \n4        weeks_worked_0   Not in universe or children   \n5    weeks_worked_48_52                  Retail trade   \n\n              occupation_code_main       household_summary vet_benefit  \\\n0                               NA             Householder           2   \n1                               NA             Householder           2   \n2   Adm support including clerical       Child 18 or older           2   \n4                               NA   Spouse of householder           2   \n5                    Other service             Householder           2   \n\n             tax_status                           citizenship  \\\n0     Head of household                                Native   \n1                Single                                Native   \n2                Single                                Native   \n4        Joint both 65+                                Native   \n5   Joint both under 65   Foreign born- Not a citizen of U S    \n\n   income_above_limit  investments  \n0                   0         True  \n1                   0        False  \n2                   0        False  \n4                   0        False  \n5                   0        False  ",
      "text/html": "<div>\n<style scoped>\n    .dataframe tbody tr th:only-of-type {\n        vertical-align: middle;\n    }\n\n    .dataframe tbody tr th {\n        vertical-align: top;\n    }\n\n    .dataframe thead th {\n        text-align: right;\n    }\n</style>\n<table border=\"1\" class=\"dataframe\">\n  <thead>\n    <tr style=\"text-align: right;\">\n      <th></th>\n      <th>age</th>\n      <th>gender</th>\n      <th>education</th>\n      <th>class</th>\n      <th>marital_status</th>\n      <th>race</th>\n      <th>is_hispanic</th>\n      <th>employment_commitment</th>\n      <th>employment_stat</th>\n      <th>wage_per_hour</th>\n      <th>working_week_per_year</th>\n      <th>industry_code_main</th>\n      <th>occupation_code_main</th>\n      <th>household_summary</th>\n      <th>vet_benefit</th>\n      <th>tax_status</th>\n      <th>citizenship</th>\n      <th>income_above_limit</th>\n      <th>investments</th>\n    </tr>\n  </thead>\n  <tbody>\n    <tr>\n      <th>0</th>\n      <td>63+</td>\n      <td>Female</td>\n      <td>highschool</td>\n      <td>NA</td>\n      <td>Widowed</td>\n      <td>White</td>\n      <td>No</td>\n      <td>Unemployed</td>\n      <td>0</td>\n      <td>0_10</td>\n      <td>weeks_worked_48_52</td>\n      <td>Not in universe or children</td>\n      <td>NA</td>\n      <td>Householder</td>\n      <td>2</td>\n      <td>Head of household</td>\n      <td>Native</td>\n      <td>0</td>\n      <td>True</td>\n    </tr>\n    <tr>\n      <th>1</th>\n      <td>63+</td>\n      <td>Female</td>\n      <td>highschool</td>\n      <td>NA</td>\n      <td>Widowed</td>\n      <td>White</td>\n      <td>No</td>\n      <td>Children or Armed Forces</td>\n      <td>0</td>\n      <td>0_10</td>\n      <td>weeks_worked_0</td>\n      <td>Not in universe or children</td>\n      <td>NA</td>\n      <td>Householder</td>\n      <td>2</td>\n      <td>Single</td>\n      <td>Native</td>\n      <td>0</td>\n      <td>False</td>\n    </tr>\n    <tr>\n      <th>2</th>\n      <td>18_24</td>\n      <td>Male</td>\n      <td>no_highschool</td>\n      <td>Federal government</td>\n      <td>Never married</td>\n      <td>Black</td>\n      <td>No</td>\n      <td>Children or Armed Forces</td>\n      <td>0</td>\n      <td>101_500</td>\n      <td>weeks_worked_1_25</td>\n      <td>Hospital services</td>\n      <td>Adm support including clerical</td>\n      <td>Child 18 or older</td>\n      <td>2</td>\n      <td>Single</td>\n      <td>Native</td>\n      <td>0</td>\n      <td>False</td>\n    </tr>\n    <tr>\n      <th>4</th>\n      <td>63+</td>\n      <td>Male</td>\n      <td>highschool</td>\n      <td>NA</td>\n      <td>Married-civilian spouse present</td>\n      <td>White</td>\n      <td>No</td>\n      <td>Unemployed</td>\n      <td>0</td>\n      <td>0_10</td>\n      <td>weeks_worked_0</td>\n      <td>Not in universe or children</td>\n      <td>NA</td>\n      <td>Spouse of householder</td>\n      <td>2</td>\n      <td>Joint both 65+</td>\n      <td>Native</td>\n      <td>0</td>\n      <td>False</td>\n    </tr>\n    <tr>\n      <th>5</th>\n      <td>33_45</td>\n      <td>Male</td>\n      <td>bachelors</td>\n      <td>Private</td>\n      <td>Married-civilian spouse present</td>\n      <td>Asian or Pacific Islander</td>\n      <td>No</td>\n      <td>Children or Armed Forces</td>\n      <td>0</td>\n      <td>501_1000</td>\n      <td>weeks_worked_48_52</td>\n      <td>Retail trade</td>\n      <td>Other service</td>\n      <td>Householder</td>\n      <td>2</td>\n      <td>Joint both under 65</td>\n      <td>Foreign born- Not a citizen of U S</td>\n      <td>0</td>\n      <td>False</td>\n    </tr>\n  </tbody>\n</table>\n</div>"
     },
     "execution_count": 4,
     "metadata": {},
     "output_type": "execute_result"
    }
   ],
   "source": [
    "data.head()"
   ],
   "metadata": {
    "collapsed": false,
    "ExecuteTime": {
     "end_time": "2024-02-25T23:04:02.747833Z",
     "start_time": "2024-02-25T23:04:02.676809Z"
    }
   },
   "id": "3366a48b719c2461"
  },
  {
   "cell_type": "markdown",
   "source": [
    "## Drop columns with potential discrimination"
   ],
   "metadata": {
    "collapsed": false
   },
   "id": "7ed8c0e31f82c4fe"
  },
  {
   "cell_type": "code",
   "execution_count": 5,
   "outputs": [],
   "source": [
    "drop_col = ['gender','race','is_hispanic']\n",
    "data = data.drop(drop_col, axis=1)"
   ],
   "metadata": {
    "collapsed": false,
    "ExecuteTime": {
     "end_time": "2024-02-25T23:04:12.347060Z",
     "start_time": "2024-02-25T23:04:12.305414Z"
    }
   },
   "id": "6d22f8c657a3f298"
  },
  {
   "cell_type": "code",
   "execution_count": 6,
   "outputs": [
    {
     "data": {
      "text/plain": "     age      education                class  \\\n0    63+     highschool                   NA   \n1    63+     highschool                   NA   \n2  18_24  no_highschool   Federal government   \n4    63+     highschool                   NA   \n5  33_45      bachelors              Private   \n\n                     marital_status      employment_commitment  \\\n0                           Widowed                 Unemployed   \n1                           Widowed   Children or Armed Forces   \n2                     Never married   Children or Armed Forces   \n4   Married-civilian spouse present                 Unemployed   \n5   Married-civilian spouse present   Children or Armed Forces   \n\n  employment_stat wage_per_hour working_week_per_year  \\\n0               0          0_10    weeks_worked_48_52   \n1               0          0_10        weeks_worked_0   \n2               0       101_500     weeks_worked_1_25   \n4               0          0_10        weeks_worked_0   \n5               0      501_1000    weeks_worked_48_52   \n\n             industry_code_main             occupation_code_main  \\\n0   Not in universe or children                               NA   \n1   Not in universe or children                               NA   \n2             Hospital services   Adm support including clerical   \n4   Not in universe or children                               NA   \n5                  Retail trade                    Other service   \n\n        household_summary vet_benefit            tax_status  \\\n0             Householder           2     Head of household   \n1             Householder           2                Single   \n2       Child 18 or older           2                Single   \n4   Spouse of householder           2        Joint both 65+   \n5             Householder           2   Joint both under 65   \n\n                            citizenship  income_above_limit  investments  \n0                                Native                   0         True  \n1                                Native                   0        False  \n2                                Native                   0        False  \n4                                Native                   0        False  \n5   Foreign born- Not a citizen of U S                    0        False  ",
      "text/html": "<div>\n<style scoped>\n    .dataframe tbody tr th:only-of-type {\n        vertical-align: middle;\n    }\n\n    .dataframe tbody tr th {\n        vertical-align: top;\n    }\n\n    .dataframe thead th {\n        text-align: right;\n    }\n</style>\n<table border=\"1\" class=\"dataframe\">\n  <thead>\n    <tr style=\"text-align: right;\">\n      <th></th>\n      <th>age</th>\n      <th>education</th>\n      <th>class</th>\n      <th>marital_status</th>\n      <th>employment_commitment</th>\n      <th>employment_stat</th>\n      <th>wage_per_hour</th>\n      <th>working_week_per_year</th>\n      <th>industry_code_main</th>\n      <th>occupation_code_main</th>\n      <th>household_summary</th>\n      <th>vet_benefit</th>\n      <th>tax_status</th>\n      <th>citizenship</th>\n      <th>income_above_limit</th>\n      <th>investments</th>\n    </tr>\n  </thead>\n  <tbody>\n    <tr>\n      <th>0</th>\n      <td>63+</td>\n      <td>highschool</td>\n      <td>NA</td>\n      <td>Widowed</td>\n      <td>Unemployed</td>\n      <td>0</td>\n      <td>0_10</td>\n      <td>weeks_worked_48_52</td>\n      <td>Not in universe or children</td>\n      <td>NA</td>\n      <td>Householder</td>\n      <td>2</td>\n      <td>Head of household</td>\n      <td>Native</td>\n      <td>0</td>\n      <td>True</td>\n    </tr>\n    <tr>\n      <th>1</th>\n      <td>63+</td>\n      <td>highschool</td>\n      <td>NA</td>\n      <td>Widowed</td>\n      <td>Children or Armed Forces</td>\n      <td>0</td>\n      <td>0_10</td>\n      <td>weeks_worked_0</td>\n      <td>Not in universe or children</td>\n      <td>NA</td>\n      <td>Householder</td>\n      <td>2</td>\n      <td>Single</td>\n      <td>Native</td>\n      <td>0</td>\n      <td>False</td>\n    </tr>\n    <tr>\n      <th>2</th>\n      <td>18_24</td>\n      <td>no_highschool</td>\n      <td>Federal government</td>\n      <td>Never married</td>\n      <td>Children or Armed Forces</td>\n      <td>0</td>\n      <td>101_500</td>\n      <td>weeks_worked_1_25</td>\n      <td>Hospital services</td>\n      <td>Adm support including clerical</td>\n      <td>Child 18 or older</td>\n      <td>2</td>\n      <td>Single</td>\n      <td>Native</td>\n      <td>0</td>\n      <td>False</td>\n    </tr>\n    <tr>\n      <th>4</th>\n      <td>63+</td>\n      <td>highschool</td>\n      <td>NA</td>\n      <td>Married-civilian spouse present</td>\n      <td>Unemployed</td>\n      <td>0</td>\n      <td>0_10</td>\n      <td>weeks_worked_0</td>\n      <td>Not in universe or children</td>\n      <td>NA</td>\n      <td>Spouse of householder</td>\n      <td>2</td>\n      <td>Joint both 65+</td>\n      <td>Native</td>\n      <td>0</td>\n      <td>False</td>\n    </tr>\n    <tr>\n      <th>5</th>\n      <td>33_45</td>\n      <td>bachelors</td>\n      <td>Private</td>\n      <td>Married-civilian spouse present</td>\n      <td>Children or Armed Forces</td>\n      <td>0</td>\n      <td>501_1000</td>\n      <td>weeks_worked_48_52</td>\n      <td>Retail trade</td>\n      <td>Other service</td>\n      <td>Householder</td>\n      <td>2</td>\n      <td>Joint both under 65</td>\n      <td>Foreign born- Not a citizen of U S</td>\n      <td>0</td>\n      <td>False</td>\n    </tr>\n  </tbody>\n</table>\n</div>"
     },
     "execution_count": 6,
     "metadata": {},
     "output_type": "execute_result"
    }
   ],
   "source": [
    "data.head()"
   ],
   "metadata": {
    "collapsed": false,
    "ExecuteTime": {
     "end_time": "2024-02-25T23:04:19.857814Z",
     "start_time": "2024-02-25T23:04:19.817425Z"
    }
   },
   "id": "42ac2df07074111a"
  },
  {
   "cell_type": "code",
   "execution_count": 7,
   "outputs": [],
   "source": [
    "from sklearn.model_selection import RandomizedSearchCV, train_test_split"
   ],
   "metadata": {
    "collapsed": false,
    "ExecuteTime": {
     "end_time": "2024-02-25T23:04:27.694916Z",
     "start_time": "2024-02-25T23:04:27.453553Z"
    }
   },
   "id": "dc0f600cf34b37fb"
  },
  {
   "cell_type": "code",
   "execution_count": 8,
   "outputs": [],
   "source": [
    "X_train, X_test, y_train, y_test = train_test_split(data.drop('income_above_limit', axis=1), data['income_above_limit'], test_size=0.3, random_state=12345)"
   ],
   "metadata": {
    "collapsed": false,
    "ExecuteTime": {
     "end_time": "2024-02-25T23:04:33.035216Z",
     "start_time": "2024-02-25T23:04:32.973403Z"
    }
   },
   "id": "f8138a90bac7b26d"
  },
  {
   "cell_type": "code",
   "execution_count": 8,
   "outputs": [],
   "source": [],
   "metadata": {
    "collapsed": false,
    "ExecuteTime": {
     "end_time": "2024-02-25T23:04:37.873378Z",
     "start_time": "2024-02-25T23:04:37.827085Z"
    }
   },
   "id": "30701b4bb98c057b"
  },
  {
   "cell_type": "code",
   "execution_count": 9,
   "outputs": [],
   "source": [
    "from sklearn.compose import ColumnTransformer\n",
    "from sklearn.impute import SimpleImputer\n",
    "from sklearn.pipeline import Pipeline\n",
    "from sklearn.preprocessing import StandardScaler, OneHotEncoder\n",
    "\n",
    "preprocessor = Pipeline(\n",
    "    steps=[\n",
    "        ('impute',SimpleImputer(strategy='most_frequent')),\n",
    "        ('encoder', OneHotEncoder(handle_unknown=\"ignore\"))\n",
    "        ]\n",
    ")"
   ],
   "metadata": {
    "collapsed": false,
    "ExecuteTime": {
     "end_time": "2024-02-25T23:04:39.895031Z",
     "start_time": "2024-02-25T23:04:39.733654Z"
    }
   },
   "id": "6d5c06ac7b5dc345"
  },
  {
   "cell_type": "code",
   "execution_count": 10,
   "outputs": [],
   "source": [
    "X_tr_pr = preprocessor.fit_transform(X_train)"
   ],
   "metadata": {
    "collapsed": false,
    "ExecuteTime": {
     "end_time": "2024-02-25T23:04:43.095001Z",
     "start_time": "2024-02-25T23:04:42.275308Z"
    }
   },
   "id": "2b59112ae7a51795"
  },
  {
   "cell_type": "code",
   "execution_count": 11,
   "outputs": [],
   "source": [
    "X_tst_pr = preprocessor.transform(X_test)"
   ],
   "metadata": {
    "collapsed": false,
    "ExecuteTime": {
     "end_time": "2024-02-25T23:04:45.009849Z",
     "start_time": "2024-02-25T23:04:44.825352Z"
    }
   },
   "id": "68764424afbc067"
  },
  {
   "cell_type": "code",
   "execution_count": 12,
   "outputs": [],
   "source": [
    "from sklearn.model_selection import GridSearchCV\n",
    "from sklearn.metrics import roc_auc_score as ROC\n",
    "\n",
    "def dmp_first_classifier(model, train_x, train_y, test_x, test_y, parameters ={}):\n",
    "    classifier = model()\n",
    "    if len(parameters.items())>0:\n",
    "        searcher = GridSearchCV(classifier, parameters, cv=5)\n",
    "        searcher.fit(train_x, train_y)\n",
    "        print(f'Model {model}')\n",
    "        print(\"Best CV params\", searcher.best_params_)\n",
    "        #print(\"Test accuracy of best grid search hypers:\", searcher.score(test_x, test_y))\n",
    "        best_model = searcher.best_estimator_\n",
    "    else: best_model = classifier\n",
    "    best_model.fit(train_x, train_y)\n",
    "    print(\"Test accuracy of best grid search hypers:\", best_model.score(test_x, test_y))\n",
    "    return best_model\n",
    "\n",
    "def train_accuracy(model, train_x, train_y, test_x, test_y):\n",
    "    model.fit(train_x, train_y)\n",
    "    print(\"Test accuracy:\", model.score(test_x, test_y))\n",
    "    return model"
   ],
   "metadata": {
    "collapsed": false,
    "ExecuteTime": {
     "end_time": "2024-02-25T23:04:47.608107Z",
     "start_time": "2024-02-25T23:04:47.562357Z"
    }
   },
   "id": "e5278e6cff7ec7e6"
  },
  {
   "cell_type": "code",
   "execution_count": 13,
   "outputs": [
    {
     "name": "stdout",
     "output_type": "stream",
     "text": [
      "Model <class 'sklearn.linear_model._logistic.LogisticRegression'>\n",
      "Best CV params {'C': 0.1}\n",
      "Test accuracy of best grid search hypers: 0.9297389230021647\n"
     ]
    }
   ],
   "source": [
    "from sklearn.linear_model import LogisticRegression\n",
    "lrg = LogisticRegression\n",
    "parameters = {'C':[0.01,0.1,1]}\n",
    "best_lrg = dmp_first_classifier(lrg, X_tr_pr, y_train, X_tst_pr, y_test, parameters)"
   ],
   "metadata": {
    "collapsed": false,
    "ExecuteTime": {
     "end_time": "2024-02-25T23:05:01.075339Z",
     "start_time": "2024-02-25T23:04:56.167862Z"
    }
   },
   "id": "693f3c8ff812ebb1"
  },
  {
   "cell_type": "code",
   "execution_count": 14,
   "outputs": [
    {
     "name": "stdout",
     "output_type": "stream",
     "text": [
      "Model <class 'sklearn.neighbors._classification.KNeighborsClassifier'>\n",
      "Best CV params {'n_neighbors': 50}\n",
      "Test accuracy of best grid search hypers: 0.9276847638821398\n"
     ]
    }
   ],
   "source": [
    "from sklearn.neighbors import KNeighborsClassifier\n",
    "knc = KNeighborsClassifier\n",
    "parameters = {'n_neighbors':[5,10,50]}\n",
    "best_knc = dmp_first_classifier(knc, X_tr_pr, y_train, X_tst_pr, y_test, parameters)"
   ],
   "metadata": {
    "collapsed": false,
    "ExecuteTime": {
     "end_time": "2024-02-25T23:28:19.232119Z",
     "start_time": "2024-02-25T23:05:05.288860Z"
    }
   },
   "id": "85797d85931f907"
  },
  {
   "cell_type": "code",
   "execution_count": 16,
   "outputs": [
    {
     "name": "stdout",
     "output_type": "stream",
     "text": [
      "Model <class 'sklearn.tree._classes.DecisionTreeClassifier'>\n",
      "Best CV params {'criterion': 'log_loss', 'min_samples_leaf': 30}\n",
      "Test accuracy of best grid search hypers: 0.927287184697619\n"
     ]
    }
   ],
   "source": [
    "from sklearn.tree import DecisionTreeClassifier\n",
    "dtc = DecisionTreeClassifier\n",
    "parameters = {'criterion':['gini','log_loss'],'min_samples_leaf':[1,5,10,20,30]}\n",
    "best_dtc = dmp_first_classifier(dtc, X_tr_pr, y_train, X_tst_pr, y_test, parameters)"
   ],
   "metadata": {
    "collapsed": false,
    "ExecuteTime": {
     "end_time": "2024-02-25T23:34:57.351664Z",
     "start_time": "2024-02-25T23:31:45.015904Z"
    }
   },
   "id": "3dd060ce0ed44d99"
  },
  {
   "cell_type": "code",
   "execution_count": 17,
   "outputs": [
    {
     "name": "stdout",
     "output_type": "stream",
     "text": [
      "Model <class 'sklearn.linear_model._stochastic_gradient.SGDClassifier'>\n",
      "Best CV params {'loss': 'log_loss'}\n",
      "Test accuracy of best grid search hypers: 0.9307107832309935\n"
     ]
    }
   ],
   "source": [
    "from sklearn.linear_model import SGDClassifier\n",
    "sgdc = SGDClassifier\n",
    "parameters = {'loss':['hinge','log_loss']}\n",
    "best_sgdc = dmp_first_classifier(sgdc, X_tr_pr, y_train, X_tst_pr, y_test, parameters)\n"
   ],
   "metadata": {
    "collapsed": false,
    "ExecuteTime": {
     "end_time": "2024-02-25T23:36:49.531994Z",
     "start_time": "2024-02-25T23:36:45.072540Z"
    }
   },
   "id": "10e6a4e0e32d8707"
  },
  {
   "cell_type": "markdown",
   "source": [
    "### Score TOP-3"
   ],
   "metadata": {
    "collapsed": false
   },
   "id": "65a39052cd9c7580"
  },
  {
   "cell_type": "code",
   "execution_count": 18,
   "outputs": [],
   "source": [
    "from sklearn import metrics\n",
    "\n",
    "def score_model(model, X, y):\n",
    "    predicted = model.predict(X)\n",
    "    probs = model.predict_proba(X)\n",
    "    \n",
    "    # Generate and display different evaluation metrics\n",
    "    print(metrics.accuracy_score(y, predicted))\n",
    "    print(metrics.roc_auc_score(y, probs[:, 1]))\n",
    "    \n",
    "    print(metrics.confusion_matrix(y, predicted))\n",
    "    print(metrics.classification_report(y, predicted))"
   ],
   "metadata": {
    "collapsed": false,
    "ExecuteTime": {
     "end_time": "2024-02-25T23:37:04.229847Z",
     "start_time": "2024-02-25T23:37:04.164681Z"
    }
   },
   "id": "ed4856bcaf63daeb"
  },
  {
   "cell_type": "code",
   "execution_count": 19,
   "outputs": [
    {
     "name": "stdout",
     "output_type": "stream",
     "text": [
      "0.9307107832309935\n",
      "0.9085002416132468\n",
      "[[40587   844]\n",
      " [ 2293  1550]]\n",
      "              precision    recall  f1-score   support\n",
      "\n",
      "           0       0.95      0.98      0.96     41431\n",
      "           1       0.65      0.40      0.50      3843\n",
      "\n",
      "    accuracy                           0.93     45274\n",
      "   macro avg       0.80      0.69      0.73     45274\n",
      "weighted avg       0.92      0.93      0.92     45274\n"
     ]
    }
   ],
   "source": [
    "score_model(best_sgdc, X_tst_pr, y_test)"
   ],
   "metadata": {
    "collapsed": false,
    "ExecuteTime": {
     "end_time": "2024-02-25T23:37:36.181789Z",
     "start_time": "2024-02-25T23:37:36.014433Z"
    }
   },
   "id": "d8b5a060a0c06079"
  },
  {
   "cell_type": "code",
   "execution_count": 20,
   "outputs": [
    {
     "name": "stdout",
     "output_type": "stream",
     "text": [
      "0.9297389230021647\n",
      "0.9090868412317743\n",
      "[[40817   614]\n",
      " [ 2567  1276]]\n",
      "              precision    recall  f1-score   support\n",
      "\n",
      "           0       0.94      0.99      0.96     41431\n",
      "           1       0.68      0.33      0.45      3843\n",
      "\n",
      "    accuracy                           0.93     45274\n",
      "   macro avg       0.81      0.66      0.70     45274\n",
      "weighted avg       0.92      0.93      0.92     45274\n"
     ]
    }
   ],
   "source": [
    "score_model(best_lrg, X_tst_pr, y_test)"
   ],
   "metadata": {
    "collapsed": false,
    "ExecuteTime": {
     "end_time": "2024-02-25T23:38:13.499320Z",
     "start_time": "2024-02-25T23:38:13.306903Z"
    }
   },
   "id": "a1f0d2b8143c674d"
  },
  {
   "cell_type": "code",
   "execution_count": 21,
   "outputs": [
    {
     "name": "stdout",
     "output_type": "stream",
     "text": [
      "0.927287184697619\n",
      "0.8761042856522958\n",
      "[[40770   661]\n",
      " [ 2631  1212]]\n",
      "              precision    recall  f1-score   support\n",
      "\n",
      "           0       0.94      0.98      0.96     41431\n",
      "           1       0.65      0.32      0.42      3843\n",
      "\n",
      "    accuracy                           0.93     45274\n",
      "   macro avg       0.79      0.65      0.69     45274\n",
      "weighted avg       0.91      0.93      0.92     45274\n"
     ]
    }
   ],
   "source": [
    "score_model(best_dtc, X_tst_pr, y_test)"
   ],
   "metadata": {
    "collapsed": false,
    "ExecuteTime": {
     "end_time": "2024-02-25T23:38:30.646766Z",
     "start_time": "2024-02-25T23:38:30.437878Z"
    }
   },
   "id": "9a3f31a49e440822"
  },
  {
   "cell_type": "code",
   "execution_count": 22,
   "outputs": [
    {
     "name": "stdout",
     "output_type": "stream",
     "text": [
      "0.9276847638821398\n",
      "0.8946353769739759\n",
      "[[40897   534]\n",
      " [ 2740  1103]]\n",
      "              precision    recall  f1-score   support\n",
      "\n",
      "           0       0.94      0.99      0.96     41431\n",
      "           1       0.67      0.29      0.40      3843\n",
      "\n",
      "    accuracy                           0.93     45274\n",
      "   macro avg       0.81      0.64      0.68     45274\n",
      "weighted avg       0.91      0.93      0.91     45274\n"
     ]
    }
   ],
   "source": [
    "score_model(best_knc, X_tst_pr, y_test)"
   ],
   "metadata": {
    "collapsed": false,
    "ExecuteTime": {
     "end_time": "2024-02-25T23:45:50.272726Z",
     "start_time": "2024-02-25T23:38:50.691420Z"
    }
   },
   "id": "745e21fa81b7c7a1"
  },
  {
   "cell_type": "code",
   "execution_count": null,
   "outputs": [],
   "source": [],
   "metadata": {
    "collapsed": false
   },
   "id": "422a12a71aa716da"
  },
  {
   "cell_type": "markdown",
   "source": [
    "## Upsampling"
   ],
   "metadata": {
    "collapsed": false
   },
   "id": "940e670665a04c00"
  },
  {
   "cell_type": "code",
   "execution_count": 23,
   "outputs": [],
   "source": [
    "upsample_training = X_train.copy()\n",
    "upsample_training['Y'] = y_train"
   ],
   "metadata": {
    "collapsed": false,
    "ExecuteTime": {
     "end_time": "2024-02-25T23:46:27.924753Z",
     "start_time": "2024-02-25T23:46:27.835688Z"
    }
   },
   "id": "89cb3de9140b9871"
  },
  {
   "cell_type": "code",
   "execution_count": 24,
   "outputs": [],
   "source": [
    "bellow = upsample_training.loc[upsample_training.Y==0]\n",
    "above = upsample_training.loc[upsample_training.Y==1]"
   ],
   "metadata": {
    "collapsed": false,
    "ExecuteTime": {
     "end_time": "2024-02-25T23:46:29.464391Z",
     "start_time": "2024-02-25T23:46:29.381617Z"
    }
   },
   "id": "bdde36c5038f1133"
  },
  {
   "cell_type": "code",
   "execution_count": 25,
   "outputs": [],
   "source": [
    "from sklearn.utils import resample\n",
    "above_upsample = resample(above,\n",
    "             replace=True,\n",
    "             n_samples=len(bellow),\n",
    "             random_state=12345)"
   ],
   "metadata": {
    "collapsed": false,
    "ExecuteTime": {
     "end_time": "2024-02-25T23:46:30.905975Z",
     "start_time": "2024-02-25T23:46:30.785676Z"
    }
   },
   "id": "10f891d45c0c161e"
  },
  {
   "cell_type": "code",
   "execution_count": 26,
   "outputs": [
    {
     "name": "stdout",
     "output_type": "stream",
     "text": [
      "(96485, 16)\n",
      "(96485, 16)\n"
     ]
    }
   ],
   "source": [
    "print(bellow.shape)\n",
    "print(above_upsample.shape)"
   ],
   "metadata": {
    "collapsed": false,
    "ExecuteTime": {
     "end_time": "2024-02-25T23:46:32.399234Z",
     "start_time": "2024-02-25T23:46:32.328278Z"
    }
   },
   "id": "4672818d224d3e1e"
  },
  {
   "cell_type": "code",
   "execution_count": 27,
   "outputs": [
    {
     "data": {
      "text/plain": "         age      education     class                    marital_status  \\\n87286    63+        masters        NA                     Never married   \n78624  46_62     highschool        NA   Married-civilian spouse present   \n2842     63+  no_highschool        NA   Married-civilian spouse present   \n88532  46_62     highschool   Private                     Never married   \n10009  46_62    somecollege   Private                          Divorced   \n\n           employment_commitment employment_stat wage_per_hour  \\\n87286   Children or Armed Forces               0          0_10   \n78624   Children or Armed Forces               0          0_10   \n2842                  Unemployed               0          0_10   \n88532        Full-time schedules               2          0_10   \n10009   Children or Armed Forces               0          0_10   \n\n      working_week_per_year            industry_code_main  \\\n87286        weeks_worked_0   Not in universe or children   \n78624        weeks_worked_0   Not in universe or children   \n2842         weeks_worked_0   Not in universe or children   \n88532    weeks_worked_48_52                  Retail trade   \n10009    weeks_worked_48_52               Social services   \n\n                  occupation_code_main       household_summary vet_benefit  \\\n87286                               NA             Householder           2   \n78624                               NA   Spouse of householder           2   \n2842                                NA             Householder           2   \n88532   Adm support including clerical       Child 18 or older           2   \n10009           Professional specialty             Householder           2   \n\n                          tax_status citizenship  investments  Y  \n87286                         Single      Native        False  0  \n78624   Joint one under 65 & one 65+      Native        False  0  \n2842                  Joint both 65+      Native        False  0  \n88532                         Single      Native        False  0  \n10009              Head of household      Native        False  0  ",
      "text/html": "<div>\n<style scoped>\n    .dataframe tbody tr th:only-of-type {\n        vertical-align: middle;\n    }\n\n    .dataframe tbody tr th {\n        vertical-align: top;\n    }\n\n    .dataframe thead th {\n        text-align: right;\n    }\n</style>\n<table border=\"1\" class=\"dataframe\">\n  <thead>\n    <tr style=\"text-align: right;\">\n      <th></th>\n      <th>age</th>\n      <th>education</th>\n      <th>class</th>\n      <th>marital_status</th>\n      <th>employment_commitment</th>\n      <th>employment_stat</th>\n      <th>wage_per_hour</th>\n      <th>working_week_per_year</th>\n      <th>industry_code_main</th>\n      <th>occupation_code_main</th>\n      <th>household_summary</th>\n      <th>vet_benefit</th>\n      <th>tax_status</th>\n      <th>citizenship</th>\n      <th>investments</th>\n      <th>Y</th>\n    </tr>\n  </thead>\n  <tbody>\n    <tr>\n      <th>87286</th>\n      <td>63+</td>\n      <td>masters</td>\n      <td>NA</td>\n      <td>Never married</td>\n      <td>Children or Armed Forces</td>\n      <td>0</td>\n      <td>0_10</td>\n      <td>weeks_worked_0</td>\n      <td>Not in universe or children</td>\n      <td>NA</td>\n      <td>Householder</td>\n      <td>2</td>\n      <td>Single</td>\n      <td>Native</td>\n      <td>False</td>\n      <td>0</td>\n    </tr>\n    <tr>\n      <th>78624</th>\n      <td>46_62</td>\n      <td>highschool</td>\n      <td>NA</td>\n      <td>Married-civilian spouse present</td>\n      <td>Children or Armed Forces</td>\n      <td>0</td>\n      <td>0_10</td>\n      <td>weeks_worked_0</td>\n      <td>Not in universe or children</td>\n      <td>NA</td>\n      <td>Spouse of householder</td>\n      <td>2</td>\n      <td>Joint one under 65 &amp; one 65+</td>\n      <td>Native</td>\n      <td>False</td>\n      <td>0</td>\n    </tr>\n    <tr>\n      <th>2842</th>\n      <td>63+</td>\n      <td>no_highschool</td>\n      <td>NA</td>\n      <td>Married-civilian spouse present</td>\n      <td>Unemployed</td>\n      <td>0</td>\n      <td>0_10</td>\n      <td>weeks_worked_0</td>\n      <td>Not in universe or children</td>\n      <td>NA</td>\n      <td>Householder</td>\n      <td>2</td>\n      <td>Joint both 65+</td>\n      <td>Native</td>\n      <td>False</td>\n      <td>0</td>\n    </tr>\n    <tr>\n      <th>88532</th>\n      <td>46_62</td>\n      <td>highschool</td>\n      <td>Private</td>\n      <td>Never married</td>\n      <td>Full-time schedules</td>\n      <td>2</td>\n      <td>0_10</td>\n      <td>weeks_worked_48_52</td>\n      <td>Retail trade</td>\n      <td>Adm support including clerical</td>\n      <td>Child 18 or older</td>\n      <td>2</td>\n      <td>Single</td>\n      <td>Native</td>\n      <td>False</td>\n      <td>0</td>\n    </tr>\n    <tr>\n      <th>10009</th>\n      <td>46_62</td>\n      <td>somecollege</td>\n      <td>Private</td>\n      <td>Divorced</td>\n      <td>Children or Armed Forces</td>\n      <td>0</td>\n      <td>0_10</td>\n      <td>weeks_worked_48_52</td>\n      <td>Social services</td>\n      <td>Professional specialty</td>\n      <td>Householder</td>\n      <td>2</td>\n      <td>Head of household</td>\n      <td>Native</td>\n      <td>False</td>\n      <td>0</td>\n    </tr>\n  </tbody>\n</table>\n</div>"
     },
     "execution_count": 27,
     "metadata": {},
     "output_type": "execute_result"
    }
   ],
   "source": [
    "data_upsample = pd.concat([bellow, above_upsample])\n",
    "data_upsample.head()"
   ],
   "metadata": {
    "collapsed": false,
    "ExecuteTime": {
     "end_time": "2024-02-25T23:46:33.597878Z",
     "start_time": "2024-02-25T23:46:33.482674Z"
    }
   },
   "id": "748b29d3e1534dbd"
  },
  {
   "cell_type": "code",
   "execution_count": 28,
   "outputs": [],
   "source": [
    "X_train_up = data_upsample.drop('Y', axis=1)\n",
    "y_train_up = data_upsample.Y"
   ],
   "metadata": {
    "collapsed": false,
    "ExecuteTime": {
     "end_time": "2024-02-25T23:46:36.030487Z",
     "start_time": "2024-02-25T23:46:35.961439Z"
    }
   },
   "id": "336b6abe0932f156"
  },
  {
   "cell_type": "code",
   "execution_count": 29,
   "outputs": [],
   "source": [
    "X_train_up_pr = preprocessor.fit_transform(X_train_up)\n",
    "X_tst_up_pr = preprocessor.transform(X_test)"
   ],
   "metadata": {
    "collapsed": false,
    "ExecuteTime": {
     "end_time": "2024-02-25T23:46:39.794179Z",
     "start_time": "2024-02-25T23:46:38.411632Z"
    }
   },
   "id": "fb79a93286d7b634"
  },
  {
   "cell_type": "code",
   "execution_count": 30,
   "outputs": [
    {
     "name": "stdout",
     "output_type": "stream",
     "text": [
      "Model <class 'sklearn.linear_model._logistic.LogisticRegression'>\n",
      "Best CV params {'C': 0.1}\n",
      "Test accuracy of best grid search hypers: 0.8238945089897071\n"
     ]
    }
   ],
   "source": [
    "from sklearn.linear_model import LogisticRegression\n",
    "lrg = LogisticRegression\n",
    "parameters = {'C':[0.01,0.1,1]}\n",
    "best_lrg_up = dmp_first_classifier(lrg, X_train_up_pr, y_train_up, X_tst_up_pr, y_test, parameters)"
   ],
   "metadata": {
    "collapsed": false,
    "ExecuteTime": {
     "end_time": "2024-02-25T23:46:54.401162Z",
     "start_time": "2024-02-25T23:46:42.191702Z"
    }
   },
   "id": "76d5039d2ef21a74"
  },
  {
   "cell_type": "code",
   "execution_count": 31,
   "outputs": [
    {
     "name": "stdout",
     "output_type": "stream",
     "text": [
      "Model <class 'sklearn.linear_model._stochastic_gradient.SGDClassifier'>\n",
      "Best CV params {'loss': 'log_loss'}\n",
      "Test accuracy of best grid search hypers: 0.8225250695763573\n"
     ]
    }
   ],
   "source": [
    "from sklearn.linear_model import SGDClassifier\n",
    "sgdc = SGDClassifier\n",
    "parameters = {'loss':['hinge','log_loss']}\n",
    "best_sgdc_up = dmp_first_classifier(sgdc, X_train_up_pr, y_train_up, X_tst_up_pr, y_test, parameters)\n"
   ],
   "metadata": {
    "collapsed": false,
    "ExecuteTime": {
     "end_time": "2024-02-25T23:47:25.417117Z",
     "start_time": "2024-02-25T23:47:16.927799Z"
    }
   },
   "id": "c6cb436c54a495cf"
  },
  {
   "cell_type": "code",
   "execution_count": 32,
   "outputs": [
    {
     "name": "stdout",
     "output_type": "stream",
     "text": [
      "Model <class 'sklearn.tree._classes.DecisionTreeClassifier'>\n",
      "Best CV params {'criterion': 'gini', 'min_samples_leaf': 1}\n",
      "Test accuracy of best grid search hypers: 0.8719795025842647\n"
     ]
    }
   ],
   "source": [
    "from sklearn.tree import DecisionTreeClassifier\n",
    "dtc = DecisionTreeClassifier\n",
    "parameters = {'criterion':['gini','log_loss'],'min_samples_leaf':[1,5,10,20]}\n",
    "best_dtc_up = dmp_first_classifier(dtc, X_train_up_pr, y_train_up, X_tst_up_pr, y_test, parameters)"
   ],
   "metadata": {
    "collapsed": false,
    "ExecuteTime": {
     "end_time": "2024-02-25T23:55:07.750084Z",
     "start_time": "2024-02-25T23:47:30.096115Z"
    }
   },
   "id": "f048355d8ea9b51c"
  },
  {
   "cell_type": "code",
   "execution_count": 36,
   "outputs": [
    {
     "name": "stdout",
     "output_type": "stream",
     "text": [
      "Model <class 'sklearn.neighbors._classification.KNeighborsClassifier'>\n",
      "Best CV params {'n_neighbors': 5}\n",
      "Test accuracy of best grid search hypers: 0.9044263815876662\n"
     ]
    }
   ],
   "source": [
    "from sklearn.neighbors import KNeighborsClassifier\n",
    "knc = KNeighborsClassifier\n",
    "parameters = {'n_neighbors':[5,10,50]}\n",
    "best_knc_up = dmp_first_classifier(knc, X_train_up_pr, y_train_up, X_tst_up_pr, y_test, parameters)"
   ],
   "metadata": {
    "collapsed": false,
    "ExecuteTime": {
     "end_time": "2024-02-26T01:09:00.706167Z",
     "start_time": "2024-02-26T00:00:12.722502Z"
    }
   },
   "id": "2b906a02894bdff6"
  },
  {
   "cell_type": "markdown",
   "source": [
    "## The best models with upscaling"
   ],
   "metadata": {
    "collapsed": false
   },
   "id": "acdb37bef18658cb"
  },
  {
   "cell_type": "code",
   "execution_count": 37,
   "outputs": [
    {
     "name": "stdout",
     "output_type": "stream",
     "text": [
      "0.8719795025842647\n",
      "0.6973322454503689\n",
      "[[37567  3864]\n",
      " [ 1932  1911]]\n",
      "              precision    recall  f1-score   support\n",
      "\n",
      "           0       0.95      0.91      0.93     41431\n",
      "           1       0.33      0.50      0.40      3843\n",
      "\n",
      "    accuracy                           0.87     45274\n",
      "   macro avg       0.64      0.70      0.66     45274\n",
      "weighted avg       0.90      0.87      0.88     45274\n"
     ]
    }
   ],
   "source": [
    "score_model(best_dtc_up, X_tst_up_pr, y_test)"
   ],
   "metadata": {
    "collapsed": false,
    "ExecuteTime": {
     "end_time": "2024-02-26T01:09:30.062443Z",
     "start_time": "2024-02-26T01:09:29.923568Z"
    }
   },
   "id": "3b6446df49186e3e"
  },
  {
   "cell_type": "code",
   "execution_count": 42,
   "outputs": [
    {
     "name": "stdout",
     "output_type": "stream",
     "text": [
      "0.8225250695763573\n",
      "0.9087978311025835\n",
      "[[33992  7439]\n",
      " [  596  3247]]\n",
      "              precision    recall  f1-score   support\n",
      "\n",
      "           0       0.98      0.82      0.89     41431\n",
      "           1       0.30      0.84      0.45      3843\n",
      "\n",
      "    accuracy                           0.82     45274\n",
      "   macro avg       0.64      0.83      0.67     45274\n",
      "weighted avg       0.93      0.82      0.86     45274\n"
     ]
    }
   ],
   "source": [
    "score_model(best_sgdc_up, X_tst_up_pr, y_test)"
   ],
   "metadata": {
    "collapsed": false,
    "ExecuteTime": {
     "end_time": "2024-02-26T01:18:16.414573Z",
     "start_time": "2024-02-26T01:18:16.282867Z"
    }
   },
   "id": "6629deb655724577"
  },
  {
   "cell_type": "code",
   "execution_count": 39,
   "outputs": [
    {
     "name": "stdout",
     "output_type": "stream",
     "text": [
      "0.8238945089897071\n",
      "0.9091941962851962\n",
      "[[34059  7372]\n",
      " [  601  3242]]\n",
      "              precision    recall  f1-score   support\n",
      "\n",
      "           0       0.98      0.82      0.90     41431\n",
      "           1       0.31      0.84      0.45      3843\n",
      "\n",
      "    accuracy                           0.82     45274\n",
      "   macro avg       0.64      0.83      0.67     45274\n",
      "weighted avg       0.93      0.82      0.86     45274\n"
     ]
    }
   ],
   "source": [
    "score_model(best_lrg_up, X_tst_up_pr, y_test)"
   ],
   "metadata": {
    "collapsed": false,
    "ExecuteTime": {
     "end_time": "2024-02-26T01:09:35.889621Z",
     "start_time": "2024-02-26T01:09:35.726722Z"
    }
   },
   "id": "30e806e7a2dea6bc"
  },
  {
   "cell_type": "code",
   "execution_count": 44,
   "outputs": [
    {
     "name": "stdout",
     "output_type": "stream",
     "text": [
      "0.9044263815876662\n",
      "0.6953995938420368\n",
      "[[39604  1827]\n",
      " [ 2500  1343]]\n",
      "              precision    recall  f1-score   support\n",
      "\n",
      "           0       0.94      0.96      0.95     41431\n",
      "           1       0.42      0.35      0.38      3843\n",
      "\n",
      "    accuracy                           0.90     45274\n",
      "   macro avg       0.68      0.65      0.67     45274\n",
      "weighted avg       0.90      0.90      0.90     45274\n"
     ]
    }
   ],
   "source": [
    "score_model(best_knc_up, X_tst_up_pr, y_test)"
   ],
   "metadata": {
    "collapsed": false,
    "ExecuteTime": {
     "end_time": "2024-02-26T01:33:01.684545Z",
     "start_time": "2024-02-26T01:20:27.748212Z"
    }
   },
   "id": "dc451c6fbd12622b"
  },
  {
   "cell_type": "markdown",
   "source": [
    "## Compair with best models without upscaling"
   ],
   "metadata": {
    "collapsed": false
   },
   "id": "ef03ebe979a2d136"
  },
  {
   "cell_type": "code",
   "execution_count": 41,
   "outputs": [
    {
     "name": "stdout",
     "output_type": "stream",
     "text": [
      "0.9307107832309935\n",
      "0.9085002416132468\n",
      "[[40587   844]\n",
      " [ 2293  1550]]\n",
      "              precision    recall  f1-score   support\n",
      "\n",
      "           0       0.95      0.98      0.96     41431\n",
      "           1       0.65      0.40      0.50      3843\n",
      "\n",
      "    accuracy                           0.93     45274\n",
      "   macro avg       0.80      0.69      0.73     45274\n",
      "weighted avg       0.92      0.93      0.92     45274\n"
     ]
    }
   ],
   "source": [
    "score_model(best_sgdc, X_tst_pr, y_test)"
   ],
   "metadata": {
    "collapsed": false,
    "ExecuteTime": {
     "end_time": "2024-02-26T01:13:58.661365Z",
     "start_time": "2024-02-26T01:13:58.537043Z"
    }
   },
   "id": "ee33a65a37fc2252"
  },
  {
   "cell_type": "code",
   "execution_count": 45,
   "outputs": [],
   "source": [
    "import pickle\n",
    "# save the model to disk\n",
    "filename = 'prod_model_lrg_up.pkl'\n",
    "pickle.dump(best_lrg_up, open(filename, 'wb'))"
   ],
   "metadata": {
    "collapsed": false,
    "ExecuteTime": {
     "end_time": "2024-02-26T01:35:12.974956Z",
     "start_time": "2024-02-26T01:35:12.932575Z"
    }
   },
   "id": "60c56ee463bc0541"
  },
  {
   "cell_type": "code",
   "execution_count": 46,
   "outputs": [],
   "source": [
    "# save the model to disk\n",
    "filename = 'prod_model_sgdc.pkl'\n",
    "pickle.dump(best_sgdc, open(filename, 'wb'))"
   ],
   "metadata": {
    "collapsed": false,
    "ExecuteTime": {
     "end_time": "2024-02-26T01:35:13.853416Z",
     "start_time": "2024-02-26T01:35:13.807162Z"
    }
   },
   "id": "610df6e7450826ab"
  },
  {
   "cell_type": "code",
   "execution_count": null,
   "outputs": [],
   "source": [],
   "metadata": {
    "collapsed": false
   },
   "id": "c1a4e07fa96765c7"
  },
  {
   "cell_type": "code",
   "execution_count": null,
   "outputs": [],
   "source": [],
   "metadata": {
    "collapsed": false
   },
   "id": "e2051b99ebefb06e"
  },
  {
   "cell_type": "code",
   "execution_count": null,
   "outputs": [],
   "source": [],
   "metadata": {
    "collapsed": false
   },
   "id": "10eb8ea58c5dd5be"
  },
  {
   "cell_type": "code",
   "execution_count": 47,
   "outputs": [],
   "source": [
    "y_score = best_sgdc.predict_proba(X_tst_pr)"
   ],
   "metadata": {
    "collapsed": false,
    "ExecuteTime": {
     "end_time": "2024-02-26T01:36:04.740578Z",
     "start_time": "2024-02-26T01:36:04.693371Z"
    }
   },
   "id": "a568f6d37edb6d65"
  },
  {
   "cell_type": "code",
   "execution_count": 49,
   "outputs": [
    {
     "data": {
      "text/plain": "<Figure size 640x480 with 1 Axes>",
      "image/png": "[encoded data removed]"
     },
     "metadata": {},
     "output_type": "display_data"
    }
   ],
   "source": [
    "from sklearn.metrics import RocCurveDisplay\n",
    "\n",
    "display = RocCurveDisplay.from_predictions(\n",
    "    y_test[:],\n",
    "    y_score[:,1],\n",
    "    name=f\" vs the rest\",\n",
    "    color=\"darkorange\",\n",
    "    plot_chance_level=True,\n",
    ")\n",
    "_ = display.ax_.set(\n",
    "    xlabel=\"False Positive Rate\",\n",
    "    ylabel=\"True Positive Rate\",\n",
    "    title=\"Above-vs-Below ROC curves (SGD - original data)\",\n",
    ")"
   ],
   "metadata": {
    "collapsed": false,
    "ExecuteTime": {
     "end_time": "2024-02-26T01:37:06.161859Z",
     "start_time": "2024-02-26T01:37:05.794970Z"
    }
   },
   "id": "f289e0e0eb9eda09"
  },
  {
   "cell_type": "code",
   "execution_count": 51,
   "outputs": [],
   "source": [
    "y_score_up = best_lrg_up.predict_proba(X_tst_up_pr)"
   ],
   "metadata": {
    "collapsed": false,
    "ExecuteTime": {
     "end_time": "2024-02-26T01:38:35.883092Z",
     "start_time": "2024-02-26T01:38:35.841944Z"
    }
   },
   "id": "5661733a32fd6c92"
  },
  {
   "cell_type": "code",
   "execution_count": 52,
   "outputs": [
    {
     "data": {
      "text/plain": "<Figure size 640x480 with 1 Axes>",
      "image/png": "[encoded data removed]"
     },
     "metadata": {},
     "output_type": "display_data"
    }
   ],
   "source": [
    "display = RocCurveDisplay.from_predictions(\n",
    "    y_test[:],\n",
    "    y_score_up[:,1],\n",
    "    name=f\" vs the rest\",\n",
    "    color=\"darkorange\",\n",
    "    plot_chance_level=True,\n",
    ")\n",
    "_ = display.ax_.set(\n",
    "    xlabel=\"False Positive Rate\",\n",
    "    ylabel=\"True Positive Rate\",\n",
    "    title=\"Above-vs-Below ROC curves (LogisticRegression - upscaled data)\",\n",
    ")"
   ],
   "metadata": {
    "collapsed": false,
    "ExecuteTime": {
     "end_time": "2024-02-26T01:38:36.954441Z",
     "start_time": "2024-02-26T01:38:36.570607Z"
    }
   },
   "id": "5652a8457915fa65"
  },
  {
   "cell_type": "code",
   "execution_count": null,
   "outputs": [],
   "source": [],
   "metadata": {
    "collapsed": false
   },
   "id": "4b13976e07c02e03"
  }
 ],
 "metadata": {
  "kernelspec": {
   "display_name": "Python 3",
   "language": "python",
   "name": "python3"
  },
  "language_info": {
   "codemirror_mode": {
    "name": "ipython",
    "version": 2
   },
   "file_extension": ".py",
   "mimetype": "text/x-python",
   "name": "python",
   "nbconvert_exporter": "python",
   "pygments_lexer": "ipython2",
   "version": "2.7.6"
  }
 },
 "nbformat": 4,
 "nbformat_minor": 5
}
